{
 "cells": [
  {
   "cell_type": "markdown",
   "id": "20e80abf-6ca2-48b4-b646-455c8d4f7507",
   "metadata": {},
   "source": [
    "# iNaturalist Lab"
   ]
  },
  {
   "cell_type": "code",
   "execution_count": 1,
   "id": "39500cd4-f29e-4394-9441-689d0fcda9bd",
   "metadata": {},
   "outputs": [
    {
     "name": "stderr",
     "output_type": "stream",
     "text": [
      "2022-03-01 23:52:20.421080: W tensorflow/stream_executor/platform/default/dso_loader.cc:64] Could not load dynamic library 'libcudart.so.11.0'; dlerror: libcudart.so.11.0: cannot open shared object file: No such file or directory; LD_LIBRARY_PATH: /opt/R/4.0.5/lib/R/lib::/lib:/usr/local/lib:/usr/lib/x86_64-linux-gnu:/usr/lib/jvm/java-11-openjdk-amd64/lib/server\n",
      "2022-03-01 23:52:20.421144: I tensorflow/stream_executor/cuda/cudart_stub.cc:29] Ignore above cudart dlerror if you do not have a GPU set up on your machine.\n"
     ]
    },
    {
     "data": {
      "text/plain": [
       "'2.6.0'"
      ]
     },
     "execution_count": 1,
     "metadata": {},
     "output_type": "execute_result"
    }
   ],
   "source": [
    "import keras\n",
    "import tensorflow.keras\n",
    "import os\n",
    "from os import listdir\n",
    "import shutil\n",
    "from random import sample\n",
    "import pandas as pd\n",
    "from tensorflow.keras import optimizers\n",
    "from tensorflow.keras import losses\n",
    "from tensorflow.keras import metrics\n",
    "import matplotlib.pyplot as plt\n",
    "keras.__version__"
   ]
  },
  {
   "cell_type": "markdown",
   "id": "4a4ef5f8-1a54-40f1-ae70-8a260d04de25",
   "metadata": {
    "tags": []
   },
   "source": [
    "## Data\n",
    "\n",
    "The data for this project was compiled into `inat` directory using the `lab4-preprocessing.R` RScript. "
   ]
  },
  {
   "cell_type": "code",
   "execution_count": 2,
   "id": "38b94b84-b6ac-4be2-a748-4c17dae1c17a",
   "metadata": {},
   "outputs": [],
   "source": [
    "base_dir = '/Users/palomacartwright/EDS232-mine/eds232-lab4/inat'"
   ]
  },
  {
   "cell_type": "markdown",
   "id": "4285dd2f-459a-445d-ade1-6d5105b75a55",
   "metadata": {
    "tags": []
   },
   "source": [
    "# **2 Species (binary classification) - neural net.** \n",
    "Draw from 3.4 🍿 Movies (binary classification). \n",
    "\n",
    "You’ll need to pre-process the images to be a consistent shape first though – see 5.2.4 Data preprocessing."
   ]
  },
  {
   "cell_type": "code",
   "execution_count": 3,
   "id": "0c067f51-9548-4951-a3e2-ade38472fc6f",
   "metadata": {},
   "outputs": [
    {
     "name": "stdout",
     "output_type": "stream",
     "text": [
      "Found 60 images belonging to 2 classes.\n",
      "Found 20 images belonging to 2 classes.\n"
     ]
    }
   ],
   "source": [
    "train_dir = os.path.join(base_dir, 'spp2/train')\n",
    "validation_dir = os.path.join(base_dir, 'spp2/validation')\n",
    "test_dir = os.path.join(base_dir, 'spp2/test')\n",
    "\n",
    "from keras.preprocessing.image import ImageDataGenerator\n",
    "\n",
    "# All images will be rescaled by 1./255\n",
    "train_datagen = ImageDataGenerator(rescale=1./255)\n",
    "test_datagen = ImageDataGenerator(rescale=1./255)\n",
    "\n",
    "train_generator = train_datagen.flow_from_directory(\n",
    "        # This is the target directory\n",
    "        train_dir,\n",
    "        # All images will be resized to 150x150\n",
    "        target_size=(150, 150),\n",
    "        batch_size=4,\n",
    "        # Since we use binary_crossentropy loss, we need binary labels\n",
    "        class_mode='binary')\n",
    "\n",
    "validation_generator = test_datagen.flow_from_directory(\n",
    "        validation_dir,\n",
    "        target_size=(150, 150),\n",
    "        batch_size=4,\n",
    "        class_mode='binary')\n"
   ]
  },
  {
   "cell_type": "code",
   "execution_count": 4,
   "id": "1fe7412f-3ec9-48c9-8044-c1ebb37cc5e4",
   "metadata": {},
   "outputs": [
    {
     "name": "stdout",
     "output_type": "stream",
     "text": [
      "data batch shape: (4, 150, 150, 3)\n",
      "labels batch shape: (4,)\n"
     ]
    }
   ],
   "source": [
    "\n",
    "for data_batch, labels_batch in train_generator:\n",
    "    print('data batch shape:', data_batch.shape)\n",
    "    print('labels batch shape:', labels_batch.shape)\n",
    "    break"
   ]
  },
  {
   "cell_type": "markdown",
   "id": "5ebc76bc-1007-4a67-949a-2862218aa504",
   "metadata": {},
   "source": [
    "## Neural Net Modelling"
   ]
  },
  {
   "cell_type": "code",
   "execution_count": 5,
   "id": "4554788f-75cd-46f6-8fd2-c96397a37679",
   "metadata": {},
   "outputs": [
    {
     "name": "stderr",
     "output_type": "stream",
     "text": [
      "2022-03-01 23:53:13.764685: W tensorflow/stream_executor/platform/default/dso_loader.cc:64] Could not load dynamic library 'libcuda.so.1'; dlerror: libcuda.so.1: cannot open shared object file: No such file or directory; LD_LIBRARY_PATH: /opt/R/4.0.5/lib/R/lib::/lib:/usr/local/lib:/usr/lib/x86_64-linux-gnu:/usr/lib/jvm/java-11-openjdk-amd64/lib/server\n",
      "2022-03-01 23:53:13.764718: W tensorflow/stream_executor/cuda/cuda_driver.cc:269] failed call to cuInit: UNKNOWN ERROR (303)\n",
      "2022-03-01 23:53:13.764738: I tensorflow/stream_executor/cuda/cuda_diagnostics.cc:156] kernel driver does not appear to be running on this host (taylor): /proc/driver/nvidia/version does not exist\n",
      "2022-03-01 23:53:13.765104: I tensorflow/core/platform/cpu_feature_guard.cc:142] This TensorFlow binary is optimized with oneAPI Deep Neural Network Library (oneDNN) to use the following CPU instructions in performance-critical operations:  AVX2 AVX512F FMA\n",
      "To enable them in other operations, rebuild TensorFlow with the appropriate compiler flags.\n"
     ]
    }
   ],
   "source": [
    "from keras import models\n",
    "from keras import layers\n",
    "\n",
    "model = models.Sequential()\n",
    "model.add(layers.Dense(16, activation='relu', input_shape=(150, 150, 3)))\n",
    "model.add(layers.Flatten())\n",
    "model.add(layers.Dense(16, activation='relu'))\n",
    "model.add(layers.Dense(1, activation='sigmoid'))"
   ]
  },
  {
   "cell_type": "code",
   "execution_count": 6,
   "id": "82d11ccf-6426-432d-b592-6096089ca5b6",
   "metadata": {},
   "outputs": [
    {
     "name": "stdout",
     "output_type": "stream",
     "text": [
      "Model: \"sequential\"\n",
      "_________________________________________________________________\n",
      "Layer (type)                 Output Shape              Param #   \n",
      "=================================================================\n",
      "dense (Dense)                (None, 150, 150, 16)      64        \n",
      "_________________________________________________________________\n",
      "flatten (Flatten)            (None, 360000)            0         \n",
      "_________________________________________________________________\n",
      "dense_1 (Dense)              (None, 16)                5760016   \n",
      "_________________________________________________________________\n",
      "dense_2 (Dense)              (None, 1)                 17        \n",
      "=================================================================\n",
      "Total params: 5,760,097\n",
      "Trainable params: 5,760,097\n",
      "Non-trainable params: 0\n",
      "_________________________________________________________________\n"
     ]
    }
   ],
   "source": [
    "# optimizing and choosing loss function \n",
    "model.compile(optimizer='rmsprop',\n",
    "              loss='binary_crossentropy',\n",
    "              metrics=['accuracy'])\n",
    "model.summary()"
   ]
  },
  {
   "cell_type": "markdown",
   "id": "930c960f-dfdc-4e53-a8f7-e093e076db35",
   "metadata": {},
   "source": [
    "## Validation"
   ]
  },
  {
   "cell_type": "code",
   "execution_count": 7,
   "id": "245c2420-241b-4fdd-b7b5-c53bde117b4e",
   "metadata": {},
   "outputs": [
    {
     "name": "stderr",
     "output_type": "stream",
     "text": [
      "2022-03-01 23:53:28.128141: I tensorflow/compiler/mlir/mlir_graph_optimization_pass.cc:185] None of the MLIR Optimization Passes are enabled (registered 2)\n"
     ]
    },
    {
     "name": "stdout",
     "output_type": "stream",
     "text": [
      "Epoch 1/40\n",
      "5/5 [==============================] - 2s 211ms/step - loss: 47.7986 - accuracy: 0.5000 - val_loss: 35.9290 - val_accuracy: 0.5000\n",
      "Epoch 2/40\n",
      "5/5 [==============================] - 0s 66ms/step - loss: 47.0723 - accuracy: 0.4500 - val_loss: 4.9425 - val_accuracy: 0.7000\n",
      "Epoch 3/40\n",
      "5/5 [==============================] - 0s 77ms/step - loss: 14.0444 - accuracy: 0.6000 - val_loss: 72.5436 - val_accuracy: 0.5000\n",
      "Epoch 4/40\n",
      "5/5 [==============================] - 0s 62ms/step - loss: 15.5702 - accuracy: 0.7000 - val_loss: 11.2169 - val_accuracy: 0.6500\n",
      "Epoch 5/40\n",
      "5/5 [==============================] - 0s 68ms/step - loss: 16.7416 - accuracy: 0.6000 - val_loss: 50.1513 - val_accuracy: 0.5000\n",
      "Epoch 6/40\n",
      "5/5 [==============================] - 0s 69ms/step - loss: 4.8149 - accuracy: 0.8500 - val_loss: 27.5354 - val_accuracy: 0.5000\n",
      "Epoch 7/40\n",
      "5/5 [==============================] - 1s 122ms/step - loss: 14.4418 - accuracy: 0.6000 - val_loss: 14.6371 - val_accuracy: 0.6000\n",
      "Epoch 8/40\n",
      "5/5 [==============================] - 0s 73ms/step - loss: 3.1448 - accuracy: 0.9000 - val_loss: 60.1297 - val_accuracy: 0.5000\n",
      "Epoch 9/40\n",
      "5/5 [==============================] - 0s 71ms/step - loss: 18.5799 - accuracy: 0.6000 - val_loss: 27.9684 - val_accuracy: 0.5000\n",
      "Epoch 10/40\n",
      "5/5 [==============================] - 0s 68ms/step - loss: 6.4450 - accuracy: 0.8000 - val_loss: 29.2894 - val_accuracy: 0.5000\n",
      "Epoch 11/40\n",
      "5/5 [==============================] - 0s 89ms/step - loss: 31.6952 - accuracy: 0.4000 - val_loss: 6.5970 - val_accuracy: 0.7500\n",
      "Epoch 12/40\n",
      "5/5 [==============================] - 0s 64ms/step - loss: 10.7117 - accuracy: 0.5000 - val_loss: 5.8755 - val_accuracy: 0.7500\n",
      "Epoch 13/40\n",
      "5/5 [==============================] - 0s 67ms/step - loss: 0.4901 - accuracy: 0.9000 - val_loss: 5.6708 - val_accuracy: 0.7500\n",
      "Epoch 14/40\n",
      "5/5 [==============================] - 0s 86ms/step - loss: 0.0018 - accuracy: 1.0000 - val_loss: 5.3518 - val_accuracy: 0.7500\n",
      "Epoch 15/40\n",
      "5/5 [==============================] - 0s 78ms/step - loss: 0.0198 - accuracy: 1.0000 - val_loss: 3.7917 - val_accuracy: 0.8500\n",
      "Epoch 16/40\n",
      "5/5 [==============================] - 0s 77ms/step - loss: 4.7583e-10 - accuracy: 1.0000 - val_loss: 3.7917 - val_accuracy: 0.8500\n",
      "Epoch 17/40\n",
      "5/5 [==============================] - 0s 77ms/step - loss: 1.1852e-06 - accuracy: 1.0000 - val_loss: 3.7918 - val_accuracy: 0.8500\n",
      "Epoch 18/40\n",
      "5/5 [==============================] - 0s 71ms/step - loss: 8.0628e-07 - accuracy: 1.0000 - val_loss: 3.7920 - val_accuracy: 0.8500\n",
      "Epoch 19/40\n",
      "5/5 [==============================] - 0s 51ms/step - loss: 3.7591e-07 - accuracy: 1.0000 - val_loss: 3.7920 - val_accuracy: 0.8500\n",
      "Epoch 20/40\n",
      "5/5 [==============================] - 0s 61ms/step - loss: 3.7540e-07 - accuracy: 1.0000 - val_loss: 3.7921 - val_accuracy: 0.8500\n",
      "Epoch 21/40\n",
      "5/5 [==============================] - 0s 62ms/step - loss: 3.7503e-07 - accuracy: 1.0000 - val_loss: 3.7921 - val_accuracy: 0.8500\n",
      "Epoch 22/40\n",
      "5/5 [==============================] - 0s 59ms/step - loss: 5.7962e-10 - accuracy: 1.0000 - val_loss: 3.7921 - val_accuracy: 0.8500\n",
      "Epoch 23/40\n",
      "5/5 [==============================] - 0s 62ms/step - loss: 1.1740e-06 - accuracy: 1.0000 - val_loss: 3.7927 - val_accuracy: 0.8500\n",
      "Epoch 24/40\n",
      "5/5 [==============================] - 0s 54ms/step - loss: 1.0401e-09 - accuracy: 1.0000 - val_loss: 3.7927 - val_accuracy: 0.8500\n",
      "Epoch 25/40\n",
      "5/5 [==============================] - 0s 58ms/step - loss: 1.5715e-11 - accuracy: 1.0000 - val_loss: 3.7927 - val_accuracy: 0.8500\n",
      "Epoch 26/40\n",
      "5/5 [==============================] - 0s 58ms/step - loss: 7.8885e-07 - accuracy: 1.0000 - val_loss: 3.7939 - val_accuracy: 0.8500\n",
      "Epoch 27/40\n",
      "5/5 [==============================] - 0s 47ms/step - loss: 4.5579e-18 - accuracy: 1.0000 - val_loss: 3.7939 - val_accuracy: 0.8500\n",
      "Epoch 28/40\n",
      "5/5 [==============================] - 0s 58ms/step - loss: 5.9597e-10 - accuracy: 1.0000 - val_loss: 3.7939 - val_accuracy: 0.8500\n",
      "Epoch 29/40\n",
      "5/5 [==============================] - 0s 59ms/step - loss: 3.6958e-07 - accuracy: 1.0000 - val_loss: 3.7945 - val_accuracy: 0.8500\n",
      "Epoch 30/40\n",
      "5/5 [==============================] - 0s 63ms/step - loss: 3.6414e-07 - accuracy: 1.0000 - val_loss: 3.7951 - val_accuracy: 0.8500\n",
      "Epoch 31/40\n",
      "5/5 [==============================] - 0s 68ms/step - loss: 1.0987e-06 - accuracy: 1.0000 - val_loss: 3.8002 - val_accuracy: 0.8500\n",
      "Epoch 32/40\n",
      "5/5 [==============================] - 0s 64ms/step - loss: 1.1361e-10 - accuracy: 1.0000 - val_loss: 3.8002 - val_accuracy: 0.8500\n",
      "Epoch 33/40\n",
      "5/5 [==============================] - 0s 67ms/step - loss: 1.0043e-06 - accuracy: 1.0000 - val_loss: 3.8083 - val_accuracy: 0.8500\n",
      "Epoch 34/40\n",
      "5/5 [==============================] - 0s 53ms/step - loss: 3.1697e-07 - accuracy: 1.0000 - val_loss: 3.8104 - val_accuracy: 0.8500\n",
      "Epoch 35/40\n",
      "5/5 [==============================] - 0s 83ms/step - loss: 3.0316e-07 - accuracy: 1.0000 - val_loss: 3.8129 - val_accuracy: 0.8500\n",
      "Epoch 36/40\n",
      "5/5 [==============================] - 0s 47ms/step - loss: 2.8775e-07 - accuracy: 1.0000 - val_loss: 3.8161 - val_accuracy: 0.8500\n",
      "Epoch 37/40\n",
      "5/5 [==============================] - 0s 62ms/step - loss: 4.8818e-07 - accuracy: 1.0000 - val_loss: 3.8300 - val_accuracy: 0.8500\n",
      "Epoch 38/40\n",
      "5/5 [==============================] - 0s 63ms/step - loss: 2.4746e-07 - accuracy: 1.0000 - val_loss: 3.8340 - val_accuracy: 0.8000\n",
      "Epoch 39/40\n",
      "5/5 [==============================] - 0s 65ms/step - loss: 8.4115e-10 - accuracy: 1.0000 - val_loss: 3.8340 - val_accuracy: 0.8000\n",
      "Epoch 40/40\n",
      "5/5 [==============================] - 0s 57ms/step - loss: 2.2870e-07 - accuracy: 1.0000 - val_loss: 3.8405 - val_accuracy: 0.8000\n"
     ]
    }
   ],
   "source": [
    "# Model Fit \n",
    "\n",
    "history = model.fit(train_generator,\n",
    "                    steps_per_epoch=5,\n",
    "                    epochs=40,\n",
    "                    validation_data=validation_generator,\n",
    "                    validation_steps = 5)"
   ]
  },
  {
   "cell_type": "code",
   "execution_count": 8,
   "id": "834ab68e-fed3-48f3-b248-e19355760997",
   "metadata": {},
   "outputs": [
    {
     "data": {
      "text/plain": [
       "dict_keys(['loss', 'accuracy', 'val_loss', 'val_accuracy'])"
      ]
     },
     "execution_count": 8,
     "metadata": {},
     "output_type": "execute_result"
    }
   ],
   "source": [
    "history_dict = history.history\n",
    "history_dict.keys()"
   ]
  },
  {
   "cell_type": "code",
   "execution_count": 9,
   "id": "c34df355-2a20-47d9-b7ae-c6adde038b14",
   "metadata": {},
   "outputs": [],
   "source": [
    "acc = history.history['accuracy']\n",
    "val_acc = history.history['val_accuracy']\n",
    "loss = history.history['loss']\n",
    "val_loss = history.history['val_loss']\n",
    "\n",
    "epochs = range(1, len(acc) + 1)"
   ]
  },
  {
   "cell_type": "code",
   "execution_count": 10,
   "id": "f5b19f44-5cb1-4329-b5b3-c3a9ccef8473",
   "metadata": {},
   "outputs": [
    {
     "data": {
      "image/png": "[encoded data removed]",
      "text/plain": [
       "<Figure size 432x288 with 1 Axes>"
      ]
     },
     "metadata": {
      "needs_background": "light"
     },
     "output_type": "display_data"
    },
    {
     "data": {
      "image/png": "[encoded data removed]",
      "text/plain": [
       "<Figure size 432x288 with 1 Axes>"
      ]
     },
     "metadata": {
      "needs_background": "light"
     },
     "output_type": "display_data"
    }
   ],
   "source": [
    "# Plots\n",
    "plt.plot(epochs, acc, 'bo', label='Training Accuracy')\n",
    "# b is for \"solid blue line\"\n",
    "plt.plot(epochs, val_acc, 'b', label='Validation Accuracy')\n",
    "plt.title('Training and validation Accuracy')\n",
    "plt.xlabel('Epochs')\n",
    "plt.ylabel('Accuracy')\n",
    "plt.legend()\n",
    "\n",
    "plt.show()\n",
    "\n",
    "\n",
    "# \"bo\" is for \"blue dot\"\n",
    "plt.plot(epochs, loss, 'bo', label='Training loss')\n",
    "# b is for \"solid blue line\"\n",
    "plt.plot(epochs, val_loss, 'b', label='Validation loss')\n",
    "plt.title('Training and validation loss')\n",
    "plt.xlabel('Epochs')\n",
    "plt.ylabel('Loss')\n",
    "plt.legend()\n",
    "\n",
    "plt.show()"
   ]
  },
  {
   "cell_type": "code",
   "execution_count": 12,
   "id": "0d60fb22-3382-4411-8419-9d167e526f12",
   "metadata": {},
   "outputs": [
    {
     "name": "stdout",
     "output_type": "stream",
     "text": [
      "Found 20 images belonging to 2 classes.\n"
     ]
    },
    {
     "name": "stderr",
     "output_type": "stream",
     "text": [
      "/opt/python/3.7.7/lib/python3.7/site-packages/keras/engine/training.py:2006: UserWarning: `Model.evaluate_generator` is deprecated and will be removed in a future version. Please use `Model.evaluate`, which supports generators.\n",
      "  warnings.warn('`Model.evaluate_generator` is deprecated and '\n"
     ]
    },
    {
     "name": "stdout",
     "output_type": "stream",
     "text": [
      "test_acc: 0.800000011920929\n",
      "test_loss: 5.312117099761963\n"
     ]
    }
   ],
   "source": [
    "test_generator = test_datagen.flow_from_directory(\n",
    "        test_dir, \n",
    "        target_size = (150, 150), \n",
    "        batch_size = 4, \n",
    "        class_mode = 'binary')\n",
    "\n",
    "test_loss, test_acc = model.evaluate_generator(test_generator, steps = 5)\n",
    "print(\"test_acc:\", test_acc)\n",
    "print(\"test_loss:\", test_loss)"
   ]
  },
  {
   "cell_type": "markdown",
   "id": "9d3b2f42-2c45-4b6d-a278-ee38978751e6",
   "metadata": {},
   "source": [
    "## **2 Species (binary classification) - convolutional neural net.**\n"
   ]
  },
  {
   "cell_type": "markdown",
   "id": "33e4944b-120c-4fed-9cc9-79f6b2caf6bd",
   "metadata": {},
   "source": [
    "## Build the Convolutional Neural Net Model"
   ]
  },
  {
   "cell_type": "code",
   "execution_count": 13,
   "id": "cd2dca23-c79b-41e9-8555-5c3088344ff4",
   "metadata": {},
   "outputs": [],
   "source": [
    "model = models.Sequential()\n",
    "model.add(layers.Conv2D(32, (3, 3), activation='relu',\n",
    "                        input_shape=(150, 150, 3)))\n",
    "model.add(layers.MaxPooling2D((2, 2)))\n",
    "model.add(layers.Conv2D(64, (3, 3), activation='relu'))\n",
    "model.add(layers.MaxPooling2D((2, 2)))\n",
    "model.add(layers.Conv2D(128, (3, 3), activation='relu'))\n",
    "model.add(layers.MaxPooling2D((2, 2)))\n",
    "model.add(layers.Conv2D(128, (3, 3), activation='relu'))\n",
    "model.add(layers.MaxPooling2D((2, 2)))\n",
    "model.add(layers.Flatten())\n",
    "model.add(layers.Dropout(0.5))\n",
    "model.add(layers.Dense(512, activation='relu'))\n",
    "model.add(layers.Dense(1, activation='sigmoid'))"
   ]
  },
  {
   "cell_type": "markdown",
   "id": "acec1017-14e0-4879-9388-113a172fab2c",
   "metadata": {},
   "source": [
    "## Compile the Model"
   ]
  },
  {
   "cell_type": "code",
   "execution_count": 14,
   "id": "ea3fc42a-db98-49e8-b476-277ee57fb4f3",
   "metadata": {},
   "outputs": [],
   "source": [
    "model.compile(loss='binary_crossentropy',\n",
    "              optimizer=optimizers.RMSprop(learning_rate=1e-4),\n",
    "              metrics=['acc'])"
   ]
  },
  {
   "cell_type": "code",
   "execution_count": 15,
   "id": "b0e0cb71-29d6-4d17-bdb3-d23b45e0bb5d",
   "metadata": {},
   "outputs": [
    {
     "name": "stdout",
     "output_type": "stream",
     "text": [
      "Model: \"sequential_1\"\n",
      "_________________________________________________________________\n",
      "Layer (type)                 Output Shape              Param #   \n",
      "=================================================================\n",
      "conv2d (Conv2D)              (None, 148, 148, 32)      896       \n",
      "_________________________________________________________________\n",
      "max_pooling2d (MaxPooling2D) (None, 74, 74, 32)        0         \n",
      "_________________________________________________________________\n",
      "conv2d_1 (Conv2D)            (None, 72, 72, 64)        18496     \n",
      "_________________________________________________________________\n",
      "max_pooling2d_1 (MaxPooling2 (None, 36, 36, 64)        0         \n",
      "_________________________________________________________________\n",
      "conv2d_2 (Conv2D)            (None, 34, 34, 128)       73856     \n",
      "_________________________________________________________________\n",
      "max_pooling2d_2 (MaxPooling2 (None, 17, 17, 128)       0         \n",
      "_________________________________________________________________\n",
      "conv2d_3 (Conv2D)            (None, 15, 15, 128)       147584    \n",
      "_________________________________________________________________\n",
      "max_pooling2d_3 (MaxPooling2 (None, 7, 7, 128)         0         \n",
      "_________________________________________________________________\n",
      "flatten_1 (Flatten)          (None, 6272)              0         \n",
      "_________________________________________________________________\n",
      "dropout (Dropout)            (None, 6272)              0         \n",
      "_________________________________________________________________\n",
      "dense_3 (Dense)              (None, 512)               3211776   \n",
      "_________________________________________________________________\n",
      "dense_4 (Dense)              (None, 1)                 513       \n",
      "=================================================================\n",
      "Total params: 3,453,121\n",
      "Trainable params: 3,453,121\n",
      "Non-trainable params: 0\n",
      "_________________________________________________________________\n"
     ]
    }
   ],
   "source": [
    "model.summary()"
   ]
  },
  {
   "cell_type": "code",
   "execution_count": 17,
   "id": "9fedcd2b-bb10-402b-bb2e-54808e751213",
   "metadata": {},
   "outputs": [
    {
     "name": "stdout",
     "output_type": "stream",
     "text": [
      "Epoch 1/40\n",
      "5/5 [==============================] - 1s 107ms/step - loss: 0.3658 - acc: 0.9000 - val_loss: 0.6984 - val_acc: 0.6500\n",
      "Epoch 2/40\n",
      "5/5 [==============================] - 1s 137ms/step - loss: 0.2888 - acc: 0.9000 - val_loss: 0.2716 - val_acc: 0.9000\n",
      "Epoch 3/40\n",
      "5/5 [==============================] - 0s 84ms/step - loss: 0.2181 - acc: 0.9500 - val_loss: 0.3819 - val_acc: 0.9000\n",
      "Epoch 4/40\n",
      "5/5 [==============================] - 0s 71ms/step - loss: 0.3618 - acc: 0.8500 - val_loss: 0.2700 - val_acc: 0.9000\n",
      "Epoch 5/40\n",
      "5/5 [==============================] - 0s 101ms/step - loss: 0.1823 - acc: 0.9500 - val_loss: 0.2781 - val_acc: 0.9000\n",
      "Epoch 6/40\n",
      "5/5 [==============================] - 0s 96ms/step - loss: 0.4097 - acc: 0.7000 - val_loss: 0.2355 - val_acc: 0.9500\n",
      "Epoch 7/40\n",
      "5/5 [==============================] - 0s 78ms/step - loss: 0.2961 - acc: 0.9000 - val_loss: 0.2410 - val_acc: 0.9000\n",
      "Epoch 8/40\n",
      "5/5 [==============================] - 0s 109ms/step - loss: 0.1584 - acc: 0.9500 - val_loss: 0.3419 - val_acc: 0.8000\n",
      "Epoch 9/40\n",
      "5/5 [==============================] - 0s 96ms/step - loss: 0.2695 - acc: 0.9000 - val_loss: 0.4658 - val_acc: 0.7000\n",
      "Epoch 10/40\n",
      "5/5 [==============================] - 0s 86ms/step - loss: 0.4647 - acc: 0.8000 - val_loss: 0.4121 - val_acc: 0.8000\n",
      "Epoch 11/40\n",
      "5/5 [==============================] - 0s 102ms/step - loss: 0.1850 - acc: 0.9500 - val_loss: 1.0112 - val_acc: 0.6000\n",
      "Epoch 12/40\n",
      "5/5 [==============================] - 0s 79ms/step - loss: 0.2764 - acc: 0.8500 - val_loss: 0.2241 - val_acc: 0.9500\n",
      "Epoch 13/40\n",
      "5/5 [==============================] - 0s 77ms/step - loss: 0.2847 - acc: 0.8500 - val_loss: 0.2070 - val_acc: 1.0000\n",
      "Epoch 14/40\n",
      "5/5 [==============================] - 0s 75ms/step - loss: 0.1024 - acc: 1.0000 - val_loss: 0.2000 - val_acc: 0.9500\n",
      "Epoch 15/40\n",
      "5/5 [==============================] - 0s 80ms/step - loss: 0.0859 - acc: 1.0000 - val_loss: 0.2069 - val_acc: 0.9000\n",
      "Epoch 16/40\n",
      "5/5 [==============================] - 0s 89ms/step - loss: 0.5197 - acc: 0.9000 - val_loss: 0.1890 - val_acc: 0.9500\n",
      "Epoch 17/40\n",
      "5/5 [==============================] - 0s 72ms/step - loss: 0.2323 - acc: 0.9000 - val_loss: 0.1895 - val_acc: 1.0000\n",
      "Epoch 18/40\n",
      "5/5 [==============================] - 0s 82ms/step - loss: 0.0786 - acc: 1.0000 - val_loss: 0.1755 - val_acc: 1.0000\n",
      "Epoch 19/40\n",
      "5/5 [==============================] - 0s 82ms/step - loss: 0.1943 - acc: 0.9000 - val_loss: 0.1733 - val_acc: 0.9500\n",
      "Epoch 20/40\n",
      "5/5 [==============================] - 1s 124ms/step - loss: 0.2272 - acc: 0.9500 - val_loss: 0.7273 - val_acc: 0.5500\n",
      "Epoch 21/40\n",
      "5/5 [==============================] - 0s 69ms/step - loss: 0.3442 - acc: 0.8500 - val_loss: 0.1783 - val_acc: 1.0000\n",
      "Epoch 22/40\n",
      "5/5 [==============================] - 0s 77ms/step - loss: 0.1848 - acc: 0.9000 - val_loss: 0.3239 - val_acc: 0.8000\n",
      "Epoch 23/40\n",
      "5/5 [==============================] - 0s 73ms/step - loss: 0.2968 - acc: 0.8500 - val_loss: 0.5649 - val_acc: 0.6000\n",
      "Epoch 24/40\n",
      "5/5 [==============================] - 0s 67ms/step - loss: 0.4376 - acc: 0.8000 - val_loss: 0.2979 - val_acc: 0.8000\n",
      "Epoch 25/40\n",
      "5/5 [==============================] - 0s 101ms/step - loss: 0.3448 - acc: 0.8500 - val_loss: 0.3274 - val_acc: 0.8000\n",
      "Epoch 26/40\n",
      "5/5 [==============================] - 0s 77ms/step - loss: 0.2291 - acc: 0.9500 - val_loss: 0.1750 - val_acc: 1.0000\n",
      "Epoch 27/40\n",
      "5/5 [==============================] - 1s 114ms/step - loss: 0.2580 - acc: 0.8500 - val_loss: 0.1701 - val_acc: 1.0000\n",
      "Epoch 28/40\n",
      "5/5 [==============================] - 0s 100ms/step - loss: 0.1373 - acc: 0.9000 - val_loss: 0.1596 - val_acc: 1.0000\n",
      "Epoch 29/40\n",
      "5/5 [==============================] - 1s 77ms/step - loss: 0.2232 - acc: 0.9000 - val_loss: 0.2034 - val_acc: 0.9000\n",
      "Epoch 30/40\n",
      "5/5 [==============================] - 0s 72ms/step - loss: 0.1945 - acc: 0.9500 - val_loss: 0.1637 - val_acc: 1.0000\n",
      "Epoch 31/40\n",
      "5/5 [==============================] - 0s 84ms/step - loss: 0.2426 - acc: 0.9000 - val_loss: 0.3717 - val_acc: 0.7500\n",
      "Epoch 32/40\n",
      "5/5 [==============================] - 0s 75ms/step - loss: 0.1422 - acc: 0.9500 - val_loss: 0.9041 - val_acc: 0.5500\n",
      "Epoch 33/40\n",
      "5/5 [==============================] - 0s 73ms/step - loss: 0.1526 - acc: 0.9500 - val_loss: 0.1597 - val_acc: 1.0000\n",
      "Epoch 34/40\n",
      "5/5 [==============================] - 0s 69ms/step - loss: 0.0536 - acc: 1.0000 - val_loss: 0.1391 - val_acc: 1.0000\n",
      "Epoch 35/40\n",
      "5/5 [==============================] - 0s 76ms/step - loss: 0.1592 - acc: 0.9000 - val_loss: 0.6619 - val_acc: 0.6000\n",
      "Epoch 36/40\n",
      "5/5 [==============================] - 0s 75ms/step - loss: 0.2301 - acc: 0.9000 - val_loss: 0.1515 - val_acc: 1.0000\n",
      "Epoch 37/40\n",
      "5/5 [==============================] - 0s 110ms/step - loss: 0.0431 - acc: 1.0000 - val_loss: 0.1557 - val_acc: 0.9000\n",
      "Epoch 38/40\n",
      "5/5 [==============================] - 0s 69ms/step - loss: 0.1399 - acc: 0.9000 - val_loss: 0.1416 - val_acc: 0.9500\n",
      "Epoch 39/40\n",
      "5/5 [==============================] - 0s 80ms/step - loss: 0.4962 - acc: 0.8500 - val_loss: 0.1438 - val_acc: 1.0000\n",
      "Epoch 40/40\n",
      "5/5 [==============================] - 0s 71ms/step - loss: 0.1151 - acc: 0.9500 - val_loss: 0.1382 - val_acc: 1.0000\n"
     ]
    }
   ],
   "source": [
    "history_2 = model.fit(train_generator,\n",
    "                   steps_per_epoch = 5,\n",
    "                   epochs = 40,\n",
    "                   validation_data = validation_generator, \n",
    "                   validation_steps = 5)"
   ]
  },
  {
   "cell_type": "markdown",
   "id": "5e96361d-5887-44c1-bfc7-f360ee99147a",
   "metadata": {},
   "source": [
    "### Accuracy and Loss "
   ]
  },
  {
   "cell_type": "code",
   "execution_count": 19,
   "id": "cd36bb4e-f23b-4ac1-9e7b-a4a488f76850",
   "metadata": {},
   "outputs": [],
   "source": [
    "acc_2 = history_2.history['acc']\n",
    "val_acc_2 = history_2.history['val_acc']\n",
    "loss_2 = history_2.history['loss']\n",
    "val_loss_2 = history_2.history['val_loss']\n",
    "\n",
    "epochs_2 = range(len(acc_2))"
   ]
  },
  {
   "cell_type": "code",
   "execution_count": 21,
   "id": "06f940cb-05e5-4287-8d54-99b6c592393e",
   "metadata": {},
   "outputs": [
    {
     "data": {
      "image/png": "[encoded data removed]",
      "text/plain": [
       "<Figure size 432x288 with 1 Axes>"
      ]
     },
     "metadata": {
      "needs_background": "light"
     },
     "output_type": "display_data"
    },
    {
     "data": {
      "image/png": "[encoded data removed]",
      "text/plain": [
       "<Figure size 432x288 with 1 Axes>"
      ]
     },
     "metadata": {
      "needs_background": "light"
     },
     "output_type": "display_data"
    }
   ],
   "source": [
    "# Plots\n",
    "plt.plot(epochs_2, acc_2, 'bo', label='Training Accuracy')\n",
    "# b is for \"solid blue line\"\n",
    "plt.plot(epochs_2, val_acc_2, 'b', label='Validation Accuracy')\n",
    "plt.title('Training and Validation Accuracy')\n",
    "plt.xlabel('Epochs')\n",
    "plt.ylabel('Accuracy')\n",
    "plt.legend()\n",
    "\n",
    "plt.show()\n",
    "\n",
    "\n",
    "# \"bo\" is for \"blue dot\"\n",
    "plt.plot(epochs_2, loss_2, 'bo', label='Training loss')\n",
    "# b is for \"solid blue line\"\n",
    "plt.plot(epochs_2, val_loss_2, 'b', label='Validation loss')\n",
    "plt.title('Training and Validation loss')\n",
    "plt.xlabel('Epochs')\n",
    "plt.ylabel('Loss')\n",
    "plt.legend()\n",
    "\n",
    "plt.show()"
   ]
  },
  {
   "cell_type": "code",
   "execution_count": 22,
   "id": "a3bc110e-7a01-4042-b548-ab221fa376d1",
   "metadata": {},
   "outputs": [
    {
     "name": "stdout",
     "output_type": "stream",
     "text": [
      "Found 20 images belonging to 2 classes.\n",
      "test acc: 0.949999988079071\n",
      "test loss: 0.16426196694374084\n"
     ]
    }
   ],
   "source": [
    "test_generator = test_datagen.flow_from_directory(\n",
    "        test_dir,\n",
    "        target_size=(150, 150),\n",
    "        batch_size=4,\n",
    "        class_mode='binary')\n",
    "test_loss, test_acc = model.evaluate_generator(test_generator, steps=5)\n",
    "print('test acc:', test_acc)\n",
    "print('test loss:', test_loss)"
   ]
  },
  {
   "cell_type": "markdown",
   "id": "a0a33534-2797-4970-9572-26afb3faa873",
   "metadata": {},
   "source": [
    "# Comparison of the results for 2-Species Analysis"
   ]
  },
  {
   "cell_type": "markdown",
   "id": "55d8a256-13c4-4875-baea-b46e551c7436",
   "metadata": {},
   "source": [
    "The test accuracy for the convolutional neural network is higher than that of the standard neiral network. The convolutional neural net also has lower loss than the other model. These combined means that there are less errors which occur less frequently meaning that the convolutionalneural netowrk is performing better than the standard neural network. "
   ]
  },
  {
   "cell_type": "markdown",
   "id": "f9eb187c-9aac-4908-abe8-5f20d32ef41b",
   "metadata": {},
   "source": [
    "## **10 Species (multi-class classification) - neural net.** \n",
    "Draw from 3.5 📰 Newswires (multi-class classification)."
   ]
  },
  {
   "cell_type": "code",
   "execution_count": 23,
   "id": "fc981c5a-9b87-4047-952d-c990d2bb96c1",
   "metadata": {},
   "outputs": [],
   "source": [
    "train_dir = os.path.join(base_dir, 'spp10/train')\n",
    "validation_dir = os.path.join(base_dir, 'spp10/validation')\n",
    "test_dir = os.path.join(base_dir, 'spp10/test')"
   ]
  },
  {
   "cell_type": "code",
   "execution_count": 24,
   "id": "5d2e8d6d-e514-4d8e-8465-0b6640f692b1",
   "metadata": {},
   "outputs": [
    {
     "name": "stdout",
     "output_type": "stream",
     "text": [
      "Found 300 images belonging to 10 classes.\n",
      "Found 100 images belonging to 10 classes.\n"
     ]
    }
   ],
   "source": [
    "from keras.preprocessing.image import ImageDataGenerator\n",
    "\n",
    "# All images will be rescaled by 1./255\n",
    "train_datagen = ImageDataGenerator(rescale=1./255)\n",
    "test_datagen = ImageDataGenerator(rescale=1./255)\n",
    "\n",
    "train_generator = train_datagen.flow_from_directory(\n",
    "        # This is the target directory\n",
    "        train_dir,\n",
    "        # All images will be resized to 150x150\n",
    "        target_size=(150, 150),\n",
    "        batch_size=4,\n",
    "        # Since we use categorical_crossentropy loss, we need categorical labels\n",
    "        class_mode='categorical')\n",
    "\n",
    "validation_generator = test_datagen.flow_from_directory(\n",
    "        validation_dir,\n",
    "        target_size=(150, 150),\n",
    "        batch_size=4,\n",
    "        class_mode='categorical')"
   ]
  },
  {
   "cell_type": "code",
   "execution_count": 25,
   "id": "dc806ad1-9854-4eae-953b-745735e5ca1b",
   "metadata": {},
   "outputs": [
    {
     "name": "stdout",
     "output_type": "stream",
     "text": [
      "data batch shape: (4, 150, 150, 3)\n",
      "labels batch shape: (4, 10)\n"
     ]
    }
   ],
   "source": [
    "for data_batch, labels_batch in train_generator:\n",
    "    print('data batch shape:', data_batch.shape)\n",
    "    print('labels batch shape:', labels_batch.shape)\n",
    "    break"
   ]
  },
  {
   "cell_type": "markdown",
   "id": "a34025cf-be79-4c65-b663-565f602b43e3",
   "metadata": {},
   "source": [
    "## Building our Model"
   ]
  },
  {
   "cell_type": "code",
   "execution_count": 27,
   "id": "a2a15068-05ee-4e11-ba87-26688dbfdaf8",
   "metadata": {},
   "outputs": [],
   "source": [
    "from keras import models\n",
    "from keras import layers\n",
    "\n",
    "model = models.Sequential()\n",
    "model.add(layers.Dense(64, activation='relu', input_shape=(150, 150, 3)))\n",
    "model.add(layers.Flatten())\n",
    "model.add(layers.Dense(64, activation='relu'))\n",
    "model.add(layers.Dense(10, activation='softmax'))"
   ]
  },
  {
   "cell_type": "code",
   "execution_count": 28,
   "id": "daffda4e-6c53-41e9-8530-a2bb7b858138",
   "metadata": {},
   "outputs": [],
   "source": [
    "model.compile(optimizer='rmsprop',\n",
    "              loss='categorical_crossentropy',\n",
    "              metrics=['accuracy'])"
   ]
  },
  {
   "cell_type": "code",
   "execution_count": 29,
   "id": "b9aafd50-1241-4917-825f-7cdb1e7b82db",
   "metadata": {},
   "outputs": [
    {
     "name": "stdout",
     "output_type": "stream",
     "text": [
      "Model: \"sequential_2\"\n",
      "_________________________________________________________________\n",
      "Layer (type)                 Output Shape              Param #   \n",
      "=================================================================\n",
      "dense_5 (Dense)              (None, 150, 150, 64)      256       \n",
      "_________________________________________________________________\n",
      "flatten_2 (Flatten)          (None, 1440000)           0         \n",
      "_________________________________________________________________\n",
      "dense_6 (Dense)              (None, 64)                92160064  \n",
      "_________________________________________________________________\n",
      "dense_7 (Dense)              (None, 10)                650       \n",
      "=================================================================\n",
      "Total params: 92,160,970\n",
      "Trainable params: 92,160,970\n",
      "Non-trainable params: 0\n",
      "_________________________________________________________________\n"
     ]
    }
   ],
   "source": [
    "model.summary()"
   ]
  },
  {
   "cell_type": "code",
   "execution_count": 30,
   "id": "8f5c0de5-40bf-4225-987d-d01f9d4c2795",
   "metadata": {},
   "outputs": [
    {
     "name": "stdout",
     "output_type": "stream",
     "text": [
      "Epoch 1/40\n",
      "5/5 [==============================] - 2s 361ms/step - loss: 89.1476 - accuracy: 0.2000 - val_loss: 60.0793 - val_accuracy: 0.1000\n",
      "Epoch 2/40\n",
      "5/5 [==============================] - 2s 333ms/step - loss: 40.7612 - accuracy: 0.1500 - val_loss: 35.9235 - val_accuracy: 0.0000e+00\n",
      "Epoch 3/40\n",
      "5/5 [==============================] - 2s 333ms/step - loss: 44.1398 - accuracy: 0.0500 - val_loss: 18.6651 - val_accuracy: 0.1500\n",
      "Epoch 4/40\n",
      "5/5 [==============================] - 2s 345ms/step - loss: 15.2809 - accuracy: 0.1000 - val_loss: 23.4511 - val_accuracy: 0.1000\n",
      "Epoch 5/40\n",
      "5/5 [==============================] - 2s 334ms/step - loss: 15.3850 - accuracy: 0.1500 - val_loss: 15.5476 - val_accuracy: 0.1000\n",
      "Epoch 6/40\n",
      "5/5 [==============================] - 2s 329ms/step - loss: 23.1279 - accuracy: 0.0500 - val_loss: 11.4903 - val_accuracy: 0.1000\n",
      "Epoch 7/40\n",
      "5/5 [==============================] - 2s 337ms/step - loss: 10.4484 - accuracy: 0.1000 - val_loss: 7.2163 - val_accuracy: 0.0500\n",
      "Epoch 8/40\n",
      "5/5 [==============================] - 2s 324ms/step - loss: 6.9842 - accuracy: 0.1500 - val_loss: 16.2876 - val_accuracy: 0.1000\n",
      "Epoch 9/40\n",
      "5/5 [==============================] - 2s 329ms/step - loss: 7.3107 - accuracy: 0.3500 - val_loss: 4.9608 - val_accuracy: 0.2500\n",
      "Epoch 10/40\n",
      "5/5 [==============================] - 2s 330ms/step - loss: 8.2607 - accuracy: 0.1000 - val_loss: 7.1636 - val_accuracy: 0.3000\n",
      "Epoch 11/40\n",
      "5/5 [==============================] - 2s 325ms/step - loss: 6.9104 - accuracy: 0.0500 - val_loss: 3.8760 - val_accuracy: 0.2500\n",
      "Epoch 12/40\n",
      "5/5 [==============================] - 2s 322ms/step - loss: 3.7361 - accuracy: 0.2000 - val_loss: 5.6429 - val_accuracy: 0.1000\n",
      "Epoch 13/40\n",
      "5/5 [==============================] - 2s 339ms/step - loss: 3.4456 - accuracy: 0.2000 - val_loss: 2.2907 - val_accuracy: 0.3000\n",
      "Epoch 14/40\n",
      "5/5 [==============================] - 2s 327ms/step - loss: 3.3747 - accuracy: 0.1500 - val_loss: 4.9565 - val_accuracy: 0.1000\n",
      "Epoch 15/40\n",
      "5/5 [==============================] - 2s 332ms/step - loss: 3.1161 - accuracy: 0.4000 - val_loss: 3.0222 - val_accuracy: 0.2000\n",
      "Epoch 16/40\n",
      "5/5 [==============================] - 2s 341ms/step - loss: 2.5033 - accuracy: 0.4500 - val_loss: 2.9856 - val_accuracy: 0.2000\n",
      "Epoch 17/40\n",
      "5/5 [==============================] - 2s 321ms/step - loss: 2.1306 - accuracy: 0.2500 - val_loss: 3.2232 - val_accuracy: 0.2000\n",
      "Epoch 18/40\n",
      "5/5 [==============================] - 2s 324ms/step - loss: 3.2229 - accuracy: 0.2000 - val_loss: 3.5077 - val_accuracy: 0.0500\n",
      "Epoch 19/40\n",
      "5/5 [==============================] - 2s 321ms/step - loss: 2.9262 - accuracy: 0.2000 - val_loss: 2.3735 - val_accuracy: 0.0500\n",
      "Epoch 20/40\n",
      "5/5 [==============================] - 2s 322ms/step - loss: 2.4734 - accuracy: 0.2000 - val_loss: 2.0551 - val_accuracy: 0.2000\n",
      "Epoch 21/40\n",
      "5/5 [==============================] - 2s 332ms/step - loss: 1.9361 - accuracy: 0.2000 - val_loss: 2.0349 - val_accuracy: 0.3500\n",
      "Epoch 22/40\n",
      "5/5 [==============================] - 2s 329ms/step - loss: 2.7629 - accuracy: 0.1500 - val_loss: 2.2177 - val_accuracy: 0.2500\n",
      "Epoch 23/40\n",
      "5/5 [==============================] - 2s 332ms/step - loss: 2.1530 - accuracy: 0.0500 - val_loss: 2.5495 - val_accuracy: 0.1500\n",
      "Epoch 24/40\n",
      "5/5 [==============================] - 2s 335ms/step - loss: 2.5235 - accuracy: 0.1000 - val_loss: 2.1250 - val_accuracy: 0.1000\n",
      "Epoch 25/40\n",
      "5/5 [==============================] - 2s 327ms/step - loss: 2.2224 - accuracy: 0.3000 - val_loss: 2.1464 - val_accuracy: 0.2000\n",
      "Epoch 26/40\n",
      "5/5 [==============================] - 2s 326ms/step - loss: 2.5980 - accuracy: 0.1000 - val_loss: 2.2460 - val_accuracy: 0.1500\n",
      "Epoch 27/40\n",
      "5/5 [==============================] - 2s 322ms/step - loss: 2.4900 - accuracy: 0.0500 - val_loss: 2.3508 - val_accuracy: 0.1000\n",
      "Epoch 28/40\n",
      "5/5 [==============================] - 2s 357ms/step - loss: 2.1837 - accuracy: 0.1500 - val_loss: 2.1815 - val_accuracy: 0.1500\n",
      "Epoch 29/40\n",
      "5/5 [==============================] - 2s 335ms/step - loss: 1.9462 - accuracy: 0.3000 - val_loss: 2.9039 - val_accuracy: 0.2500\n",
      "Epoch 30/40\n",
      "5/5 [==============================] - 2s 324ms/step - loss: 2.3683 - accuracy: 0.1500 - val_loss: 2.3146 - val_accuracy: 0.2500\n",
      "Epoch 31/40\n",
      "5/5 [==============================] - 2s 322ms/step - loss: 2.3251 - accuracy: 0.2000 - val_loss: 2.3030 - val_accuracy: 0.1500\n",
      "Epoch 32/40\n",
      "5/5 [==============================] - 2s 320ms/step - loss: 2.8653 - accuracy: 0.3500 - val_loss: 2.4637 - val_accuracy: 0.2000\n",
      "Epoch 33/40\n",
      "5/5 [==============================] - 2s 320ms/step - loss: 2.6684 - accuracy: 0.2500 - val_loss: 2.2790 - val_accuracy: 0.2000\n",
      "Epoch 34/40\n",
      "5/5 [==============================] - 2s 326ms/step - loss: 1.9906 - accuracy: 0.1500 - val_loss: 2.2695 - val_accuracy: 0.2000\n",
      "Epoch 35/40\n",
      "5/5 [==============================] - 2s 343ms/step - loss: 2.3426 - accuracy: 0.2500 - val_loss: 2.7832 - val_accuracy: 0.0000e+00\n",
      "Epoch 36/40\n",
      "5/5 [==============================] - 2s 325ms/step - loss: 2.4701 - accuracy: 0.1500 - val_loss: 2.2319 - val_accuracy: 0.1500\n",
      "Epoch 37/40\n",
      "5/5 [==============================] - 2s 330ms/step - loss: 2.3691 - accuracy: 0.3000 - val_loss: 2.8283 - val_accuracy: 0.2000\n",
      "Epoch 38/40\n",
      "5/5 [==============================] - 2s 318ms/step - loss: 2.8788 - accuracy: 0.2500 - val_loss: 2.6372 - val_accuracy: 0.2000\n",
      "Epoch 39/40\n",
      "5/5 [==============================] - 2s 321ms/step - loss: 1.9077 - accuracy: 0.3500 - val_loss: 3.0065 - val_accuracy: 0.1000\n",
      "Epoch 40/40\n",
      "5/5 [==============================] - 2s 325ms/step - loss: 2.1329 - accuracy: 0.1500 - val_loss: 2.7047 - val_accuracy: 0.1000\n"
     ]
    }
   ],
   "source": [
    "# model fit\n",
    "history_3 = model.fit(\n",
    "      train_generator,\n",
    "      steps_per_epoch=5,\n",
    "      epochs=40,\n",
    "      validation_data=validation_generator,\n",
    "      validation_steps=5)"
   ]
  },
  {
   "cell_type": "code",
   "execution_count": 32,
   "id": "2840edc7-f344-4342-8f7d-540b2fc1764b",
   "metadata": {},
   "outputs": [
    {
     "data": {
      "text/plain": [
       "dict_keys(['loss', 'accuracy', 'val_loss', 'val_accuracy'])"
      ]
     },
     "execution_count": 32,
     "metadata": {},
     "output_type": "execute_result"
    }
   ],
   "source": [
    "history_dict_3 = history_3.history\n",
    "history_dict_3.keys()"
   ]
  },
  {
   "cell_type": "code",
   "execution_count": 35,
   "id": "39500006-15d2-4e84-8f38-12d53e2bf0d9",
   "metadata": {},
   "outputs": [],
   "source": [
    "acc_3 = history_3.history['accuracy']\n",
    "val_acc_3 = history_3.history['val_accuracy']\n",
    "loss_3 = history_3.history['loss']\n",
    "val_loss_3 = history_3.history['val_loss']\n",
    "\n",
    "epochs_3 = range(1, len(acc_3) + 1)"
   ]
  },
  {
   "cell_type": "code",
   "execution_count": 36,
   "id": "45af3be4-116a-4add-bc07-65e1c265d6b1",
   "metadata": {},
   "outputs": [
    {
     "data": {
      "image/png": "[encoded data removed]",
      "text/plain": [
       "<Figure size 432x288 with 1 Axes>"
      ]
     },
     "metadata": {
      "needs_background": "light"
     },
     "output_type": "display_data"
    },
    {
     "data": {
      "image/png": "[encoded data removed]",
      "text/plain": [
       "<Figure size 432x288 with 1 Axes>"
      ]
     },
     "metadata": {
      "needs_background": "light"
     },
     "output_type": "display_data"
    }
   ],
   "source": [
    "# Plots\n",
    "plt.plot(epochs_3, acc_3, 'bo', label='Training Accuracy')\n",
    "# b is for \"solid blue line\"\n",
    "plt.plot(epochs_3, val_acc_3, 'b', label='Validation Accuracy')\n",
    "plt.title('Training and Validation Accuracy')\n",
    "plt.xlabel('Epochs')\n",
    "plt.ylabel('Accuracy')\n",
    "plt.legend()\n",
    "\n",
    "plt.show()\n",
    "\n",
    "\n",
    "# \"bo\" is for \"blue dot\"\n",
    "plt.plot(epochs_3, loss_3, 'bo', label='Training loss')\n",
    "# b is for \"solid blue line\"\n",
    "plt.plot(epochs_3, val_loss_3, 'b', label='Validation loss')\n",
    "plt.title('Training and Validation loss')\n",
    "plt.xlabel('Epochs')\n",
    "plt.ylabel('Loss')\n",
    "plt.legend()\n",
    "\n",
    "plt.show()"
   ]
  },
  {
   "cell_type": "code",
   "execution_count": 37,
   "id": "1a030292-5091-435c-94aa-18e52911b055",
   "metadata": {},
   "outputs": [
    {
     "name": "stdout",
     "output_type": "stream",
     "text": [
      "Found 100 images belonging to 10 classes.\n",
      "test acc: 0.10000000149011612\n",
      "test loss: 2.4644291400909424\n"
     ]
    }
   ],
   "source": [
    "test_generator = test_datagen.flow_from_directory(\n",
    "        test_dir,\n",
    "        target_size=(150, 150),\n",
    "        batch_size=4,\n",
    "        class_mode='categorical')\n",
    "test_loss, test_acc = model.evaluate_generator(test_generator, steps=5)\n",
    "print('test acc:', test_acc)\n",
    "print('test loss:', test_loss)"
   ]
  },
  {
   "cell_type": "markdown",
   "id": "2119c227-92f7-4853-b888-22baa2e5665b",
   "metadata": {},
   "source": [
    "## **10 Species (multi-class classification) - convolutional neural net.** \n",
    "Draw from dogs vs cats example and update necessary values to go from binary to mult-class classification."
   ]
  },
  {
   "cell_type": "code",
   "execution_count": 38,
   "id": "a88e308a-538e-49cd-b1b6-e7f9ff24f9c5",
   "metadata": {},
   "outputs": [],
   "source": [
    "# Build convolutional neural net model\n",
    "model = models.Sequential()\n",
    "model.add(layers.Conv2D(32, (3, 3), activation='relu',\n",
    "                        input_shape=(150, 150, 3)))\n",
    "model.add(layers.MaxPooling2D((2, 2)))\n",
    "model.add(layers.Conv2D(64, (3, 3), activation='relu'))\n",
    "model.add(layers.MaxPooling2D((2, 2)))\n",
    "model.add(layers.Conv2D(128, (3, 3), activation='relu'))\n",
    "model.add(layers.MaxPooling2D((2, 2)))\n",
    "model.add(layers.Conv2D(512, (3, 3), activation='relu'))\n",
    "model.add(layers.MaxPooling2D((2, 2)))\n",
    "model.add(layers.Flatten())\n",
    "model.add(layers.Dropout(0.5))\n",
    "model.add(layers.Dense(512, activation='relu'))\n",
    "model.add(layers.Dense(32, activation='relu'))\n",
    "model.add(layers.Dense(10, activation='softmax'))\n",
    "\n",
    "model.compile(optimizer='rmsprop',\n",
    "              loss='categorical_crossentropy',\n",
    "              metrics=['accuracy'])"
   ]
  },
  {
   "cell_type": "code",
   "execution_count": 39,
   "id": "49e0df90-5761-4823-978c-6740fcab1247",
   "metadata": {},
   "outputs": [
    {
     "name": "stdout",
     "output_type": "stream",
     "text": [
      "Model: \"sequential_3\"\n",
      "_________________________________________________________________\n",
      "Layer (type)                 Output Shape              Param #   \n",
      "=================================================================\n",
      "conv2d_4 (Conv2D)            (None, 148, 148, 32)      896       \n",
      "_________________________________________________________________\n",
      "max_pooling2d_4 (MaxPooling2 (None, 74, 74, 32)        0         \n",
      "_________________________________________________________________\n",
      "conv2d_5 (Conv2D)            (None, 72, 72, 64)        18496     \n",
      "_________________________________________________________________\n",
      "max_pooling2d_5 (MaxPooling2 (None, 36, 36, 64)        0         \n",
      "_________________________________________________________________\n",
      "conv2d_6 (Conv2D)            (None, 34, 34, 128)       73856     \n",
      "_________________________________________________________________\n",
      "max_pooling2d_6 (MaxPooling2 (None, 17, 17, 128)       0         \n",
      "_________________________________________________________________\n",
      "conv2d_7 (Conv2D)            (None, 15, 15, 512)       590336    \n",
      "_________________________________________________________________\n",
      "max_pooling2d_7 (MaxPooling2 (None, 7, 7, 512)         0         \n",
      "_________________________________________________________________\n",
      "flatten_3 (Flatten)          (None, 25088)             0         \n",
      "_________________________________________________________________\n",
      "dropout_1 (Dropout)          (None, 25088)             0         \n",
      "_________________________________________________________________\n",
      "dense_8 (Dense)              (None, 512)               12845568  \n",
      "_________________________________________________________________\n",
      "dense_9 (Dense)              (None, 32)                16416     \n",
      "_________________________________________________________________\n",
      "dense_10 (Dense)             (None, 10)                330       \n",
      "=================================================================\n",
      "Total params: 13,545,898\n",
      "Trainable params: 13,545,898\n",
      "Non-trainable params: 0\n",
      "_________________________________________________________________\n"
     ]
    }
   ],
   "source": [
    "model.summary()"
   ]
  },
  {
   "cell_type": "code",
   "execution_count": 40,
   "id": "dc7de97e-c578-4f1b-8d59-5a0ed2f07c4d",
   "metadata": {},
   "outputs": [
    {
     "name": "stdout",
     "output_type": "stream",
     "text": [
      "Epoch 1/40\n",
      "5/5 [==============================] - 1s 176ms/step - loss: 4.2048 - accuracy: 0.0000e+00 - val_loss: 2.3129 - val_accuracy: 0.1000\n",
      "Epoch 2/40\n",
      "5/5 [==============================] - 1s 112ms/step - loss: 2.3146 - accuracy: 0.2000 - val_loss: 2.2896 - val_accuracy: 0.1000\n",
      "Epoch 3/40\n",
      "5/5 [==============================] - 1s 115ms/step - loss: 2.3248 - accuracy: 0.1500 - val_loss: 2.2983 - val_accuracy: 0.1000\n",
      "Epoch 4/40\n",
      "5/5 [==============================] - 1s 130ms/step - loss: 2.3181 - accuracy: 0.0000e+00 - val_loss: 2.3067 - val_accuracy: 0.0500\n",
      "Epoch 5/40\n",
      "5/5 [==============================] - 1s 111ms/step - loss: 2.2902 - accuracy: 0.1500 - val_loss: 2.2926 - val_accuracy: 0.1500\n",
      "Epoch 6/40\n",
      "5/5 [==============================] - 1s 116ms/step - loss: 2.3401 - accuracy: 0.0000e+00 - val_loss: 2.3063 - val_accuracy: 0.2000\n",
      "Epoch 7/40\n",
      "5/5 [==============================] - 1s 103ms/step - loss: 2.3635 - accuracy: 0.1500 - val_loss: 2.3063 - val_accuracy: 0.0500\n",
      "Epoch 8/40\n",
      "5/5 [==============================] - 0s 96ms/step - loss: 2.3140 - accuracy: 0.0500 - val_loss: 2.3038 - val_accuracy: 0.1500\n",
      "Epoch 9/40\n",
      "5/5 [==============================] - 1s 112ms/step - loss: 2.4274 - accuracy: 0.1500 - val_loss: 2.3051 - val_accuracy: 0.1500\n",
      "Epoch 10/40\n",
      "5/5 [==============================] - 0s 100ms/step - loss: 2.3099 - accuracy: 0.0500 - val_loss: 2.3092 - val_accuracy: 0.0500\n",
      "Epoch 11/40\n",
      "5/5 [==============================] - 0s 98ms/step - loss: 2.2996 - accuracy: 0.1000 - val_loss: 2.2905 - val_accuracy: 0.1000\n",
      "Epoch 12/40\n",
      "5/5 [==============================] - 0s 101ms/step - loss: 2.3311 - accuracy: 0.1500 - val_loss: 2.3028 - val_accuracy: 0.1000\n",
      "Epoch 13/40\n",
      "5/5 [==============================] - 0s 93ms/step - loss: 2.3229 - accuracy: 0.1000 - val_loss: 2.2983 - val_accuracy: 0.1000\n",
      "Epoch 14/40\n",
      "5/5 [==============================] - 0s 93ms/step - loss: 2.4045 - accuracy: 0.2000 - val_loss: 2.3102 - val_accuracy: 0.0500\n",
      "Epoch 15/40\n",
      "5/5 [==============================] - 0s 93ms/step - loss: 2.3074 - accuracy: 0.0500 - val_loss: 2.3094 - val_accuracy: 0.1000\n",
      "Epoch 16/40\n",
      "5/5 [==============================] - 1s 104ms/step - loss: 2.3136 - accuracy: 0.1000 - val_loss: 2.3075 - val_accuracy: 0.1000\n",
      "Epoch 17/40\n",
      "5/5 [==============================] - 0s 101ms/step - loss: 2.3054 - accuracy: 0.1000 - val_loss: 2.2969 - val_accuracy: 0.1000\n",
      "Epoch 18/40\n",
      "5/5 [==============================] - 0s 94ms/step - loss: 2.3001 - accuracy: 0.1000 - val_loss: 2.2937 - val_accuracy: 0.2000\n",
      "Epoch 19/40\n",
      "5/5 [==============================] - 0s 90ms/step - loss: 2.3040 - accuracy: 0.0500 - val_loss: 2.3074 - val_accuracy: 0.0000e+00\n",
      "Epoch 20/40\n",
      "5/5 [==============================] - 0s 91ms/step - loss: 2.1633 - accuracy: 0.1500 - val_loss: 3.1210 - val_accuracy: 0.0500\n",
      "Epoch 21/40\n",
      "5/5 [==============================] - 1s 108ms/step - loss: 2.5377 - accuracy: 0.0500 - val_loss: 2.2775 - val_accuracy: 0.1000\n",
      "Epoch 22/40\n",
      "5/5 [==============================] - 0s 93ms/step - loss: 2.3050 - accuracy: 0.1500 - val_loss: 2.2775 - val_accuracy: 0.2000\n",
      "Epoch 23/40\n",
      "5/5 [==============================] - 0s 94ms/step - loss: 2.2979 - accuracy: 0.1000 - val_loss: 2.2359 - val_accuracy: 0.3500\n",
      "Epoch 24/40\n",
      "5/5 [==============================] - 0s 98ms/step - loss: 2.2204 - accuracy: 0.2000 - val_loss: 2.9680 - val_accuracy: 0.0500\n",
      "Epoch 25/40\n",
      "5/5 [==============================] - 0s 90ms/step - loss: 2.4818 - accuracy: 0.1500 - val_loss: 2.2270 - val_accuracy: 0.1500\n",
      "Epoch 26/40\n",
      "5/5 [==============================] - 0s 90ms/step - loss: 2.3729 - accuracy: 0.0500 - val_loss: 2.2942 - val_accuracy: 0.0500\n",
      "Epoch 27/40\n",
      "5/5 [==============================] - 0s 89ms/step - loss: 2.2983 - accuracy: 0.2500 - val_loss: 2.4412 - val_accuracy: 0.0500\n",
      "Epoch 28/40\n",
      "5/5 [==============================] - 0s 92ms/step - loss: 2.2682 - accuracy: 0.2000 - val_loss: 2.2465 - val_accuracy: 0.1000\n",
      "Epoch 29/40\n",
      "5/5 [==============================] - 0s 97ms/step - loss: 2.2877 - accuracy: 0.1000 - val_loss: 2.1701 - val_accuracy: 0.1500\n",
      "Epoch 30/40\n",
      "5/5 [==============================] - 0s 95ms/step - loss: 2.2788 - accuracy: 0.1500 - val_loss: 2.1808 - val_accuracy: 0.3500\n",
      "Epoch 31/40\n",
      "5/5 [==============================] - 0s 93ms/step - loss: 2.2069 - accuracy: 0.2500 - val_loss: 2.2547 - val_accuracy: 0.2500\n",
      "Epoch 32/40\n",
      "5/5 [==============================] - 0s 94ms/step - loss: 2.0344 - accuracy: 0.2000 - val_loss: 2.0691 - val_accuracy: 0.1500\n",
      "Epoch 33/40\n",
      "5/5 [==============================] - 0s 91ms/step - loss: 2.5120 - accuracy: 0.2500 - val_loss: 2.2280 - val_accuracy: 0.2500\n",
      "Epoch 34/40\n",
      "5/5 [==============================] - 0s 97ms/step - loss: 2.0696 - accuracy: 0.2500 - val_loss: 2.1079 - val_accuracy: 0.1000\n",
      "Epoch 35/40\n",
      "5/5 [==============================] - 0s 93ms/step - loss: 2.0691 - accuracy: 0.1500 - val_loss: 2.8035 - val_accuracy: 0.0500\n",
      "Epoch 36/40\n",
      "5/5 [==============================] - 1s 100ms/step - loss: 1.9781 - accuracy: 0.3500 - val_loss: 2.2374 - val_accuracy: 0.1000\n",
      "Epoch 37/40\n",
      "5/5 [==============================] - 0s 101ms/step - loss: 2.0488 - accuracy: 0.2000 - val_loss: 2.0986 - val_accuracy: 0.3000\n",
      "Epoch 38/40\n",
      "5/5 [==============================] - 1s 104ms/step - loss: 2.2415 - accuracy: 0.2000 - val_loss: 2.1680 - val_accuracy: 0.1500\n",
      "Epoch 39/40\n",
      "5/5 [==============================] - 0s 99ms/step - loss: 2.0119 - accuracy: 0.3500 - val_loss: 2.0446 - val_accuracy: 0.2500\n",
      "Epoch 40/40\n",
      "5/5 [==============================] - 0s 99ms/step - loss: 2.1117 - accuracy: 0.2500 - val_loss: 2.2094 - val_accuracy: 0.0500\n"
     ]
    }
   ],
   "source": [
    "history = model.fit(\n",
    "      train_generator,\n",
    "      steps_per_epoch=5,\n",
    "      epochs=40,\n",
    "      validation_data=validation_generator,\n",
    "      validation_steps=5)"
   ]
  },
  {
   "cell_type": "code",
   "execution_count": 41,
   "id": "22a81ef6-4be3-43ce-8ba5-34c167be0a33",
   "metadata": {},
   "outputs": [
    {
     "data": {
      "text/plain": [
       "dict_keys(['loss', 'accuracy', 'val_loss', 'val_accuracy'])"
      ]
     },
     "execution_count": 41,
     "metadata": {},
     "output_type": "execute_result"
    }
   ],
   "source": [
    "\n",
    "history_dict = history.history\n",
    "history_dict.keys()"
   ]
  },
  {
   "cell_type": "code",
   "execution_count": 42,
   "id": "057e473c-d012-436a-8a05-34f192c93143",
   "metadata": {},
   "outputs": [],
   "source": [
    "acc = history.history['accuracy']\n",
    "val_acc = history.history['val_accuracy']\n",
    "loss = history.history['loss']\n",
    "val_loss = history.history['val_loss']\n",
    "\n",
    "epochs = range(len(acc))"
   ]
  },
  {
   "cell_type": "code",
   "execution_count": 43,
   "id": "c350b137-a2ff-4736-9402-9bbab88ae31a",
   "metadata": {},
   "outputs": [
    {
     "data": {
      "image/png": "[encoded data removed]",
      "text/plain": [
       "<Figure size 432x288 with 1 Axes>"
      ]
     },
     "metadata": {
      "needs_background": "light"
     },
     "output_type": "display_data"
    },
    {
     "data": {
      "image/png": "[encoded data removed]",
      "text/plain": [
       "<Figure size 432x288 with 1 Axes>"
      ]
     },
     "metadata": {
      "needs_background": "light"
     },
     "output_type": "display_data"
    }
   ],
   "source": [
    "# Plots\n",
    "plt.plot(epochs, acc, 'bo', label='Training Accuracy')\n",
    "# b is for \"solid blue line\"\n",
    "plt.plot(epochs, val_acc, 'b', label='Validation Accuracy')\n",
    "plt.title('Training and validation Accuracy')\n",
    "plt.xlabel('Epochs')\n",
    "plt.ylabel('Accuracy')\n",
    "plt.legend()\n",
    "\n",
    "plt.show()\n",
    "\n",
    "\n",
    "# \"bo\" is for \"blue dot\"\n",
    "plt.plot(epochs, loss, 'bo', label='Training loss')\n",
    "# b is for \"solid blue line\"\n",
    "plt.plot(epochs, val_loss, 'b', label='Validation loss')\n",
    "plt.title('Training and validation loss')\n",
    "plt.xlabel('Epochs')\n",
    "plt.ylabel('Loss')\n",
    "plt.legend()\n",
    "\n",
    "plt.show()"
   ]
  },
  {
   "cell_type": "code",
   "execution_count": 44,
   "id": "3268d0d8-9701-4596-b73c-016f29c3ba18",
   "metadata": {},
   "outputs": [
    {
     "name": "stdout",
     "output_type": "stream",
     "text": [
      "Found 100 images belonging to 10 classes.\n",
      "test acc: 0.3499999940395355\n",
      "test loss: 2.193911552429199\n"
     ]
    }
   ],
   "source": [
    "test_generator = test_datagen.flow_from_directory(\n",
    "        test_dir,\n",
    "        target_size=(150, 150),\n",
    "        batch_size=4,\n",
    "        class_mode='categorical')\n",
    "test_loss, test_acc = model.evaluate_generator(test_generator, steps=5)\n",
    "print('test acc:', test_acc)\n",
    "print('test loss:', test_loss)"
   ]
  },
  {
   "cell_type": "markdown",
   "id": "3ccf648e-7b7e-4032-b6c3-c56dafad4295",
   "metadata": {},
   "source": [
    "## Comparing both 10 species models "
   ]
  },
  {
   "cell_type": "code",
   "execution_count": null,
   "id": "8b48e972-c011-4944-824a-00fe0b0d2021",
   "metadata": {},
   "outputs": [],
   "source": []
  }
 ],
 "metadata": {
  "kernelspec": {
   "display_name": "Python 3 (ipykernel)",
   "language": "python",
   "name": "python3"
  },
  "language_info": {
   "codemirror_mode": {
    "name": "ipython",
    "version": 3
   },
   "file_extension": ".py",
   "mimetype": "text/x-python",
   "name": "python",
   "nbconvert_exporter": "python",
   "pygments_lexer": "ipython3",
   "version": "3.7.7"
  }
 },
 "nbformat": 4,
 "nbformat_minor": 5
}
