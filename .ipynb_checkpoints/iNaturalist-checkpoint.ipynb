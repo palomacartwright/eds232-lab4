{
 "cells": [
  {
   "cell_type": "markdown",
   "id": "20e80abf-6ca2-48b4-b646-455c8d4f7507",
   "metadata": {},
   "source": [
    "# iNaturalist Lab"
   ]
  },
  {
   "cell_type": "code",
   "execution_count": 1,
   "id": "39500cd4-f29e-4394-9441-689d0fcda9bd",
   "metadata": {},
   "outputs": [
    {
     "name": "stderr",
     "output_type": "stream",
     "text": [
      "2022-03-01 23:52:20.421080: W tensorflow/stream_executor/platform/default/dso_loader.cc:64] Could not load dynamic library 'libcudart.so.11.0'; dlerror: libcudart.so.11.0: cannot open shared object file: No such file or directory; LD_LIBRARY_PATH: /opt/R/4.0.5/lib/R/lib::/lib:/usr/local/lib:/usr/lib/x86_64-linux-gnu:/usr/lib/jvm/java-11-openjdk-amd64/lib/server\n",
      "2022-03-01 23:52:20.421144: I tensorflow/stream_executor/cuda/cudart_stub.cc:29] Ignore above cudart dlerror if you do not have a GPU set up on your machine.\n"
     ]
    },
    {
     "data": {
      "text/plain": [
       "'2.6.0'"
      ]
     },
     "execution_count": 1,
     "metadata": {},
     "output_type": "execute_result"
    }
   ],
   "source": [
    "import keras\n",
    "import tensorflow.keras\n",
    "import os\n",
    "from os import listdir\n",
    "import shutil\n",
    "from random import sample\n",
    "import pandas as pd\n",
    "from tensorflow.keras import optimizers\n",
    "from tensorflow.keras import losses\n",
    "from tensorflow.keras import metrics\n",
    "import matplotlib.pyplot as plt\n",
    "keras.__version__"
   ]
  },
  {
   "cell_type": "markdown",
   "id": "4a4ef5f8-1a54-40f1-ae70-8a260d04de25",
   "metadata": {
    "tags": []
   },
   "source": [
    "## Data\n",
    "\n",
    "The data for this project was compiled into `inat` directory using the `lab4-preprocessing.R` RScript. "
   ]
  },
  {
   "cell_type": "code",
   "execution_count": 2,
   "id": "38b94b84-b6ac-4be2-a748-4c17dae1c17a",
   "metadata": {},
   "outputs": [],
   "source": [
    "base_dir = '/Users/palomacartwright/EDS232-mine/eds232-lab4/inat'"
   ]
  },
  {
   "cell_type": "markdown",
   "id": "4285dd2f-459a-445d-ade1-6d5105b75a55",
   "metadata": {
    "tags": []
   },
   "source": [
    "# **2 Species (binary classification) - neural net.** \n",
    "Draw from 3.4 🍿 Movies (binary classification). \n",
    "\n",
    "You’ll need to pre-process the images to be a consistent shape first though – see 5.2.4 Data preprocessing."
   ]
  },
  {
   "cell_type": "code",
   "execution_count": 3,
   "id": "0c067f51-9548-4951-a3e2-ade38472fc6f",
   "metadata": {},
   "outputs": [
    {
     "name": "stdout",
     "output_type": "stream",
     "text": [
      "Found 60 images belonging to 2 classes.\n",
      "Found 20 images belonging to 2 classes.\n"
     ]
    }
   ],
   "source": [
    "train_dir = os.path.join(base_dir, 'spp2/train')\n",
    "validation_dir = os.path.join(base_dir, 'spp2/validation')\n",
    "test_dir = os.path.join(base_dir, 'spp2/test')\n",
    "\n",
    "from keras.preprocessing.image import ImageDataGenerator\n",
    "\n",
    "# All images will be rescaled by 1./255\n",
    "train_datagen = ImageDataGenerator(rescale=1./255)\n",
    "test_datagen = ImageDataGenerator(rescale=1./255)\n",
    "\n",
    "train_generator = train_datagen.flow_from_directory(\n",
    "        # This is the target directory\n",
    "        train_dir,\n",
    "        # All images will be resized to 150x150\n",
    "        target_size=(150, 150),\n",
    "        batch_size=4,\n",
    "        # Since we use binary_crossentropy loss, we need binary labels\n",
    "        class_mode='binary')\n",
    "\n",
    "validation_generator = test_datagen.flow_from_directory(\n",
    "        validation_dir,\n",
    "        target_size=(150, 150),\n",
    "        batch_size=4,\n",
    "        class_mode='binary')\n"
   ]
  },
  {
   "cell_type": "code",
   "execution_count": 4,
   "id": "1fe7412f-3ec9-48c9-8044-c1ebb37cc5e4",
   "metadata": {},
   "outputs": [
    {
     "name": "stdout",
     "output_type": "stream",
     "text": [
      "data batch shape: (4, 150, 150, 3)\n",
      "labels batch shape: (4,)\n"
     ]
    }
   ],
   "source": [
    "\n",
    "for data_batch, labels_batch in train_generator:\n",
    "    print('data batch shape:', data_batch.shape)\n",
    "    print('labels batch shape:', labels_batch.shape)\n",
    "    break"
   ]
  },
  {
   "cell_type": "markdown",
   "id": "5ebc76bc-1007-4a67-949a-2862218aa504",
   "metadata": {},
   "source": [
    "## Neural Net Modelling"
   ]
  },
  {
   "cell_type": "code",
   "execution_count": 5,
   "id": "4554788f-75cd-46f6-8fd2-c96397a37679",
   "metadata": {},
   "outputs": [
    {
     "name": "stderr",
     "output_type": "stream",
     "text": [
      "2022-03-01 23:53:13.764685: W tensorflow/stream_executor/platform/default/dso_loader.cc:64] Could not load dynamic library 'libcuda.so.1'; dlerror: libcuda.so.1: cannot open shared object file: No such file or directory; LD_LIBRARY_PATH: /opt/R/4.0.5/lib/R/lib::/lib:/usr/local/lib:/usr/lib/x86_64-linux-gnu:/usr/lib/jvm/java-11-openjdk-amd64/lib/server\n",
      "2022-03-01 23:53:13.764718: W tensorflow/stream_executor/cuda/cuda_driver.cc:269] failed call to cuInit: UNKNOWN ERROR (303)\n",
      "2022-03-01 23:53:13.764738: I tensorflow/stream_executor/cuda/cuda_diagnostics.cc:156] kernel driver does not appear to be running on this host (taylor): /proc/driver/nvidia/version does not exist\n",
      "2022-03-01 23:53:13.765104: I tensorflow/core/platform/cpu_feature_guard.cc:142] This TensorFlow binary is optimized with oneAPI Deep Neural Network Library (oneDNN) to use the following CPU instructions in performance-critical operations:  AVX2 AVX512F FMA\n",
      "To enable them in other operations, rebuild TensorFlow with the appropriate compiler flags.\n"
     ]
    }
   ],
   "source": [
    "from keras import models\n",
    "from keras import layers\n",
    "\n",
    "model = models.Sequential()\n",
    "model.add(layers.Dense(16, activation='relu', input_shape=(150, 150, 3)))\n",
    "model.add(layers.Flatten())\n",
    "model.add(layers.Dense(16, activation='relu'))\n",
    "model.add(layers.Dense(1, activation='sigmoid'))"
   ]
  },
  {
   "cell_type": "code",
   "execution_count": 6,
   "id": "82d11ccf-6426-432d-b592-6096089ca5b6",
   "metadata": {},
   "outputs": [
    {
     "name": "stdout",
     "output_type": "stream",
     "text": [
      "Model: \"sequential\"\n",
      "_________________________________________________________________\n",
      "Layer (type)                 Output Shape              Param #   \n",
      "=================================================================\n",
      "dense (Dense)                (None, 150, 150, 16)      64        \n",
      "_________________________________________________________________\n",
      "flatten (Flatten)            (None, 360000)            0         \n",
      "_________________________________________________________________\n",
      "dense_1 (Dense)              (None, 16)                5760016   \n",
      "_________________________________________________________________\n",
      "dense_2 (Dense)              (None, 1)                 17        \n",
      "=================================================================\n",
      "Total params: 5,760,097\n",
      "Trainable params: 5,760,097\n",
      "Non-trainable params: 0\n",
      "_________________________________________________________________\n"
     ]
    }
   ],
   "source": [
    "# optimizing and choosing loss function \n",
    "model.compile(optimizer='rmsprop',\n",
    "              loss='binary_crossentropy',\n",
    "              metrics=['accuracy'])\n",
    "model.summary()"
   ]
  },
  {
   "cell_type": "markdown",
   "id": "930c960f-dfdc-4e53-a8f7-e093e076db35",
   "metadata": {},
   "source": [
    "## Validation"
   ]
  },
  {
   "cell_type": "code",
   "execution_count": 7,
   "id": "245c2420-241b-4fdd-b7b5-c53bde117b4e",
   "metadata": {},
   "outputs": [
    {
     "name": "stderr",
     "output_type": "stream",
     "text": [
      "2022-03-01 23:53:28.128141: I tensorflow/compiler/mlir/mlir_graph_optimization_pass.cc:185] None of the MLIR Optimization Passes are enabled (registered 2)\n"
     ]
    },
    {
     "name": "stdout",
     "output_type": "stream",
     "text": [
      "Epoch 1/40\n",
      "5/5 [==============================] - 2s 211ms/step - loss: 47.7986 - accuracy: 0.5000 - val_loss: 35.9290 - val_accuracy: 0.5000\n",
      "Epoch 2/40\n",
      "5/5 [==============================] - 0s 66ms/step - loss: 47.0723 - accuracy: 0.4500 - val_loss: 4.9425 - val_accuracy: 0.7000\n",
      "Epoch 3/40\n",
      "5/5 [==============================] - 0s 77ms/step - loss: 14.0444 - accuracy: 0.6000 - val_loss: 72.5436 - val_accuracy: 0.5000\n",
      "Epoch 4/40\n",
      "5/5 [==============================] - 0s 62ms/step - loss: 15.5702 - accuracy: 0.7000 - val_loss: 11.2169 - val_accuracy: 0.6500\n",
      "Epoch 5/40\n",
      "5/5 [==============================] - 0s 68ms/step - loss: 16.7416 - accuracy: 0.6000 - val_loss: 50.1513 - val_accuracy: 0.5000\n",
      "Epoch 6/40\n",
      "5/5 [==============================] - 0s 69ms/step - loss: 4.8149 - accuracy: 0.8500 - val_loss: 27.5354 - val_accuracy: 0.5000\n",
      "Epoch 7/40\n",
      "5/5 [==============================] - 1s 122ms/step - loss: 14.4418 - accuracy: 0.6000 - val_loss: 14.6371 - val_accuracy: 0.6000\n",
      "Epoch 8/40\n",
      "5/5 [==============================] - 0s 73ms/step - loss: 3.1448 - accuracy: 0.9000 - val_loss: 60.1297 - val_accuracy: 0.5000\n",
      "Epoch 9/40\n",
      "5/5 [==============================] - 0s 71ms/step - loss: 18.5799 - accuracy: 0.6000 - val_loss: 27.9684 - val_accuracy: 0.5000\n",
      "Epoch 10/40\n",
      "5/5 [==============================] - 0s 68ms/step - loss: 6.4450 - accuracy: 0.8000 - val_loss: 29.2894 - val_accuracy: 0.5000\n",
      "Epoch 11/40\n",
      "5/5 [==============================] - 0s 89ms/step - loss: 31.6952 - accuracy: 0.4000 - val_loss: 6.5970 - val_accuracy: 0.7500\n",
      "Epoch 12/40\n",
      "5/5 [==============================] - 0s 64ms/step - loss: 10.7117 - accuracy: 0.5000 - val_loss: 5.8755 - val_accuracy: 0.7500\n",
      "Epoch 13/40\n",
      "5/5 [==============================] - 0s 67ms/step - loss: 0.4901 - accuracy: 0.9000 - val_loss: 5.6708 - val_accuracy: 0.7500\n",
      "Epoch 14/40\n",
      "5/5 [==============================] - 0s 86ms/step - loss: 0.0018 - accuracy: 1.0000 - val_loss: 5.3518 - val_accuracy: 0.7500\n",
      "Epoch 15/40\n",
      "5/5 [==============================] - 0s 78ms/step - loss: 0.0198 - accuracy: 1.0000 - val_loss: 3.7917 - val_accuracy: 0.8500\n",
      "Epoch 16/40\n",
      "5/5 [==============================] - 0s 77ms/step - loss: 4.7583e-10 - accuracy: 1.0000 - val_loss: 3.7917 - val_accuracy: 0.8500\n",
      "Epoch 17/40\n",
      "5/5 [==============================] - 0s 77ms/step - loss: 1.1852e-06 - accuracy: 1.0000 - val_loss: 3.7918 - val_accuracy: 0.8500\n",
      "Epoch 18/40\n",
      "5/5 [==============================] - 0s 71ms/step - loss: 8.0628e-07 - accuracy: 1.0000 - val_loss: 3.7920 - val_accuracy: 0.8500\n",
      "Epoch 19/40\n",
      "5/5 [==============================] - 0s 51ms/step - loss: 3.7591e-07 - accuracy: 1.0000 - val_loss: 3.7920 - val_accuracy: 0.8500\n",
      "Epoch 20/40\n",
      "5/5 [==============================] - 0s 61ms/step - loss: 3.7540e-07 - accuracy: 1.0000 - val_loss: 3.7921 - val_accuracy: 0.8500\n",
      "Epoch 21/40\n",
      "5/5 [==============================] - 0s 62ms/step - loss: 3.7503e-07 - accuracy: 1.0000 - val_loss: 3.7921 - val_accuracy: 0.8500\n",
      "Epoch 22/40\n",
      "5/5 [==============================] - 0s 59ms/step - loss: 5.7962e-10 - accuracy: 1.0000 - val_loss: 3.7921 - val_accuracy: 0.8500\n",
      "Epoch 23/40\n",
      "5/5 [==============================] - 0s 62ms/step - loss: 1.1740e-06 - accuracy: 1.0000 - val_loss: 3.7927 - val_accuracy: 0.8500\n",
      "Epoch 24/40\n",
      "5/5 [==============================] - 0s 54ms/step - loss: 1.0401e-09 - accuracy: 1.0000 - val_loss: 3.7927 - val_accuracy: 0.8500\n",
      "Epoch 25/40\n",
      "5/5 [==============================] - 0s 58ms/step - loss: 1.5715e-11 - accuracy: 1.0000 - val_loss: 3.7927 - val_accuracy: 0.8500\n",
      "Epoch 26/40\n",
      "5/5 [==============================] - 0s 58ms/step - loss: 7.8885e-07 - accuracy: 1.0000 - val_loss: 3.7939 - val_accuracy: 0.8500\n",
      "Epoch 27/40\n",
      "5/5 [==============================] - 0s 47ms/step - loss: 4.5579e-18 - accuracy: 1.0000 - val_loss: 3.7939 - val_accuracy: 0.8500\n",
      "Epoch 28/40\n",
      "5/5 [==============================] - 0s 58ms/step - loss: 5.9597e-10 - accuracy: 1.0000 - val_loss: 3.7939 - val_accuracy: 0.8500\n",
      "Epoch 29/40\n",
      "5/5 [==============================] - 0s 59ms/step - loss: 3.6958e-07 - accuracy: 1.0000 - val_loss: 3.7945 - val_accuracy: 0.8500\n",
      "Epoch 30/40\n",
      "5/5 [==============================] - 0s 63ms/step - loss: 3.6414e-07 - accuracy: 1.0000 - val_loss: 3.7951 - val_accuracy: 0.8500\n",
      "Epoch 31/40\n",
      "5/5 [==============================] - 0s 68ms/step - loss: 1.0987e-06 - accuracy: 1.0000 - val_loss: 3.8002 - val_accuracy: 0.8500\n",
      "Epoch 32/40\n",
      "5/5 [==============================] - 0s 64ms/step - loss: 1.1361e-10 - accuracy: 1.0000 - val_loss: 3.8002 - val_accuracy: 0.8500\n",
      "Epoch 33/40\n",
      "5/5 [==============================] - 0s 67ms/step - loss: 1.0043e-06 - accuracy: 1.0000 - val_loss: 3.8083 - val_accuracy: 0.8500\n",
      "Epoch 34/40\n",
      "5/5 [==============================] - 0s 53ms/step - loss: 3.1697e-07 - accuracy: 1.0000 - val_loss: 3.8104 - val_accuracy: 0.8500\n",
      "Epoch 35/40\n",
      "5/5 [==============================] - 0s 83ms/step - loss: 3.0316e-07 - accuracy: 1.0000 - val_loss: 3.8129 - val_accuracy: 0.8500\n",
      "Epoch 36/40\n",
      "5/5 [==============================] - 0s 47ms/step - loss: 2.8775e-07 - accuracy: 1.0000 - val_loss: 3.8161 - val_accuracy: 0.8500\n",
      "Epoch 37/40\n",
      "5/5 [==============================] - 0s 62ms/step - loss: 4.8818e-07 - accuracy: 1.0000 - val_loss: 3.8300 - val_accuracy: 0.8500\n",
      "Epoch 38/40\n",
      "5/5 [==============================] - 0s 63ms/step - loss: 2.4746e-07 - accuracy: 1.0000 - val_loss: 3.8340 - val_accuracy: 0.8000\n",
      "Epoch 39/40\n",
      "5/5 [==============================] - 0s 65ms/step - loss: 8.4115e-10 - accuracy: 1.0000 - val_loss: 3.8340 - val_accuracy: 0.8000\n",
      "Epoch 40/40\n",
      "5/5 [==============================] - 0s 57ms/step - loss: 2.2870e-07 - accuracy: 1.0000 - val_loss: 3.8405 - val_accuracy: 0.8000\n"
     ]
    }
   ],
   "source": [
    "# Model Fit \n",
    "\n",
    "history = model.fit(train_generator,\n",
    "                    steps_per_epoch=5,\n",
    "                    epochs=40,\n",
    "                    validation_data=validation_generator,\n",
    "                    validation_steps = 5)"
   ]
  },
  {
   "cell_type": "code",
   "execution_count": 8,
   "id": "834ab68e-fed3-48f3-b248-e19355760997",
   "metadata": {},
   "outputs": [
    {
     "data": {
      "text/plain": [
       "dict_keys(['loss', 'accuracy', 'val_loss', 'val_accuracy'])"
      ]
     },
     "execution_count": 8,
     "metadata": {},
     "output_type": "execute_result"
    }
   ],
   "source": [
    "history_dict = history.history\n",
    "history_dict.keys()"
   ]
  },
  {
   "cell_type": "code",
   "execution_count": 9,
   "id": "c34df355-2a20-47d9-b7ae-c6adde038b14",
   "metadata": {},
   "outputs": [],
   "source": [
    "acc = history.history['accuracy']\n",
    "val_acc = history.history['val_accuracy']\n",
    "loss = history.history['loss']\n",
    "val_loss = history.history['val_loss']\n",
    "\n",
    "epochs = range(1, len(acc) + 1)"
   ]
  },
  {
   "cell_type": "code",
   "execution_count": 10,
   "id": "f5b19f44-5cb1-4329-b5b3-c3a9ccef8473",
   "metadata": {},
   "outputs": [
    {
     "data": {
      "image/png": "[encoded data removed]",
      "text/plain": [
       "<Figure size 432x288 with 1 Axes>"
      ]
     },
     "metadata": {
      "needs_background": "light"
     },
     "output_type": "display_data"
    },
    {
     "data": {
      "image/png": "[encoded data removed]",
      "text/plain": [
       "<Figure size 432x288 with 1 Axes>"
      ]
     },
     "metadata": {
      "needs_background": "light"
     },
     "output_type": "display_data"
    }
   ],
   "source": [
    "# Plots\n",
    "plt.plot(epochs, acc, 'bo', label='Training Accuracy')\n",
    "# b is for \"solid blue line\"\n",
    "plt.plot(epochs, val_acc, 'b', label='Validation Accuracy')\n",
    "plt.title('Training and validation Accuracy')\n",
    "plt.xlabel('Epochs')\n",
    "plt.ylabel('Accuracy')\n",
    "plt.legend()\n",
    "\n",
    "plt.show()\n",
    "\n",
    "\n",
    "# \"bo\" is for \"blue dot\"\n",
    "plt.plot(epochs, loss, 'bo', label='Training loss')\n",
    "# b is for \"solid blue line\"\n",
    "plt.plot(epochs, val_loss, 'b', label='Validation loss')\n",
    "plt.title('Training and validation loss')\n",
    "plt.xlabel('Epochs')\n",
    "plt.ylabel('Loss')\n",
    "plt.legend()\n",
    "\n",
    "plt.show()"
   ]
  },
  {
   "cell_type": "code",
   "execution_count": 12,
   "id": "0d60fb22-3382-4411-8419-9d167e526f12",
   "metadata": {},
   "outputs": [
    {
     "name": "stdout",
     "output_type": "stream",
     "text": [
      "Found 20 images belonging to 2 classes.\n"
     ]
    },
    {
     "name": "stderr",
     "output_type": "stream",
     "text": [
      "/opt/python/3.7.7/lib/python3.7/site-packages/keras/engine/training.py:2006: UserWarning: `Model.evaluate_generator` is deprecated and will be removed in a future version. Please use `Model.evaluate`, which supports generators.\n",
      "  warnings.warn('`Model.evaluate_generator` is deprecated and '\n"
     ]
    },
    {
     "name": "stdout",
     "output_type": "stream",
     "text": [
      "test_acc: 0.800000011920929\n",
      "test_loss: 5.312117099761963\n"
     ]
    }
   ],
   "source": [
    "test_generator = test_datagen.flow_from_directory(\n",
    "        test_dir, \n",
    "        target_size = (150, 150), \n",
    "        batch_size = 4, \n",
    "        class_mode = 'binary')\n",
    "\n",
    "test_loss, test_acc = model.evaluate_generator(test_generator, steps = 5)\n",
    "print(\"test_acc:\", test_acc)\n",
    "print(\"test_loss:\", test_loss)"
   ]
  },
  {
   "cell_type": "markdown",
   "id": "9d3b2f42-2c45-4b6d-a278-ee38978751e6",
   "metadata": {},
   "source": [
    "## **2 Species (binary classification) - convolutional neural net.**\n"
   ]
  },
  {
   "cell_type": "markdown",
   "id": "33e4944b-120c-4fed-9cc9-79f6b2caf6bd",
   "metadata": {},
   "source": [
    "## Build the Convolutional Neural Net Model"
   ]
  },
  {
   "cell_type": "code",
   "execution_count": 13,
   "id": "cd2dca23-c79b-41e9-8555-5c3088344ff4",
   "metadata": {},
   "outputs": [],
   "source": [
    "model = models.Sequential()\n",
    "model.add(layers.Conv2D(32, (3, 3), activation='relu',\n",
    "                        input_shape=(150, 150, 3)))\n",
    "model.add(layers.MaxPooling2D((2, 2)))\n",
    "model.add(layers.Conv2D(64, (3, 3), activation='relu'))\n",
    "model.add(layers.MaxPooling2D((2, 2)))\n",
    "model.add(layers.Conv2D(128, (3, 3), activation='relu'))\n",
    "model.add(layers.MaxPooling2D((2, 2)))\n",
    "model.add(layers.Conv2D(128, (3, 3), activation='relu'))\n",
    "model.add(layers.MaxPooling2D((2, 2)))\n",
    "model.add(layers.Flatten())\n",
    "model.add(layers.Dropout(0.5))\n",
    "model.add(layers.Dense(512, activation='relu'))\n",
    "model.add(layers.Dense(1, activation='sigmoid'))"
   ]
  },
  {
   "cell_type": "markdown",
   "id": "acec1017-14e0-4879-9388-113a172fab2c",
   "metadata": {},
   "source": [
    "## Compile the Model"
   ]
  },
  {
   "cell_type": "code",
   "execution_count": 14,
   "id": "ea3fc42a-db98-49e8-b476-277ee57fb4f3",
   "metadata": {},
   "outputs": [],
   "source": [
    "model.compile(loss='binary_crossentropy',\n",
    "              optimizer=optimizers.RMSprop(learning_rate=1e-4),\n",
    "              metrics=['acc'])"
   ]
  },
  {
   "cell_type": "code",
   "execution_count": 15,
   "id": "b0e0cb71-29d6-4d17-bdb3-d23b45e0bb5d",
   "metadata": {},
   "outputs": [
    {
     "name": "stdout",
     "output_type": "stream",
     "text": [
      "Model: \"sequential_1\"\n",
      "_________________________________________________________________\n",
      "Layer (type)                 Output Shape              Param #   \n",
      "=================================================================\n",
      "conv2d (Conv2D)              (None, 148, 148, 32)      896       \n",
      "_________________________________________________________________\n",
      "max_pooling2d (MaxPooling2D) (None, 74, 74, 32)        0         \n",
      "_________________________________________________________________\n",
      "conv2d_1 (Conv2D)            (None, 72, 72, 64)        18496     \n",
      "_________________________________________________________________\n",
      "max_pooling2d_1 (MaxPooling2 (None, 36, 36, 64)        0         \n",
      "_________________________________________________________________\n",
      "conv2d_2 (Conv2D)            (None, 34, 34, 128)       73856     \n",
      "_________________________________________________________________\n",
      "max_pooling2d_2 (MaxPooling2 (None, 17, 17, 128)       0         \n",
      "_________________________________________________________________\n",
      "conv2d_3 (Conv2D)            (None, 15, 15, 128)       147584    \n",
      "_________________________________________________________________\n",
      "max_pooling2d_3 (MaxPooling2 (None, 7, 7, 128)         0         \n",
      "_________________________________________________________________\n",
      "flatten_1 (Flatten)          (None, 6272)              0         \n",
      "_________________________________________________________________\n",
      "dropout (Dropout)            (None, 6272)              0         \n",
      "_________________________________________________________________\n",
      "dense_3 (Dense)              (None, 512)               3211776   \n",
      "_________________________________________________________________\n",
      "dense_4 (Dense)              (None, 1)                 513       \n",
      "=================================================================\n",
      "Total params: 3,453,121\n",
      "Trainable params: 3,453,121\n",
      "Non-trainable params: 0\n",
      "_________________________________________________________________\n"
     ]
    }
   ],
   "source": [
    "model.summary()"
   ]
  },
  {
   "cell_type": "code",
   "execution_count": 17,
   "id": "9fedcd2b-bb10-402b-bb2e-54808e751213",
   "metadata": {},
   "outputs": [
    {
     "name": "stdout",
     "output_type": "stream",
     "text": [
      "Epoch 1/40\n",
      "5/5 [==============================] - 1s 107ms/step - loss: 0.3658 - acc: 0.9000 - val_loss: 0.6984 - val_acc: 0.6500\n",
      "Epoch 2/40\n",
      "5/5 [==============================] - 1s 137ms/step - loss: 0.2888 - acc: 0.9000 - val_loss: 0.2716 - val_acc: 0.9000\n",
      "Epoch 3/40\n",
      "5/5 [==============================] - 0s 84ms/step - loss: 0.2181 - acc: 0.9500 - val_loss: 0.3819 - val_acc: 0.9000\n",
      "Epoch 4/40\n",
      "5/5 [==============================] - 0s 71ms/step - loss: 0.3618 - acc: 0.8500 - val_loss: 0.2700 - val_acc: 0.9000\n",
      "Epoch 5/40\n",
      "5/5 [==============================] - 0s 101ms/step - loss: 0.1823 - acc: 0.9500 - val_loss: 0.2781 - val_acc: 0.9000\n",
      "Epoch 6/40\n",
      "5/5 [==============================] - 0s 96ms/step - loss: 0.4097 - acc: 0.7000 - val_loss: 0.2355 - val_acc: 0.9500\n",
      "Epoch 7/40\n",
      "5/5 [==============================] - 0s 78ms/step - loss: 0.2961 - acc: 0.9000 - val_loss: 0.2410 - val_acc: 0.9000\n",
      "Epoch 8/40\n",
      "5/5 [==============================] - 0s 109ms/step - loss: 0.1584 - acc: 0.9500 - val_loss: 0.3419 - val_acc: 0.8000\n",
      "Epoch 9/40\n",
      "5/5 [==============================] - 0s 96ms/step - loss: 0.2695 - acc: 0.9000 - val_loss: 0.4658 - val_acc: 0.7000\n",
      "Epoch 10/40\n",
      "5/5 [==============================] - 0s 86ms/step - loss: 0.4647 - acc: 0.8000 - val_loss: 0.4121 - val_acc: 0.8000\n",
      "Epoch 11/40\n",
      "5/5 [==============================] - 0s 102ms/step - loss: 0.1850 - acc: 0.9500 - val_loss: 1.0112 - val_acc: 0.6000\n",
      "Epoch 12/40\n",
      "5/5 [==============================] - 0s 79ms/step - loss: 0.2764 - acc: 0.8500 - val_loss: 0.2241 - val_acc: 0.9500\n",
      "Epoch 13/40\n",
      "5/5 [==============================] - 0s 77ms/step - loss: 0.2847 - acc: 0.8500 - val_loss: 0.2070 - val_acc: 1.0000\n",
      "Epoch 14/40\n",
      "5/5 [==============================] - 0s 75ms/step - loss: 0.1024 - acc: 1.0000 - val_loss: 0.2000 - val_acc: 0.9500\n",
      "Epoch 15/40\n",
      "5/5 [==============================] - 0s 80ms/step - loss: 0.0859 - acc: 1.0000 - val_loss: 0.2069 - val_acc: 0.9000\n",
      "Epoch 16/40\n",
      "5/5 [==============================] - 0s 89ms/step - loss: 0.5197 - acc: 0.9000 - val_loss: 0.1890 - val_acc: 0.9500\n",
      "Epoch 17/40\n",
      "5/5 [==============================] - 0s 72ms/step - loss: 0.2323 - acc: 0.9000 - val_loss: 0.1895 - val_acc: 1.0000\n",
      "Epoch 18/40\n",
      "5/5 [==============================] - 0s 82ms/step - loss: 0.0786 - acc: 1.0000 - val_loss: 0.1755 - val_acc: 1.0000\n",
      "Epoch 19/40\n",
      "5/5 [==============================] - 0s 82ms/step - loss: 0.1943 - acc: 0.9000 - val_loss: 0.1733 - val_acc: 0.9500\n",
      "Epoch 20/40\n",
      "5/5 [==============================] - 1s 124ms/step - loss: 0.2272 - acc: 0.9500 - val_loss: 0.7273 - val_acc: 0.5500\n",
      "Epoch 21/40\n",
      "5/5 [==============================] - 0s 69ms/step - loss: 0.3442 - acc: 0.8500 - val_loss: 0.1783 - val_acc: 1.0000\n",
      "Epoch 22/40\n",
      "5/5 [==============================] - 0s 77ms/step - loss: 0.1848 - acc: 0.9000 - val_loss: 0.3239 - val_acc: 0.8000\n",
      "Epoch 23/40\n",
      "5/5 [==============================] - 0s 73ms/step - loss: 0.2968 - acc: 0.8500 - val_loss: 0.5649 - val_acc: 0.6000\n",
      "Epoch 24/40\n",
      "5/5 [==============================] - 0s 67ms/step - loss: 0.4376 - acc: 0.8000 - val_loss: 0.2979 - val_acc: 0.8000\n",
      "Epoch 25/40\n",
      "5/5 [==============================] - 0s 101ms/step - loss: 0.3448 - acc: 0.8500 - val_loss: 0.3274 - val_acc: 0.8000\n",
      "Epoch 26/40\n",
      "5/5 [==============================] - 0s 77ms/step - loss: 0.2291 - acc: 0.9500 - val_loss: 0.1750 - val_acc: 1.0000\n",
      "Epoch 27/40\n",
      "5/5 [==============================] - 1s 114ms/step - loss: 0.2580 - acc: 0.8500 - val_loss: 0.1701 - val_acc: 1.0000\n",
      "Epoch 28/40\n",
      "5/5 [==============================] - 0s 100ms/step - loss: 0.1373 - acc: 0.9000 - val_loss: 0.1596 - val_acc: 1.0000\n",
      "Epoch 29/40\n",
      "5/5 [==============================] - 1s 77ms/step - loss: 0.2232 - acc: 0.9000 - val_loss: 0.2034 - val_acc: 0.9000\n",
      "Epoch 30/40\n",
      "5/5 [==============================] - 0s 72ms/step - loss: 0.1945 - acc: 0.9500 - val_loss: 0.1637 - val_acc: 1.0000\n",
      "Epoch 31/40\n",
      "5/5 [==============================] - 0s 84ms/step - loss: 0.2426 - acc: 0.9000 - val_loss: 0.3717 - val_acc: 0.7500\n",
      "Epoch 32/40\n",
      "5/5 [==============================] - 0s 75ms/step - loss: 0.1422 - acc: 0.9500 - val_loss: 0.9041 - val_acc: 0.5500\n",
      "Epoch 33/40\n",
      "5/5 [==============================] - 0s 73ms/step - loss: 0.1526 - acc: 0.9500 - val_loss: 0.1597 - val_acc: 1.0000\n",
      "Epoch 34/40\n",
      "5/5 [==============================] - 0s 69ms/step - loss: 0.0536 - acc: 1.0000 - val_loss: 0.1391 - val_acc: 1.0000\n",
      "Epoch 35/40\n",
      "5/5 [==============================] - 0s 76ms/step - loss: 0.1592 - acc: 0.9000 - val_loss: 0.6619 - val_acc: 0.6000\n",
      "Epoch 36/40\n",
      "5/5 [==============================] - 0s 75ms/step - loss: 0.2301 - acc: 0.9000 - val_loss: 0.1515 - val_acc: 1.0000\n",
      "Epoch 37/40\n",
      "5/5 [==============================] - 0s 110ms/step - loss: 0.0431 - acc: 1.0000 - val_loss: 0.1557 - val_acc: 0.9000\n",
      "Epoch 38/40\n",
      "5/5 [==============================] - 0s 69ms/step - loss: 0.1399 - acc: 0.9000 - val_loss: 0.1416 - val_acc: 0.9500\n",
      "Epoch 39/40\n",
      "5/5 [==============================] - 0s 80ms/step - loss: 0.4962 - acc: 0.8500 - val_loss: 0.1438 - val_acc: 1.0000\n",
      "Epoch 40/40\n",
      "5/5 [==============================] - 0s 71ms/step - loss: 0.1151 - acc: 0.9500 - val_loss: 0.1382 - val_acc: 1.0000\n"
     ]
    }
   ],
   "source": [
    "history_2 = model.fit(train_generator,\n",
    "                   steps_per_epoch = 5,\n",
    "                   epochs = 40,\n",
    "                   validation_data = validation_generator, \n",
    "                   validation_steps = 5)"
   ]
  },
  {
   "cell_type": "markdown",
   "id": "5e96361d-5887-44c1-bfc7-f360ee99147a",
   "metadata": {},
   "source": [
    "### Accuracy and Loss "
   ]
  },
  {
   "cell_type": "code",
   "execution_count": 19,
   "id": "cd36bb4e-f23b-4ac1-9e7b-a4a488f76850",
   "metadata": {},
   "outputs": [],
   "source": [
    "acc_2 = history_2.history['acc']\n",
    "val_acc_2 = history_2.history['val_acc']\n",
    "loss_2 = history_2.history['loss']\n",
    "val_loss_2 = history_2.history['val_loss']\n",
    "\n",
    "epochs_2 = range(len(acc_2))"
   ]
  },
  {
   "cell_type": "code",
   "execution_count": 21,
   "id": "06f940cb-05e5-4287-8d54-99b6c592393e",
   "metadata": {},
   "outputs": [
    {
     "data": {
      "image/png": "[encoded data removed]",
      "text/plain": [
       "<Figure size 432x288 with 1 Axes>"
      ]
     },
     "metadata": {
      "needs_background": "light"
     },
     "output_type": "display_data"
    },
    {
     "data": {
      "image/png": "[encoded data removed]",
      "text/plain": [
       "<Figure size 432x288 with 1 Axes>"
      ]
     },
     "metadata": {
      "needs_background": "light"
     },
     "output_type": "display_data"
    }
   ],
   "source": [
    "# Plots\n",
    "plt.plot(epochs_2, acc_2, 'bo', label='Training Accuracy')\n",
    "# b is for \"solid blue line\"\n",
    "plt.plot(epochs_2, val_acc_2, 'b', label='Validation Accuracy')\n",
    "plt.title('Training and Validation Accuracy')\n",
    "plt.xlabel('Epochs')\n",
    "plt.ylabel('Accuracy')\n",
    "plt.legend()\n",
    "\n",
    "plt.show()\n",
    "\n",
    "\n",
    "# \"bo\" is for \"blue dot\"\n",
    "plt.plot(epochs_2, loss_2, 'bo', label='Training loss')\n",
    "# b is for \"solid blue line\"\n",
    "plt.plot(epochs_2, val_loss_2, 'b', label='Validation loss')\n",
    "plt.title('Training and Validation loss')\n",
    "plt.xlabel('Epochs')\n",
    "plt.ylabel('Loss')\n",
    "plt.legend()\n",
    "\n",
    "plt.show()"
   ]
  },
  {
   "cell_type": "code",
   "execution_count": 22,
   "id": "a3bc110e-7a01-4042-b548-ab221fa376d1",
   "metadata": {},
   "outputs": [
    {
     "name": "stdout",
     "output_type": "stream",
     "text": [
      "Found 20 images belonging to 2 classes.\n",
      "test acc: 0.949999988079071\n",
      "test loss: 0.16426196694374084\n"
     ]
    }
   ],
   "source": [
    "test_generator = test_datagen.flow_from_directory(\n",
    "        test_dir,\n",
    "        target_size=(150, 150),\n",
    "        batch_size=4,\n",
    "        class_mode='binary')\n",
    "test_loss, test_acc = model.evaluate_generator(test_generator, steps=5)\n",
    "print('test acc:', test_acc)\n",
    "print('test loss:', test_loss)"
   ]
  },
  {
   "cell_type": "markdown",
   "id": "a0a33534-2797-4970-9572-26afb3faa873",
   "metadata": {},
   "source": [
    "# Comparison of the results for 2-Species Analysis"
   ]
  },
  {
   "cell_type": "markdown",
   "id": "55d8a256-13c4-4875-baea-b46e551c7436",
   "metadata": {},
   "source": [
    "The test accuracy for the convolutional neural network is higher than that of the standard neiral network. The convolutional neural net also has lower loss than the other model. These combined means that there are less errors which occur less frequently meaning that the convolutionalneural netowrk is performing better than the standard neural network. "
   ]
  },
  {
   "cell_type": "markdown",
   "id": "f9eb187c-9aac-4908-abe8-5f20d32ef41b",
   "metadata": {},
   "source": [
    "## **10 Species (multi-class classification) - neural net.** \n",
    "Draw from 3.5 📰 Newswires (multi-class classification)."
   ]
  },
  {
   "cell_type": "markdown",
   "id": "2119c227-92f7-4853-b888-22baa2e5665b",
   "metadata": {},
   "source": [
    "## **10 Species (multi-class classification) - convolutional neural net.** \n",
    "Draw from dogs vs cats example and update necessary values to go from binary to mult-class classification."
   ]
  },
  {
   "cell_type": "code",
   "execution_count": null,
   "id": "a88e308a-538e-49cd-b1b6-e7f9ff24f9c5",
   "metadata": {},
   "outputs": [],
   "source": []
  }
 ],
 "metadata": {
  "kernelspec": {
   "display_name": "Python 3 (ipykernel)",
   "language": "python",
   "name": "python3"
  },
  "language_info": {
   "codemirror_mode": {
    "name": "ipython",
    "version": 3
   },
   "file_extension": ".py",
   "mimetype": "text/x-python",
   "name": "python",
   "nbconvert_exporter": "python",
   "pygments_lexer": "ipython3",
   "version": "3.7.7"
  }
 },
 "nbformat": 4,
 "nbformat_minor": 5
}
