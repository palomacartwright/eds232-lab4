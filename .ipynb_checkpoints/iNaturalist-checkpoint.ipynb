{
 "cells": [
  {
   "cell_type": "markdown",
   "id": "20e80abf-6ca2-48b4-b646-455c8d4f7507",
   "metadata": {},
   "source": [
    "# iNaturalist Lab"
   ]
  },
  {
   "cell_type": "code",
   "execution_count": 1,
   "id": "39500cd4-f29e-4394-9441-689d0fcda9bd",
   "metadata": {},
   "outputs": [
    {
     "name": "stderr",
     "output_type": "stream",
     "text": [
      "2022-03-04 23:26:44.199949: W tensorflow/stream_executor/platform/default/dso_loader.cc:64] Could not load dynamic library 'libcudart.so.11.0'; dlerror: libcudart.so.11.0: cannot open shared object file: No such file or directory; LD_LIBRARY_PATH: /opt/R/4.0.5/lib/R/lib::/lib:/usr/local/lib:/usr/lib/x86_64-linux-gnu:/usr/lib/jvm/java-11-openjdk-amd64/lib/server\n",
      "2022-03-04 23:26:44.199981: I tensorflow/stream_executor/cuda/cudart_stub.cc:29] Ignore above cudart dlerror if you do not have a GPU set up on your machine.\n"
     ]
    },
    {
     "data": {
      "text/plain": [
       "'2.6.0'"
      ]
     },
     "execution_count": 1,
     "metadata": {},
     "output_type": "execute_result"
    }
   ],
   "source": [
    "import keras\n",
    "import tensorflow.keras\n",
    "import os\n",
    "from os import listdir\n",
    "import shutil\n",
    "from random import sample\n",
    "import pandas as pd\n",
    "from tensorflow.keras import optimizers\n",
    "from tensorflow.keras import losses\n",
    "from tensorflow.keras import metrics\n",
    "import matplotlib.pyplot as plt\n",
    "keras.__version__"
   ]
  },
  {
   "cell_type": "markdown",
   "id": "4a4ef5f8-1a54-40f1-ae70-8a260d04de25",
   "metadata": {
    "tags": []
   },
   "source": [
    "## Data\n",
    "\n",
    "The data for this project was compiled into `inat` directory using the `lab4-preprocessing.R` RScript. "
   ]
  },
  {
   "cell_type": "code",
   "execution_count": 2,
   "id": "38b94b84-b6ac-4be2-a748-4c17dae1c17a",
   "metadata": {},
   "outputs": [],
   "source": [
    "base_dir = '/Users/palomacartwright/EDS232-mine/eds232-lab4/inat'"
   ]
  },
  {
   "cell_type": "markdown",
   "id": "4285dd2f-459a-445d-ade1-6d5105b75a55",
   "metadata": {
    "tags": []
   },
   "source": [
    "# **2 Species (binary classification) - neural net.** \n",
    "Draw from 3.4 🍿 Movies (binary classification). \n",
    "\n",
    "You’ll need to pre-process the images to be a consistent shape first though – see 5.2.4 Data preprocessing."
   ]
  },
  {
   "cell_type": "code",
   "execution_count": 3,
   "id": "0c067f51-9548-4951-a3e2-ade38472fc6f",
   "metadata": {},
   "outputs": [
    {
     "name": "stdout",
     "output_type": "stream",
     "text": [
      "Found 60 images belonging to 2 classes.\n",
      "Found 20 images belonging to 2 classes.\n"
     ]
    }
   ],
   "source": [
    "train_dir = os.path.join(base_dir, 'spp2/train')\n",
    "validation_dir = os.path.join(base_dir, 'spp2/validation')\n",
    "test_dir = os.path.join(base_dir, 'spp2/test')\n",
    "\n",
    "from keras.preprocessing.image import ImageDataGenerator\n",
    "\n",
    "# All images will be rescaled by 1./255\n",
    "train_datagen = ImageDataGenerator(rescale=1./255)\n",
    "test_datagen = ImageDataGenerator(rescale=1./255)\n",
    "\n",
    "train_generator = train_datagen.flow_from_directory(\n",
    "        # This is the target directory\n",
    "        train_dir,\n",
    "        # All images will be resized to 150x150\n",
    "        target_size=(150, 150),\n",
    "        batch_size=4,\n",
    "        # Since we use binary_crossentropy loss, we need binary labels\n",
    "        class_mode='binary')\n",
    "\n",
    "validation_generator = test_datagen.flow_from_directory(\n",
    "        validation_dir,\n",
    "        target_size=(150, 150),\n",
    "        batch_size=4,\n",
    "        class_mode='binary')\n"
   ]
  },
  {
   "cell_type": "code",
   "execution_count": 4,
   "id": "1fe7412f-3ec9-48c9-8044-c1ebb37cc5e4",
   "metadata": {},
   "outputs": [
    {
     "name": "stdout",
     "output_type": "stream",
     "text": [
      "data batch shape: (4, 150, 150, 3)\n",
      "labels batch shape: (4,)\n"
     ]
    }
   ],
   "source": [
    "\n",
    "for data_batch, labels_batch in train_generator:\n",
    "    print('data batch shape:', data_batch.shape)\n",
    "    print('labels batch shape:', labels_batch.shape)\n",
    "    break"
   ]
  },
  {
   "cell_type": "markdown",
   "id": "5ebc76bc-1007-4a67-949a-2862218aa504",
   "metadata": {},
   "source": [
    "## Neural Net Modelling"
   ]
  },
  {
   "cell_type": "code",
   "execution_count": 5,
   "id": "4554788f-75cd-46f6-8fd2-c96397a37679",
   "metadata": {},
   "outputs": [
    {
     "name": "stderr",
     "output_type": "stream",
     "text": [
      "2022-03-04 23:26:45.915626: W tensorflow/stream_executor/platform/default/dso_loader.cc:64] Could not load dynamic library 'libcuda.so.1'; dlerror: libcuda.so.1: cannot open shared object file: No such file or directory; LD_LIBRARY_PATH: /opt/R/4.0.5/lib/R/lib::/lib:/usr/local/lib:/usr/lib/x86_64-linux-gnu:/usr/lib/jvm/java-11-openjdk-amd64/lib/server\n",
      "2022-03-04 23:26:45.915655: W tensorflow/stream_executor/cuda/cuda_driver.cc:269] failed call to cuInit: UNKNOWN ERROR (303)\n",
      "2022-03-04 23:26:45.915674: I tensorflow/stream_executor/cuda/cuda_diagnostics.cc:156] kernel driver does not appear to be running on this host (taylor): /proc/driver/nvidia/version does not exist\n",
      "2022-03-04 23:26:45.915900: I tensorflow/core/platform/cpu_feature_guard.cc:142] This TensorFlow binary is optimized with oneAPI Deep Neural Network Library (oneDNN) to use the following CPU instructions in performance-critical operations:  AVX2 AVX512F FMA\n",
      "To enable them in other operations, rebuild TensorFlow with the appropriate compiler flags.\n"
     ]
    }
   ],
   "source": [
    "from keras import models\n",
    "from keras import layers\n",
    "\n",
    "model = models.Sequential()\n",
    "model.add(layers.Dense(16, activation='relu', input_shape=(150, 150, 3)))\n",
    "model.add(layers.Flatten())\n",
    "model.add(layers.Dense(16, activation='relu'))\n",
    "model.add(layers.Dense(1, activation='sigmoid'))"
   ]
  },
  {
   "cell_type": "code",
   "execution_count": 6,
   "id": "82d11ccf-6426-432d-b592-6096089ca5b6",
   "metadata": {},
   "outputs": [
    {
     "name": "stdout",
     "output_type": "stream",
     "text": [
      "Model: \"sequential\"\n",
      "_________________________________________________________________\n",
      "Layer (type)                 Output Shape              Param #   \n",
      "=================================================================\n",
      "dense (Dense)                (None, 150, 150, 16)      64        \n",
      "_________________________________________________________________\n",
      "flatten (Flatten)            (None, 360000)            0         \n",
      "_________________________________________________________________\n",
      "dense_1 (Dense)              (None, 16)                5760016   \n",
      "_________________________________________________________________\n",
      "dense_2 (Dense)              (None, 1)                 17        \n",
      "=================================================================\n",
      "Total params: 5,760,097\n",
      "Trainable params: 5,760,097\n",
      "Non-trainable params: 0\n",
      "_________________________________________________________________\n"
     ]
    }
   ],
   "source": [
    "# optimizing and choosing loss function \n",
    "model.compile(optimizer='rmsprop',\n",
    "              loss='binary_crossentropy',\n",
    "              metrics=['accuracy'])\n",
    "model.summary()"
   ]
  },
  {
   "cell_type": "markdown",
   "id": "930c960f-dfdc-4e53-a8f7-e093e076db35",
   "metadata": {},
   "source": [
    "## Validation"
   ]
  },
  {
   "cell_type": "code",
   "execution_count": 7,
   "id": "245c2420-241b-4fdd-b7b5-c53bde117b4e",
   "metadata": {},
   "outputs": [
    {
     "name": "stdout",
     "output_type": "stream",
     "text": [
      "Epoch 1/40\n"
     ]
    },
    {
     "name": "stderr",
     "output_type": "stream",
     "text": [
      "2022-03-04 23:26:46.036551: I tensorflow/compiler/mlir/mlir_graph_optimization_pass.cc:185] None of the MLIR Optimization Passes are enabled (registered 2)\n"
     ]
    },
    {
     "name": "stdout",
     "output_type": "stream",
     "text": [
      "5/5 [==============================] - 1s 101ms/step - loss: 30.2629 - accuracy: 0.5500 - val_loss: 1.7414 - val_accuracy: 0.6000\n",
      "Epoch 2/40\n",
      "5/5 [==============================] - 0s 63ms/step - loss: 12.3171 - accuracy: 0.7000 - val_loss: 7.9913 - val_accuracy: 0.5000\n",
      "Epoch 3/40\n",
      "5/5 [==============================] - 0s 68ms/step - loss: 28.5938 - accuracy: 0.4500 - val_loss: 3.1475 - val_accuracy: 0.7000\n",
      "Epoch 4/40\n",
      "5/5 [==============================] - 0s 64ms/step - loss: 10.0752 - accuracy: 0.6500 - val_loss: 14.7706 - val_accuracy: 0.5000\n",
      "Epoch 5/40\n",
      "5/5 [==============================] - 0s 68ms/step - loss: 2.3262 - accuracy: 0.8000 - val_loss: 14.2306 - val_accuracy: 0.5000\n",
      "Epoch 6/40\n",
      "5/5 [==============================] - 0s 70ms/step - loss: 4.8268 - accuracy: 0.6500 - val_loss: 3.5571 - val_accuracy: 0.7500\n",
      "Epoch 7/40\n",
      "5/5 [==============================] - 0s 70ms/step - loss: 0.2129 - accuracy: 0.9500 - val_loss: 9.1087 - val_accuracy: 0.6000\n",
      "Epoch 8/40\n",
      "5/5 [==============================] - 0s 63ms/step - loss: 8.8801 - accuracy: 0.7000 - val_loss: 13.2338 - val_accuracy: 0.5000\n",
      "Epoch 9/40\n",
      "5/5 [==============================] - 0s 64ms/step - loss: 0.4799 - accuracy: 0.8500 - val_loss: 10.5500 - val_accuracy: 0.6500\n",
      "Epoch 10/40\n",
      "5/5 [==============================] - 0s 55ms/step - loss: 2.3766 - accuracy: 0.8000 - val_loss: 5.1343 - val_accuracy: 0.7000\n",
      "Epoch 11/40\n",
      "5/5 [==============================] - 0s 66ms/step - loss: 0.0057 - accuracy: 1.0000 - val_loss: 4.3230 - val_accuracy: 0.7500\n",
      "Epoch 12/40\n",
      "5/5 [==============================] - 0s 58ms/step - loss: 13.0749 - accuracy: 0.6500 - val_loss: 3.6171 - val_accuracy: 0.7500\n",
      "Epoch 13/40\n",
      "5/5 [==============================] - 0s 62ms/step - loss: 2.9758 - accuracy: 0.7500 - val_loss: 6.6475 - val_accuracy: 0.6500\n",
      "Epoch 14/40\n",
      "5/5 [==============================] - 0s 58ms/step - loss: 5.4506 - accuracy: 0.6500 - val_loss: 22.6107 - val_accuracy: 0.5000\n",
      "Epoch 15/40\n",
      "5/5 [==============================] - 0s 58ms/step - loss: 1.6839 - accuracy: 0.9000 - val_loss: 6.9608 - val_accuracy: 0.7000\n",
      "Epoch 16/40\n",
      "5/5 [==============================] - 0s 61ms/step - loss: 1.7540 - accuracy: 0.7500 - val_loss: 6.4161 - val_accuracy: 0.7000\n",
      "Epoch 17/40\n",
      "5/5 [==============================] - 0s 52ms/step - loss: 2.2029 - accuracy: 0.8000 - val_loss: 3.9201 - val_accuracy: 0.7500\n",
      "Epoch 18/40\n",
      "5/5 [==============================] - 0s 53ms/step - loss: 1.1209 - accuracy: 0.9000 - val_loss: 5.2909 - val_accuracy: 0.7500\n",
      "Epoch 19/40\n",
      "5/5 [==============================] - 0s 55ms/step - loss: 3.9317e-05 - accuracy: 1.0000 - val_loss: 5.2999 - val_accuracy: 0.7500\n",
      "Epoch 20/40\n",
      "5/5 [==============================] - 0s 58ms/step - loss: 4.1212 - accuracy: 0.8000 - val_loss: 5.0712 - val_accuracy: 0.7500\n",
      "Epoch 21/40\n",
      "5/5 [==============================] - 0s 59ms/step - loss: 0.0064 - accuracy: 1.0000 - val_loss: 5.8252 - val_accuracy: 0.7500\n",
      "Epoch 22/40\n",
      "5/5 [==============================] - 0s 60ms/step - loss: 1.6961e-05 - accuracy: 1.0000 - val_loss: 5.8288 - val_accuracy: 0.7500\n",
      "Epoch 23/40\n",
      "5/5 [==============================] - 0s 71ms/step - loss: 6.4839e-06 - accuracy: 1.0000 - val_loss: 5.8275 - val_accuracy: 0.7500\n",
      "Epoch 24/40\n",
      "5/5 [==============================] - 0s 68ms/step - loss: 0.0031 - accuracy: 1.0000 - val_loss: 5.3874 - val_accuracy: 0.7500\n",
      "Epoch 25/40\n",
      "5/5 [==============================] - 0s 60ms/step - loss: 1.9621e-04 - accuracy: 1.0000 - val_loss: 5.4699 - val_accuracy: 0.7500\n",
      "Epoch 26/40\n",
      "5/5 [==============================] - 0s 58ms/step - loss: 1.3473e-04 - accuracy: 1.0000 - val_loss: 5.4995 - val_accuracy: 0.7500\n",
      "Epoch 27/40\n",
      "5/5 [==============================] - 0s 52ms/step - loss: 5.0613e-05 - accuracy: 1.0000 - val_loss: 5.4814 - val_accuracy: 0.7500\n",
      "Epoch 28/40\n",
      "5/5 [==============================] - 0s 53ms/step - loss: 4.4304e-04 - accuracy: 1.0000 - val_loss: 5.9007 - val_accuracy: 0.7000\n",
      "Epoch 29/40\n",
      "5/5 [==============================] - 0s 58ms/step - loss: 8.4549e-05 - accuracy: 1.0000 - val_loss: 5.8178 - val_accuracy: 0.7500\n",
      "Epoch 30/40\n",
      "5/5 [==============================] - 0s 59ms/step - loss: 1.8253e-04 - accuracy: 1.0000 - val_loss: 5.6719 - val_accuracy: 0.7500\n",
      "Epoch 31/40\n",
      "5/5 [==============================] - 0s 62ms/step - loss: 4.9191e-05 - accuracy: 1.0000 - val_loss: 5.7692 - val_accuracy: 0.7500\n",
      "Epoch 32/40\n",
      "5/5 [==============================] - 0s 57ms/step - loss: 5.4889e-05 - accuracy: 1.0000 - val_loss: 5.7551 - val_accuracy: 0.7500\n",
      "Epoch 33/40\n",
      "5/5 [==============================] - 0s 54ms/step - loss: 5.5738e-05 - accuracy: 1.0000 - val_loss: 5.6737 - val_accuracy: 0.7500\n",
      "Epoch 34/40\n",
      "5/5 [==============================] - 0s 51ms/step - loss: 3.1164e-05 - accuracy: 1.0000 - val_loss: 5.7043 - val_accuracy: 0.7500\n",
      "Epoch 35/40\n",
      "5/5 [==============================] - 0s 55ms/step - loss: 4.5564e-05 - accuracy: 1.0000 - val_loss: 5.6678 - val_accuracy: 0.7500\n",
      "Epoch 36/40\n",
      "5/5 [==============================] - 0s 48ms/step - loss: 1.2950e-06 - accuracy: 1.0000 - val_loss: 5.6574 - val_accuracy: 0.7500\n",
      "Epoch 37/40\n",
      "5/5 [==============================] - 0s 54ms/step - loss: 4.4282e-07 - accuracy: 1.0000 - val_loss: 5.6541 - val_accuracy: 0.7500\n",
      "Epoch 38/40\n",
      "5/5 [==============================] - 0s 48ms/step - loss: 8.5383 - accuracy: 0.8000 - val_loss: 9.1081 - val_accuracy: 0.5500\n",
      "Epoch 39/40\n",
      "5/5 [==============================] - 0s 46ms/step - loss: 1.5596 - accuracy: 0.8500 - val_loss: 6.3189 - val_accuracy: 0.7000\n",
      "Epoch 40/40\n",
      "5/5 [==============================] - 0s 53ms/step - loss: 0.0131 - accuracy: 1.0000 - val_loss: 5.2289 - val_accuracy: 0.7500\n"
     ]
    }
   ],
   "source": [
    "# Model Fit \n",
    "\n",
    "history = model.fit(train_generator,\n",
    "                    steps_per_epoch=5,\n",
    "                    epochs=40,\n",
    "                    validation_data=validation_generator,\n",
    "                    validation_steps = 5)"
   ]
  },
  {
   "cell_type": "code",
   "execution_count": 8,
   "id": "834ab68e-fed3-48f3-b248-e19355760997",
   "metadata": {},
   "outputs": [
    {
     "data": {
      "text/plain": [
       "dict_keys(['loss', 'accuracy', 'val_loss', 'val_accuracy'])"
      ]
     },
     "execution_count": 8,
     "metadata": {},
     "output_type": "execute_result"
    }
   ],
   "source": [
    "history_dict = history.history\n",
    "history_dict.keys()"
   ]
  },
  {
   "cell_type": "code",
   "execution_count": 9,
   "id": "c34df355-2a20-47d9-b7ae-c6adde038b14",
   "metadata": {},
   "outputs": [],
   "source": [
    "acc = history.history['accuracy']\n",
    "val_acc = history.history['val_accuracy']\n",
    "loss = history.history['loss']\n",
    "val_loss = history.history['val_loss']\n",
    "\n",
    "epochs = range(1, len(acc) + 1)"
   ]
  },
  {
   "cell_type": "code",
   "execution_count": 10,
   "id": "f5b19f44-5cb1-4329-b5b3-c3a9ccef8473",
   "metadata": {},
   "outputs": [
    {
     "data": {
      "image/png": "[encoded data removed]",
      "text/plain": [
       "<Figure size 432x288 with 1 Axes>"
      ]
     },
     "metadata": {
      "needs_background": "light"
     },
     "output_type": "display_data"
    },
    {
     "data": {
      "image/png": "[encoded data removed]",
      "text/plain": [
       "<Figure size 432x288 with 1 Axes>"
      ]
     },
     "metadata": {
      "needs_background": "light"
     },
     "output_type": "display_data"
    }
   ],
   "source": [
    "# Plots\n",
    "plt.plot(epochs, acc, 'bo', label='Training Accuracy')\n",
    "# b is for \"solid blue line\"\n",
    "plt.plot(epochs, val_acc, 'b', label='Validation Accuracy')\n",
    "plt.title('Training and validation Accuracy')\n",
    "plt.xlabel('Epochs')\n",
    "plt.ylabel('Accuracy')\n",
    "plt.legend()\n",
    "\n",
    "plt.show()\n",
    "\n",
    "\n",
    "# \"bo\" is for \"blue dot\"\n",
    "plt.plot(epochs, loss, 'bo', label='Training loss')\n",
    "# b is for \"solid blue line\"\n",
    "plt.plot(epochs, val_loss, 'b', label='Validation loss')\n",
    "plt.title('Training and validation loss')\n",
    "plt.xlabel('Epochs')\n",
    "plt.ylabel('Loss')\n",
    "plt.legend()\n",
    "\n",
    "plt.show()"
   ]
  },
  {
   "cell_type": "code",
   "execution_count": 11,
   "id": "0d60fb22-3382-4411-8419-9d167e526f12",
   "metadata": {},
   "outputs": [
    {
     "name": "stdout",
     "output_type": "stream",
     "text": [
      "Found 20 images belonging to 2 classes.\n",
      "test_acc: 0.699999988079071\n",
      "test_loss: 4.347499370574951\n"
     ]
    },
    {
     "name": "stderr",
     "output_type": "stream",
     "text": [
      "/opt/python/3.7.7/lib/python3.7/site-packages/keras/engine/training.py:2006: UserWarning: `Model.evaluate_generator` is deprecated and will be removed in a future version. Please use `Model.evaluate`, which supports generators.\n",
      "  warnings.warn('`Model.evaluate_generator` is deprecated and '\n"
     ]
    }
   ],
   "source": [
    "test_generator = test_datagen.flow_from_directory(\n",
    "        test_dir, \n",
    "        target_size = (150, 150), \n",
    "        batch_size = 4, \n",
    "        class_mode = 'binary')\n",
    "\n",
    "test_loss, test_acc = model.evaluate_generator(test_generator, steps = 5)\n",
    "print(\"test_acc:\", test_acc)\n",
    "print(\"test_loss:\", test_loss)"
   ]
  },
  {
   "cell_type": "markdown",
   "id": "9d3b2f42-2c45-4b6d-a278-ee38978751e6",
   "metadata": {},
   "source": [
    "## **2 Species (binary classification) - convolutional neural net.**\n"
   ]
  },
  {
   "cell_type": "markdown",
   "id": "33e4944b-120c-4fed-9cc9-79f6b2caf6bd",
   "metadata": {},
   "source": [
    "## Build the Convolutional Neural Net Model"
   ]
  },
  {
   "cell_type": "code",
   "execution_count": 12,
   "id": "cd2dca23-c79b-41e9-8555-5c3088344ff4",
   "metadata": {},
   "outputs": [],
   "source": [
    "model = models.Sequential()\n",
    "model.add(layers.Conv2D(32, (3, 3), activation='relu',\n",
    "                        input_shape=(150, 150, 3)))\n",
    "model.add(layers.MaxPooling2D((2, 2)))\n",
    "model.add(layers.Conv2D(64, (3, 3), activation='relu'))\n",
    "model.add(layers.MaxPooling2D((2, 2)))\n",
    "model.add(layers.Conv2D(128, (3, 3), activation='relu'))\n",
    "model.add(layers.MaxPooling2D((2, 2)))\n",
    "model.add(layers.Conv2D(128, (3, 3), activation='relu'))\n",
    "model.add(layers.MaxPooling2D((2, 2)))\n",
    "model.add(layers.Flatten())\n",
    "model.add(layers.Dropout(0.5))\n",
    "model.add(layers.Dense(512, activation='relu'))\n",
    "model.add(layers.Dense(1, activation='sigmoid'))"
   ]
  },
  {
   "cell_type": "markdown",
   "id": "acec1017-14e0-4879-9388-113a172fab2c",
   "metadata": {},
   "source": [
    "## Compile the Model"
   ]
  },
  {
   "cell_type": "code",
   "execution_count": 13,
   "id": "ea3fc42a-db98-49e8-b476-277ee57fb4f3",
   "metadata": {},
   "outputs": [],
   "source": [
    "model.compile(loss='binary_crossentropy',\n",
    "              optimizer=optimizers.RMSprop(learning_rate=1e-4),\n",
    "              metrics=['acc'])"
   ]
  },
  {
   "cell_type": "code",
   "execution_count": 14,
   "id": "b0e0cb71-29d6-4d17-bdb3-d23b45e0bb5d",
   "metadata": {},
   "outputs": [
    {
     "name": "stdout",
     "output_type": "stream",
     "text": [
      "Model: \"sequential_1\"\n",
      "_________________________________________________________________\n",
      "Layer (type)                 Output Shape              Param #   \n",
      "=================================================================\n",
      "conv2d (Conv2D)              (None, 148, 148, 32)      896       \n",
      "_________________________________________________________________\n",
      "max_pooling2d (MaxPooling2D) (None, 74, 74, 32)        0         \n",
      "_________________________________________________________________\n",
      "conv2d_1 (Conv2D)            (None, 72, 72, 64)        18496     \n",
      "_________________________________________________________________\n",
      "max_pooling2d_1 (MaxPooling2 (None, 36, 36, 64)        0         \n",
      "_________________________________________________________________\n",
      "conv2d_2 (Conv2D)            (None, 34, 34, 128)       73856     \n",
      "_________________________________________________________________\n",
      "max_pooling2d_2 (MaxPooling2 (None, 17, 17, 128)       0         \n",
      "_________________________________________________________________\n",
      "conv2d_3 (Conv2D)            (None, 15, 15, 128)       147584    \n",
      "_________________________________________________________________\n",
      "max_pooling2d_3 (MaxPooling2 (None, 7, 7, 128)         0         \n",
      "_________________________________________________________________\n",
      "flatten_1 (Flatten)          (None, 6272)              0         \n",
      "_________________________________________________________________\n",
      "dropout (Dropout)            (None, 6272)              0         \n",
      "_________________________________________________________________\n",
      "dense_3 (Dense)              (None, 512)               3211776   \n",
      "_________________________________________________________________\n",
      "dense_4 (Dense)              (None, 1)                 513       \n",
      "=================================================================\n",
      "Total params: 3,453,121\n",
      "Trainable params: 3,453,121\n",
      "Non-trainable params: 0\n",
      "_________________________________________________________________\n"
     ]
    }
   ],
   "source": [
    "model.summary()"
   ]
  },
  {
   "cell_type": "code",
   "execution_count": 15,
   "id": "9fedcd2b-bb10-402b-bb2e-54808e751213",
   "metadata": {},
   "outputs": [
    {
     "name": "stdout",
     "output_type": "stream",
     "text": [
      "Epoch 1/40\n",
      "5/5 [==============================] - 1s 129ms/step - loss: 0.6435 - acc: 0.6500 - val_loss: 0.7936 - val_acc: 0.5000\n",
      "Epoch 2/40\n",
      "5/5 [==============================] - 0s 86ms/step - loss: 0.6781 - acc: 0.6000 - val_loss: 0.6898 - val_acc: 0.5000\n",
      "Epoch 3/40\n",
      "5/5 [==============================] - 1s 133ms/step - loss: 0.6737 - acc: 0.5500 - val_loss: 0.6560 - val_acc: 0.5000\n",
      "Epoch 4/40\n",
      "5/5 [==============================] - 1s 110ms/step - loss: 0.6593 - acc: 0.6500 - val_loss: 0.6717 - val_acc: 0.5000\n",
      "Epoch 5/40\n",
      "5/5 [==============================] - 0s 84ms/step - loss: 0.5843 - acc: 0.8000 - val_loss: 0.7042 - val_acc: 0.5000\n",
      "Epoch 6/40\n",
      "5/5 [==============================] - 0s 73ms/step - loss: 0.5085 - acc: 0.8500 - val_loss: 0.5690 - val_acc: 0.6500\n",
      "Epoch 7/40\n",
      "5/5 [==============================] - 0s 73ms/step - loss: 0.6273 - acc: 0.6000 - val_loss: 0.5436 - val_acc: 0.6500\n",
      "Epoch 8/40\n",
      "5/5 [==============================] - 0s 85ms/step - loss: 0.3995 - acc: 0.8500 - val_loss: 0.6416 - val_acc: 0.5000\n",
      "Epoch 9/40\n",
      "5/5 [==============================] - 0s 75ms/step - loss: 0.3654 - acc: 0.9500 - val_loss: 0.4367 - val_acc: 0.8500\n",
      "Epoch 10/40\n",
      "5/5 [==============================] - 0s 104ms/step - loss: 0.5426 - acc: 0.8000 - val_loss: 0.5363 - val_acc: 0.6000\n",
      "Epoch 11/40\n",
      "5/5 [==============================] - 0s 79ms/step - loss: 0.3897 - acc: 0.8500 - val_loss: 0.4237 - val_acc: 0.8000\n",
      "Epoch 12/40\n",
      "5/5 [==============================] - 0s 100ms/step - loss: 0.3351 - acc: 0.8500 - val_loss: 0.7480 - val_acc: 0.6500\n",
      "Epoch 13/40\n",
      "5/5 [==============================] - 0s 69ms/step - loss: 0.3986 - acc: 0.8000 - val_loss: 0.5236 - val_acc: 0.7000\n",
      "Epoch 14/40\n",
      "5/5 [==============================] - 0s 97ms/step - loss: 0.4967 - acc: 0.8000 - val_loss: 0.4005 - val_acc: 0.8000\n",
      "Epoch 15/40\n",
      "5/5 [==============================] - 0s 75ms/step - loss: 0.2101 - acc: 0.9500 - val_loss: 0.3621 - val_acc: 0.9000\n",
      "Epoch 16/40\n",
      "5/5 [==============================] - 0s 69ms/step - loss: 0.2036 - acc: 0.9500 - val_loss: 0.4283 - val_acc: 0.8000\n",
      "Epoch 17/40\n",
      "5/5 [==============================] - 0s 71ms/step - loss: 0.2681 - acc: 0.9000 - val_loss: 0.8255 - val_acc: 0.6500\n",
      "Epoch 18/40\n",
      "5/5 [==============================] - 0s 90ms/step - loss: 0.5269 - acc: 0.9000 - val_loss: 0.3254 - val_acc: 0.9000\n",
      "Epoch 19/40\n",
      "5/5 [==============================] - 0s 68ms/step - loss: 0.2247 - acc: 0.9500 - val_loss: 0.3653 - val_acc: 0.8500\n",
      "Epoch 20/40\n",
      "5/5 [==============================] - 0s 69ms/step - loss: 0.0868 - acc: 1.0000 - val_loss: 0.3115 - val_acc: 0.8500\n",
      "Epoch 21/40\n",
      "5/5 [==============================] - 0s 82ms/step - loss: 0.4706 - acc: 0.9000 - val_loss: 0.3699 - val_acc: 0.8500\n",
      "Epoch 22/40\n",
      "5/5 [==============================] - 0s 72ms/step - loss: 0.4397 - acc: 0.8000 - val_loss: 0.3035 - val_acc: 0.9000\n",
      "Epoch 23/40\n",
      "5/5 [==============================] - 0s 66ms/step - loss: 0.2687 - acc: 0.8500 - val_loss: 0.2944 - val_acc: 0.9000\n",
      "Epoch 24/40\n",
      "5/5 [==============================] - 0s 74ms/step - loss: 0.1741 - acc: 0.9000 - val_loss: 0.3147 - val_acc: 0.9000\n",
      "Epoch 25/40\n",
      "5/5 [==============================] - 0s 73ms/step - loss: 0.4734 - acc: 0.8500 - val_loss: 0.3058 - val_acc: 0.9000\n",
      "Epoch 26/40\n",
      "5/5 [==============================] - 0s 76ms/step - loss: 0.2290 - acc: 0.9500 - val_loss: 0.2884 - val_acc: 0.9000\n",
      "Epoch 27/40\n",
      "5/5 [==============================] - 0s 88ms/step - loss: 0.1755 - acc: 0.9500 - val_loss: 0.4832 - val_acc: 0.7500\n",
      "Epoch 28/40\n",
      "5/5 [==============================] - 0s 75ms/step - loss: 0.1492 - acc: 1.0000 - val_loss: 0.4481 - val_acc: 0.8000\n",
      "Epoch 29/40\n",
      "5/5 [==============================] - 0s 69ms/step - loss: 0.2738 - acc: 0.9500 - val_loss: 0.3164 - val_acc: 0.8500\n",
      "Epoch 30/40\n",
      "5/5 [==============================] - 0s 68ms/step - loss: 0.2243 - acc: 0.9000 - val_loss: 0.3804 - val_acc: 0.8500\n",
      "Epoch 31/40\n",
      "5/5 [==============================] - 0s 69ms/step - loss: 0.1240 - acc: 0.9000 - val_loss: 0.8014 - val_acc: 0.6000\n",
      "Epoch 32/40\n",
      "5/5 [==============================] - 0s 73ms/step - loss: 0.1888 - acc: 0.9000 - val_loss: 0.2932 - val_acc: 0.9000\n",
      "Epoch 33/40\n",
      "5/5 [==============================] - 0s 71ms/step - loss: 0.2085 - acc: 0.8500 - val_loss: 0.2645 - val_acc: 0.8500\n",
      "Epoch 34/40\n",
      "5/5 [==============================] - 0s 80ms/step - loss: 0.2734 - acc: 0.9000 - val_loss: 0.6604 - val_acc: 0.6500\n",
      "Epoch 35/40\n",
      "5/5 [==============================] - 0s 76ms/step - loss: 0.3612 - acc: 0.9000 - val_loss: 0.3943 - val_acc: 0.8000\n",
      "Epoch 36/40\n",
      "5/5 [==============================] - 0s 73ms/step - loss: 0.0864 - acc: 1.0000 - val_loss: 0.1975 - val_acc: 0.9500\n",
      "Epoch 37/40\n",
      "5/5 [==============================] - 0s 67ms/step - loss: 0.3289 - acc: 0.8500 - val_loss: 0.2668 - val_acc: 0.8500\n",
      "Epoch 38/40\n",
      "5/5 [==============================] - 0s 68ms/step - loss: 0.3692 - acc: 0.8500 - val_loss: 0.1889 - val_acc: 0.9500\n",
      "Epoch 39/40\n",
      "5/5 [==============================] - 0s 107ms/step - loss: 0.1368 - acc: 0.9500 - val_loss: 0.2140 - val_acc: 0.9500\n",
      "Epoch 40/40\n",
      "5/5 [==============================] - 0s 73ms/step - loss: 0.0705 - acc: 1.0000 - val_loss: 0.1823 - val_acc: 0.9500\n"
     ]
    }
   ],
   "source": [
    "history_2 = model.fit(train_generator,\n",
    "                   steps_per_epoch = 5,\n",
    "                   epochs = 40,\n",
    "                   validation_data = validation_generator, \n",
    "                   validation_steps = 5)"
   ]
  },
  {
   "cell_type": "markdown",
   "id": "5e96361d-5887-44c1-bfc7-f360ee99147a",
   "metadata": {},
   "source": [
    "### Accuracy and Loss "
   ]
  },
  {
   "cell_type": "code",
   "execution_count": 16,
   "id": "cd36bb4e-f23b-4ac1-9e7b-a4a488f76850",
   "metadata": {},
   "outputs": [],
   "source": [
    "acc_2 = history_2.history['acc']\n",
    "val_acc_2 = history_2.history['val_acc']\n",
    "loss_2 = history_2.history['loss']\n",
    "val_loss_2 = history_2.history['val_loss']\n",
    "\n",
    "epochs_2 = range(len(acc_2))"
   ]
  },
  {
   "cell_type": "code",
   "execution_count": 17,
   "id": "06f940cb-05e5-4287-8d54-99b6c592393e",
   "metadata": {},
   "outputs": [
    {
     "data": {
      "image/png": "[encoded data removed]",
      "text/plain": [
       "<Figure size 432x288 with 1 Axes>"
      ]
     },
     "metadata": {
      "needs_background": "light"
     },
     "output_type": "display_data"
    },
    {
     "data": {
      "image/png": "[encoded data removed]",
      "text/plain": [
       "<Figure size 432x288 with 1 Axes>"
      ]
     },
     "metadata": {
      "needs_background": "light"
     },
     "output_type": "display_data"
    }
   ],
   "source": [
    "# Plots\n",
    "plt.plot(epochs_2, acc_2, 'bo', label='Training Accuracy')\n",
    "# b is for \"solid blue line\"\n",
    "plt.plot(epochs_2, val_acc_2, 'b', label='Validation Accuracy')\n",
    "plt.title('Training and Validation Accuracy')\n",
    "plt.xlabel('Epochs')\n",
    "plt.ylabel('Accuracy')\n",
    "plt.legend()\n",
    "\n",
    "plt.show()\n",
    "\n",
    "\n",
    "# \"bo\" is for \"blue dot\"\n",
    "plt.plot(epochs_2, loss_2, 'bo', label='Training loss')\n",
    "# b is for \"solid blue line\"\n",
    "plt.plot(epochs_2, val_loss_2, 'b', label='Validation loss')\n",
    "plt.title('Training and Validation loss')\n",
    "plt.xlabel('Epochs')\n",
    "plt.ylabel('Loss')\n",
    "plt.legend()\n",
    "\n",
    "plt.show()"
   ]
  },
  {
   "cell_type": "code",
   "execution_count": 18,
   "id": "a3bc110e-7a01-4042-b548-ab221fa376d1",
   "metadata": {},
   "outputs": [
    {
     "name": "stdout",
     "output_type": "stream",
     "text": [
      "Found 20 images belonging to 2 classes.\n",
      "test acc: 0.8999999761581421\n",
      "test loss: 0.1899777352809906\n"
     ]
    }
   ],
   "source": [
    "test_generator = test_datagen.flow_from_directory(\n",
    "        test_dir,\n",
    "        target_size=(150, 150),\n",
    "        batch_size=4,\n",
    "        class_mode='binary')\n",
    "test_loss, test_acc = model.evaluate_generator(test_generator, steps=5)\n",
    "print('test acc:', test_acc)\n",
    "print('test loss:', test_loss)"
   ]
  },
  {
   "cell_type": "markdown",
   "id": "a0a33534-2797-4970-9572-26afb3faa873",
   "metadata": {},
   "source": [
    "# Comparison of the results for 2-Species Analysis"
   ]
  },
  {
   "cell_type": "markdown",
   "id": "55d8a256-13c4-4875-baea-b46e551c7436",
   "metadata": {},
   "source": [
    "The test accuracy for the convolutional neural network is higher than that of the standard neiral network. The convolutional neural net also has lower loss than the other model. These combined means that there are less errors which occur less frequently meaning that the convolutional neural network is performing better than the standard neural network. "
   ]
  },
  {
   "cell_type": "markdown",
   "id": "f9eb187c-9aac-4908-abe8-5f20d32ef41b",
   "metadata": {},
   "source": [
    "## **10 Species (multi-class classification) - neural net.** \n",
    "Draw from 3.5 📰 Newswires (multi-class classification)."
   ]
  },
  {
   "cell_type": "code",
   "execution_count": 19,
   "id": "fc981c5a-9b87-4047-952d-c990d2bb96c1",
   "metadata": {},
   "outputs": [],
   "source": [
    "train_dir = os.path.join(base_dir, 'spp10/train')\n",
    "validation_dir = os.path.join(base_dir, 'spp10/validation')\n",
    "test_dir = os.path.join(base_dir, 'spp10/test')"
   ]
  },
  {
   "cell_type": "code",
   "execution_count": 20,
   "id": "5d2e8d6d-e514-4d8e-8465-0b6640f692b1",
   "metadata": {},
   "outputs": [
    {
     "name": "stdout",
     "output_type": "stream",
     "text": [
      "Found 300 images belonging to 10 classes.\n",
      "Found 100 images belonging to 10 classes.\n"
     ]
    }
   ],
   "source": [
    "from keras.preprocessing.image import ImageDataGenerator\n",
    "\n",
    "# All images will be rescaled by 1./255\n",
    "train_datagen = ImageDataGenerator(rescale=1./255)\n",
    "test_datagen = ImageDataGenerator(rescale=1./255)\n",
    "\n",
    "train_generator = train_datagen.flow_from_directory(\n",
    "        # This is the target directory\n",
    "        train_dir,\n",
    "        # All images will be resized to 150x150\n",
    "        target_size=(150, 150),\n",
    "        batch_size=4,\n",
    "        # Since we use categorical_crossentropy loss, we need categorical labels\n",
    "        class_mode='categorical')\n",
    "\n",
    "validation_generator = test_datagen.flow_from_directory(\n",
    "        validation_dir,\n",
    "        target_size=(150, 150),\n",
    "        batch_size=4,\n",
    "        class_mode='categorical')"
   ]
  },
  {
   "cell_type": "code",
   "execution_count": 21,
   "id": "dc806ad1-9854-4eae-953b-745735e5ca1b",
   "metadata": {},
   "outputs": [
    {
     "name": "stdout",
     "output_type": "stream",
     "text": [
      "data batch shape: (4, 150, 150, 3)\n",
      "labels batch shape: (4, 10)\n"
     ]
    }
   ],
   "source": [
    "for data_batch, labels_batch in train_generator:\n",
    "    print('data batch shape:', data_batch.shape)\n",
    "    print('labels batch shape:', labels_batch.shape)\n",
    "    break"
   ]
  },
  {
   "cell_type": "markdown",
   "id": "a34025cf-be79-4c65-b663-565f602b43e3",
   "metadata": {},
   "source": [
    "## Building our Model"
   ]
  },
  {
   "cell_type": "code",
   "execution_count": 22,
   "id": "a2a15068-05ee-4e11-ba87-26688dbfdaf8",
   "metadata": {},
   "outputs": [],
   "source": [
    "from keras import models\n",
    "from keras import layers\n",
    "\n",
    "model = models.Sequential()\n",
    "model.add(layers.Dense(64, activation='relu', input_shape=(150, 150, 3)))\n",
    "model.add(layers.Flatten())\n",
    "model.add(layers.Dense(64, activation='relu'))\n",
    "model.add(layers.Dense(10, activation='softmax'))"
   ]
  },
  {
   "cell_type": "code",
   "execution_count": 23,
   "id": "daffda4e-6c53-41e9-8530-a2bb7b858138",
   "metadata": {},
   "outputs": [],
   "source": [
    "model.compile(optimizer='rmsprop',\n",
    "              loss='categorical_crossentropy',\n",
    "              metrics=['accuracy'])"
   ]
  },
  {
   "cell_type": "code",
   "execution_count": 24,
   "id": "b9aafd50-1241-4917-825f-7cdb1e7b82db",
   "metadata": {},
   "outputs": [
    {
     "name": "stdout",
     "output_type": "stream",
     "text": [
      "Model: \"sequential_2\"\n",
      "_________________________________________________________________\n",
      "Layer (type)                 Output Shape              Param #   \n",
      "=================================================================\n",
      "dense_5 (Dense)              (None, 150, 150, 64)      256       \n",
      "_________________________________________________________________\n",
      "flatten_2 (Flatten)          (None, 1440000)           0         \n",
      "_________________________________________________________________\n",
      "dense_6 (Dense)              (None, 64)                92160064  \n",
      "_________________________________________________________________\n",
      "dense_7 (Dense)              (None, 10)                650       \n",
      "=================================================================\n",
      "Total params: 92,160,970\n",
      "Trainable params: 92,160,970\n",
      "Non-trainable params: 0\n",
      "_________________________________________________________________\n"
     ]
    }
   ],
   "source": [
    "model.summary()"
   ]
  },
  {
   "cell_type": "code",
   "execution_count": 25,
   "id": "8f5c0de5-40bf-4225-987d-d01f9d4c2795",
   "metadata": {},
   "outputs": [
    {
     "name": "stdout",
     "output_type": "stream",
     "text": [
      "Epoch 1/40\n",
      "5/5 [==============================] - 2s 365ms/step - loss: 160.7000 - accuracy: 0.0500 - val_loss: 72.0703 - val_accuracy: 0.0500\n",
      "Epoch 2/40\n",
      "5/5 [==============================] - 2s 361ms/step - loss: 37.3083 - accuracy: 0.2000 - val_loss: 73.8625 - val_accuracy: 0.1000\n",
      "Epoch 3/40\n",
      "5/5 [==============================] - 2s 355ms/step - loss: 47.1657 - accuracy: 0.1500 - val_loss: 29.3188 - val_accuracy: 0.1000\n",
      "Epoch 4/40\n",
      "5/5 [==============================] - 2s 331ms/step - loss: 21.4354 - accuracy: 0.0500 - val_loss: 32.4595 - val_accuracy: 0.2000\n",
      "Epoch 5/40\n",
      "5/5 [==============================] - 2s 339ms/step - loss: 24.5462 - accuracy: 0.1500 - val_loss: 20.2396 - val_accuracy: 0.1000\n",
      "Epoch 6/40\n",
      "5/5 [==============================] - 2s 340ms/step - loss: 19.6183 - accuracy: 0.1000 - val_loss: 21.1924 - val_accuracy: 0.0500\n",
      "Epoch 7/40\n",
      "5/5 [==============================] - 2s 331ms/step - loss: 14.5998 - accuracy: 0.1500 - val_loss: 10.4799 - val_accuracy: 0.2000\n",
      "Epoch 8/40\n",
      "5/5 [==============================] - 2s 333ms/step - loss: 12.1243 - accuracy: 0.3000 - val_loss: 9.4536 - val_accuracy: 0.1000\n",
      "Epoch 9/40\n",
      "5/5 [==============================] - 2s 354ms/step - loss: 11.5027 - accuracy: 0.2500 - val_loss: 9.9413 - val_accuracy: 0.0500\n",
      "Epoch 10/40\n",
      "5/5 [==============================] - 2s 326ms/step - loss: 13.5721 - accuracy: 0.1500 - val_loss: 11.3075 - val_accuracy: 0.2000\n",
      "Epoch 11/40\n",
      "5/5 [==============================] - 2s 330ms/step - loss: 7.5875 - accuracy: 0.1500 - val_loss: 12.0366 - val_accuracy: 0.1500\n",
      "Epoch 12/40\n",
      "5/5 [==============================] - 2s 321ms/step - loss: 8.8012 - accuracy: 0.2500 - val_loss: 29.6533 - val_accuracy: 0.1500\n",
      "Epoch 13/40\n",
      "5/5 [==============================] - 2s 353ms/step - loss: 8.5402 - accuracy: 0.2000 - val_loss: 4.9072 - val_accuracy: 0.2500\n",
      "Epoch 14/40\n",
      "5/5 [==============================] - 2s 329ms/step - loss: 7.5633 - accuracy: 0.1000 - val_loss: 5.1322 - val_accuracy: 0.1000\n",
      "Epoch 15/40\n",
      "5/5 [==============================] - 2s 327ms/step - loss: 6.3450 - accuracy: 0.1500 - val_loss: 5.3320 - val_accuracy: 0.1000\n",
      "Epoch 16/40\n",
      "5/5 [==============================] - 2s 323ms/step - loss: 5.5677 - accuracy: 0.2500 - val_loss: 8.5191 - val_accuracy: 0.2000\n",
      "Epoch 17/40\n",
      "5/5 [==============================] - 2s 377ms/step - loss: 4.9913 - accuracy: 0.2000 - val_loss: 5.9229 - val_accuracy: 0.1000\n",
      "Epoch 18/40\n",
      "5/5 [==============================] - 2s 334ms/step - loss: 3.1959 - accuracy: 0.3000 - val_loss: 4.7604 - val_accuracy: 0.3000\n",
      "Epoch 19/40\n",
      "5/5 [==============================] - 2s 324ms/step - loss: 3.7598 - accuracy: 0.2000 - val_loss: 5.3105 - val_accuracy: 0.2000\n",
      "Epoch 20/40\n",
      "5/5 [==============================] - 2s 346ms/step - loss: 5.4126 - accuracy: 0.2000 - val_loss: 3.9490 - val_accuracy: 0.2000\n",
      "Epoch 21/40\n",
      "5/5 [==============================] - 2s 324ms/step - loss: 1.3767 - accuracy: 0.6000 - val_loss: 2.8511 - val_accuracy: 0.2500\n",
      "Epoch 22/40\n",
      "5/5 [==============================] - 2s 330ms/step - loss: 2.9510 - accuracy: 0.4000 - val_loss: 3.9533 - val_accuracy: 0.3000\n",
      "Epoch 23/40\n",
      "5/5 [==============================] - 2s 324ms/step - loss: 3.0347 - accuracy: 0.3500 - val_loss: 2.8163 - val_accuracy: 0.2000\n",
      "Epoch 24/40\n",
      "5/5 [==============================] - 2s 345ms/step - loss: 2.3420 - accuracy: 0.2000 - val_loss: 2.9894 - val_accuracy: 0.2000\n",
      "Epoch 25/40\n",
      "5/5 [==============================] - 2s 328ms/step - loss: 2.0170 - accuracy: 0.5500 - val_loss: 2.6941 - val_accuracy: 0.2500\n",
      "Epoch 26/40\n",
      "5/5 [==============================] - 2s 322ms/step - loss: 3.2736 - accuracy: 0.3500 - val_loss: 3.7202 - val_accuracy: 0.1500\n",
      "Epoch 27/40\n",
      "5/5 [==============================] - 2s 318ms/step - loss: 1.9957 - accuracy: 0.3500 - val_loss: 3.4190 - val_accuracy: 0.3000\n",
      "Epoch 28/40\n",
      "5/5 [==============================] - 2s 361ms/step - loss: 1.6957 - accuracy: 0.4500 - val_loss: 4.3516 - val_accuracy: 0.1000\n",
      "Epoch 29/40\n",
      "5/5 [==============================] - 2s 323ms/step - loss: 2.5330 - accuracy: 0.3000 - val_loss: 5.0475 - val_accuracy: 0.2000\n",
      "Epoch 30/40\n",
      "5/5 [==============================] - 2s 320ms/step - loss: 1.9429 - accuracy: 0.4000 - val_loss: 2.7896 - val_accuracy: 0.2000\n",
      "Epoch 31/40\n",
      "5/5 [==============================] - 2s 341ms/step - loss: 2.7787 - accuracy: 0.5000 - val_loss: 2.2913 - val_accuracy: 0.4000\n",
      "Epoch 32/40\n",
      "5/5 [==============================] - 2s 314ms/step - loss: 2.6358 - accuracy: 0.3000 - val_loss: 2.3257 - val_accuracy: 0.4500\n",
      "Epoch 33/40\n",
      "5/5 [==============================] - 2s 331ms/step - loss: 2.3448 - accuracy: 0.4500 - val_loss: 3.0602 - val_accuracy: 0.1500\n",
      "Epoch 34/40\n",
      "5/5 [==============================] - 2s 318ms/step - loss: 1.1672 - accuracy: 0.7500 - val_loss: 3.3814 - val_accuracy: 0.1000\n",
      "Epoch 35/40\n",
      "5/5 [==============================] - 2s 318ms/step - loss: 1.4793 - accuracy: 0.5000 - val_loss: 2.5982 - val_accuracy: 0.2000\n",
      "Epoch 36/40\n",
      "5/5 [==============================] - 2s 330ms/step - loss: 1.6247 - accuracy: 0.4500 - val_loss: 4.0970 - val_accuracy: 0.0000e+00\n",
      "Epoch 37/40\n",
      "5/5 [==============================] - 2s 325ms/step - loss: 1.1952 - accuracy: 0.7000 - val_loss: 1.8544 - val_accuracy: 0.3500\n",
      "Epoch 38/40\n",
      "5/5 [==============================] - 2s 322ms/step - loss: 1.2628 - accuracy: 0.6500 - val_loss: 1.9408 - val_accuracy: 0.4000\n",
      "Epoch 39/40\n",
      "5/5 [==============================] - 2s 350ms/step - loss: 1.7454 - accuracy: 0.5500 - val_loss: 2.1347 - val_accuracy: 0.3000\n",
      "Epoch 40/40\n",
      "5/5 [==============================] - 2s 331ms/step - loss: 1.2927 - accuracy: 0.6500 - val_loss: 4.2778 - val_accuracy: 0.0500\n"
     ]
    }
   ],
   "source": [
    "# model fit\n",
    "history_3 = model.fit(\n",
    "      train_generator,\n",
    "      steps_per_epoch=5,\n",
    "      epochs=40,\n",
    "      validation_data=validation_generator,\n",
    "      validation_steps=5)"
   ]
  },
  {
   "cell_type": "code",
   "execution_count": 26,
   "id": "2840edc7-f344-4342-8f7d-540b2fc1764b",
   "metadata": {},
   "outputs": [
    {
     "data": {
      "text/plain": [
       "dict_keys(['loss', 'accuracy', 'val_loss', 'val_accuracy'])"
      ]
     },
     "execution_count": 26,
     "metadata": {},
     "output_type": "execute_result"
    }
   ],
   "source": [
    "history_dict_3 = history_3.history\n",
    "history_dict_3.keys()"
   ]
  },
  {
   "cell_type": "code",
   "execution_count": 27,
   "id": "39500006-15d2-4e84-8f38-12d53e2bf0d9",
   "metadata": {},
   "outputs": [],
   "source": [
    "acc_3 = history_3.history['accuracy']\n",
    "val_acc_3 = history_3.history['val_accuracy']\n",
    "loss_3 = history_3.history['loss']\n",
    "val_loss_3 = history_3.history['val_loss']\n",
    "\n",
    "epochs_3 = range(1, len(acc_3) + 1)"
   ]
  },
  {
   "cell_type": "code",
   "execution_count": 28,
   "id": "45af3be4-116a-4add-bc07-65e1c265d6b1",
   "metadata": {},
   "outputs": [
    {
     "data": {
      "image/png": "[encoded data removed]",
      "text/plain": [
       "<Figure size 432x288 with 1 Axes>"
      ]
     },
     "metadata": {
      "needs_background": "light"
     },
     "output_type": "display_data"
    },
    {
     "data": {
      "image/png": "[encoded data removed]",
      "text/plain": [
       "<Figure size 432x288 with 1 Axes>"
      ]
     },
     "metadata": {
      "needs_background": "light"
     },
     "output_type": "display_data"
    }
   ],
   "source": [
    "# Plots\n",
    "plt.plot(epochs_3, acc_3, 'bo', label='Training Accuracy')\n",
    "# b is for \"solid blue line\"\n",
    "plt.plot(epochs_3, val_acc_3, 'b', label='Validation Accuracy')\n",
    "plt.title('Training and Validation Accuracy')\n",
    "plt.xlabel('Epochs')\n",
    "plt.ylabel('Accuracy')\n",
    "plt.legend()\n",
    "\n",
    "plt.show()\n",
    "\n",
    "\n",
    "# \"bo\" is for \"blue dot\"\n",
    "plt.plot(epochs_3, loss_3, 'bo', label='Training loss')\n",
    "# b is for \"solid blue line\"\n",
    "plt.plot(epochs_3, val_loss_3, 'b', label='Validation loss')\n",
    "plt.title('Training and Validation loss')\n",
    "plt.xlabel('Epochs')\n",
    "plt.ylabel('Loss')\n",
    "plt.legend()\n",
    "\n",
    "plt.show()"
   ]
  },
  {
   "cell_type": "code",
   "execution_count": 29,
   "id": "1a030292-5091-435c-94aa-18e52911b055",
   "metadata": {},
   "outputs": [
    {
     "name": "stdout",
     "output_type": "stream",
     "text": [
      "Found 100 images belonging to 10 classes.\n",
      "test acc: 0.20000000298023224\n",
      "test loss: 4.216289520263672\n"
     ]
    }
   ],
   "source": [
    "test_generator = test_datagen.flow_from_directory(\n",
    "        test_dir,\n",
    "        target_size=(150, 150),\n",
    "        batch_size=4,\n",
    "        class_mode='categorical')\n",
    "test_loss, test_acc = model.evaluate_generator(test_generator, steps=5)\n",
    "print('test acc:', test_acc)\n",
    "print('test loss:', test_loss)"
   ]
  },
  {
   "cell_type": "markdown",
   "id": "2119c227-92f7-4853-b888-22baa2e5665b",
   "metadata": {},
   "source": [
    "## **10 Species (multi-class classification) - convolutional neural net.** \n",
    "Draw from dogs vs cats example and update necessary values to go from binary to mult-class classification."
   ]
  },
  {
   "cell_type": "code",
   "execution_count": 30,
   "id": "a88e308a-538e-49cd-b1b6-e7f9ff24f9c5",
   "metadata": {},
   "outputs": [],
   "source": [
    "# Build convolutional neural net model\n",
    "model = models.Sequential()\n",
    "model.add(layers.Conv2D(32, (3, 3), activation='relu',\n",
    "                        input_shape=(150, 150, 3)))\n",
    "model.add(layers.MaxPooling2D((2, 2)))\n",
    "model.add(layers.Conv2D(64, (3, 3), activation='relu'))\n",
    "model.add(layers.MaxPooling2D((2, 2)))\n",
    "model.add(layers.Conv2D(128, (3, 3), activation='relu'))\n",
    "model.add(layers.MaxPooling2D((2, 2)))\n",
    "model.add(layers.Conv2D(512, (3, 3), activation='relu'))\n",
    "model.add(layers.MaxPooling2D((2, 2)))\n",
    "model.add(layers.Flatten())\n",
    "model.add(layers.Dropout(0.5))\n",
    "model.add(layers.Dense(512, activation='relu'))\n",
    "model.add(layers.Dense(32, activation='relu'))\n",
    "model.add(layers.Dense(10, activation='softmax'))\n",
    "\n",
    "model.compile(optimizer='rmsprop',\n",
    "              loss='categorical_crossentropy',\n",
    "              metrics=['accuracy'])"
   ]
  },
  {
   "cell_type": "code",
   "execution_count": 31,
   "id": "49e0df90-5761-4823-978c-6740fcab1247",
   "metadata": {},
   "outputs": [
    {
     "name": "stdout",
     "output_type": "stream",
     "text": [
      "Model: \"sequential_3\"\n",
      "_________________________________________________________________\n",
      "Layer (type)                 Output Shape              Param #   \n",
      "=================================================================\n",
      "conv2d_4 (Conv2D)            (None, 148, 148, 32)      896       \n",
      "_________________________________________________________________\n",
      "max_pooling2d_4 (MaxPooling2 (None, 74, 74, 32)        0         \n",
      "_________________________________________________________________\n",
      "conv2d_5 (Conv2D)            (None, 72, 72, 64)        18496     \n",
      "_________________________________________________________________\n",
      "max_pooling2d_5 (MaxPooling2 (None, 36, 36, 64)        0         \n",
      "_________________________________________________________________\n",
      "conv2d_6 (Conv2D)            (None, 34, 34, 128)       73856     \n",
      "_________________________________________________________________\n",
      "max_pooling2d_6 (MaxPooling2 (None, 17, 17, 128)       0         \n",
      "_________________________________________________________________\n",
      "conv2d_7 (Conv2D)            (None, 15, 15, 512)       590336    \n",
      "_________________________________________________________________\n",
      "max_pooling2d_7 (MaxPooling2 (None, 7, 7, 512)         0         \n",
      "_________________________________________________________________\n",
      "flatten_3 (Flatten)          (None, 25088)             0         \n",
      "_________________________________________________________________\n",
      "dropout_1 (Dropout)          (None, 25088)             0         \n",
      "_________________________________________________________________\n",
      "dense_8 (Dense)              (None, 512)               12845568  \n",
      "_________________________________________________________________\n",
      "dense_9 (Dense)              (None, 32)                16416     \n",
      "_________________________________________________________________\n",
      "dense_10 (Dense)             (None, 10)                330       \n",
      "=================================================================\n",
      "Total params: 13,545,898\n",
      "Trainable params: 13,545,898\n",
      "Non-trainable params: 0\n",
      "_________________________________________________________________\n"
     ]
    }
   ],
   "source": [
    "model.summary()"
   ]
  },
  {
   "cell_type": "code",
   "execution_count": 32,
   "id": "dc7de97e-c578-4f1b-8d59-5a0ed2f07c4d",
   "metadata": {},
   "outputs": [
    {
     "name": "stdout",
     "output_type": "stream",
     "text": [
      "Epoch 1/40\n",
      "5/5 [==============================] - 1s 172ms/step - loss: 6.3571 - accuracy: 0.0500 - val_loss: 2.3679 - val_accuracy: 0.1000\n",
      "Epoch 2/40\n",
      "5/5 [==============================] - 1s 124ms/step - loss: 2.3471 - accuracy: 0.1500 - val_loss: 2.3598 - val_accuracy: 0.1500\n",
      "Epoch 3/40\n",
      "5/5 [==============================] - 1s 150ms/step - loss: 2.2375 - accuracy: 0.1500 - val_loss: 2.4888 - val_accuracy: 0.0500\n",
      "Epoch 4/40\n",
      "5/5 [==============================] - 1s 127ms/step - loss: 2.3881 - accuracy: 0.0500 - val_loss: 2.3029 - val_accuracy: 0.1000\n",
      "Epoch 5/40\n",
      "5/5 [==============================] - 1s 104ms/step - loss: 2.2903 - accuracy: 0.1500 - val_loss: 2.2783 - val_accuracy: 0.2000\n",
      "Epoch 6/40\n",
      "5/5 [==============================] - 1s 117ms/step - loss: 2.2330 - accuracy: 0.2000 - val_loss: 2.8950 - val_accuracy: 0.1500\n",
      "Epoch 7/40\n",
      "5/5 [==============================] - 1s 103ms/step - loss: 2.4431 - accuracy: 0.1000 - val_loss: 2.2969 - val_accuracy: 0.0500\n",
      "Epoch 8/40\n",
      "5/5 [==============================] - 0s 99ms/step - loss: 2.4475 - accuracy: 0.0000e+00 - val_loss: 2.3086 - val_accuracy: 0.0000e+00\n",
      "Epoch 9/40\n",
      "5/5 [==============================] - 1s 115ms/step - loss: 2.3122 - accuracy: 0.1500 - val_loss: 2.3231 - val_accuracy: 0.0000e+00\n",
      "Epoch 10/40\n",
      "5/5 [==============================] - 1s 104ms/step - loss: 2.3137 - accuracy: 0.1500 - val_loss: 2.3001 - val_accuracy: 0.1000\n",
      "Epoch 11/40\n",
      "5/5 [==============================] - 1s 100ms/step - loss: 2.2716 - accuracy: 0.2000 - val_loss: 2.2255 - val_accuracy: 0.1000\n",
      "Epoch 12/40\n",
      "5/5 [==============================] - 0s 96ms/step - loss: 2.3617 - accuracy: 0.2000 - val_loss: 2.3192 - val_accuracy: 0.1500\n",
      "Epoch 13/40\n",
      "5/5 [==============================] - 0s 96ms/step - loss: 2.5902 - accuracy: 0.1500 - val_loss: 2.2893 - val_accuracy: 0.0500\n",
      "Epoch 14/40\n",
      "5/5 [==============================] - 0s 101ms/step - loss: 2.2061 - accuracy: 0.2500 - val_loss: 2.3009 - val_accuracy: 0.2500\n",
      "Epoch 15/40\n",
      "5/5 [==============================] - 1s 135ms/step - loss: 2.2341 - accuracy: 0.2500 - val_loss: 2.3707 - val_accuracy: 0.1000\n",
      "Epoch 16/40\n",
      "5/5 [==============================] - 0s 96ms/step - loss: 2.3176 - accuracy: 0.1000 - val_loss: 2.2779 - val_accuracy: 0.2000\n",
      "Epoch 17/40\n",
      "5/5 [==============================] - 0s 99ms/step - loss: 2.2335 - accuracy: 0.1500 - val_loss: 2.3107 - val_accuracy: 0.0500\n",
      "Epoch 18/40\n",
      "5/5 [==============================] - 0s 95ms/step - loss: 2.2895 - accuracy: 0.1000 - val_loss: 2.2248 - val_accuracy: 0.2000\n",
      "Epoch 19/40\n",
      "5/5 [==============================] - 0s 91ms/step - loss: 2.2043 - accuracy: 0.2500 - val_loss: 2.1222 - val_accuracy: 0.3000\n",
      "Epoch 20/40\n",
      "5/5 [==============================] - 0s 100ms/step - loss: 2.6325 - accuracy: 0.2000 - val_loss: 2.2882 - val_accuracy: 0.1500\n",
      "Epoch 21/40\n",
      "5/5 [==============================] - 0s 88ms/step - loss: 2.2850 - accuracy: 0.0000e+00 - val_loss: 2.2667 - val_accuracy: 0.2000\n",
      "Epoch 22/40\n",
      "5/5 [==============================] - 0s 92ms/step - loss: 2.1931 - accuracy: 0.2000 - val_loss: 2.2414 - val_accuracy: 0.1000\n",
      "Epoch 23/40\n",
      "5/5 [==============================] - 0s 93ms/step - loss: 2.4877 - accuracy: 0.1500 - val_loss: 2.3639 - val_accuracy: 0.0500\n",
      "Epoch 24/40\n",
      "5/5 [==============================] - 0s 92ms/step - loss: 2.3023 - accuracy: 0.1000 - val_loss: 2.2670 - val_accuracy: 0.1000\n",
      "Epoch 25/40\n",
      "5/5 [==============================] - 0s 97ms/step - loss: 2.2897 - accuracy: 0.0500 - val_loss: 2.2784 - val_accuracy: 0.1500\n",
      "Epoch 26/40\n",
      "5/5 [==============================] - 0s 94ms/step - loss: 2.3107 - accuracy: 0.1500 - val_loss: 2.1807 - val_accuracy: 0.2500\n",
      "Epoch 27/40\n",
      "5/5 [==============================] - 0s 95ms/step - loss: 2.2048 - accuracy: 0.2500 - val_loss: 2.2315 - val_accuracy: 0.2000\n",
      "Epoch 28/40\n",
      "5/5 [==============================] - 1s 125ms/step - loss: 2.2331 - accuracy: 0.0500 - val_loss: 2.1984 - val_accuracy: 0.2000\n",
      "Epoch 29/40\n",
      "5/5 [==============================] - 0s 93ms/step - loss: 2.2471 - accuracy: 0.0000e+00 - val_loss: 2.2591 - val_accuracy: 0.0500\n",
      "Epoch 30/40\n",
      "5/5 [==============================] - 0s 91ms/step - loss: 2.2937 - accuracy: 0.3500 - val_loss: 2.3493 - val_accuracy: 0.0500\n",
      "Epoch 31/40\n",
      "5/5 [==============================] - 0s 89ms/step - loss: 2.3573 - accuracy: 0.0000e+00 - val_loss: 2.1752 - val_accuracy: 0.1000\n",
      "Epoch 32/40\n",
      "5/5 [==============================] - 0s 96ms/step - loss: 2.0711 - accuracy: 0.2000 - val_loss: 2.2126 - val_accuracy: 0.0500\n",
      "Epoch 33/40\n",
      "5/5 [==============================] - 0s 96ms/step - loss: 2.1446 - accuracy: 0.1000 - val_loss: 2.1756 - val_accuracy: 0.1500\n",
      "Epoch 34/40\n",
      "5/5 [==============================] - 0s 87ms/step - loss: 2.0487 - accuracy: 0.2500 - val_loss: 2.3516 - val_accuracy: 0.1000\n",
      "Epoch 35/40\n",
      "5/5 [==============================] - 0s 89ms/step - loss: 2.1915 - accuracy: 0.1000 - val_loss: 2.5231 - val_accuracy: 0.0500\n",
      "Epoch 36/40\n",
      "5/5 [==============================] - 0s 91ms/step - loss: 2.2658 - accuracy: 0.1000 - val_loss: 2.3808 - val_accuracy: 0.1500\n",
      "Epoch 37/40\n",
      "5/5 [==============================] - 0s 88ms/step - loss: 2.3363 - accuracy: 0.1000 - val_loss: 2.2769 - val_accuracy: 0.1500\n",
      "Epoch 38/40\n",
      "5/5 [==============================] - 0s 92ms/step - loss: 2.1560 - accuracy: 0.1500 - val_loss: 2.1792 - val_accuracy: 0.1500\n",
      "Epoch 39/40\n",
      "5/5 [==============================] - 0s 92ms/step - loss: 1.8879 - accuracy: 0.2000 - val_loss: 3.2050 - val_accuracy: 0.2000\n",
      "Epoch 40/40\n",
      "5/5 [==============================] - 0s 100ms/step - loss: 2.1398 - accuracy: 0.2500 - val_loss: 2.5680 - val_accuracy: 0.0500\n"
     ]
    }
   ],
   "source": [
    "history = model.fit(\n",
    "      train_generator,\n",
    "      steps_per_epoch=5,\n",
    "      epochs=40,\n",
    "      validation_data=validation_generator,\n",
    "      validation_steps=5)"
   ]
  },
  {
   "cell_type": "code",
   "execution_count": 33,
   "id": "22a81ef6-4be3-43ce-8ba5-34c167be0a33",
   "metadata": {},
   "outputs": [
    {
     "data": {
      "text/plain": [
       "dict_keys(['loss', 'accuracy', 'val_loss', 'val_accuracy'])"
      ]
     },
     "execution_count": 33,
     "metadata": {},
     "output_type": "execute_result"
    }
   ],
   "source": [
    "\n",
    "history_dict = history.history\n",
    "history_dict.keys()"
   ]
  },
  {
   "cell_type": "code",
   "execution_count": 34,
   "id": "057e473c-d012-436a-8a05-34f192c93143",
   "metadata": {},
   "outputs": [],
   "source": [
    "acc = history.history['accuracy']\n",
    "val_acc = history.history['val_accuracy']\n",
    "loss = history.history['loss']\n",
    "val_loss = history.history['val_loss']\n",
    "\n",
    "epochs = range(len(acc))"
   ]
  },
  {
   "cell_type": "code",
   "execution_count": 35,
   "id": "c350b137-a2ff-4736-9402-9bbab88ae31a",
   "metadata": {},
   "outputs": [
    {
     "data": {
      "image/png": "[encoded data removed]",
      "text/plain": [
       "<Figure size 432x288 with 1 Axes>"
      ]
     },
     "metadata": {
      "needs_background": "light"
     },
     "output_type": "display_data"
    },
    {
     "data": {
      "image/png": "[encoded data removed]",
      "text/plain": [
       "<Figure size 432x288 with 1 Axes>"
      ]
     },
     "metadata": {
      "needs_background": "light"
     },
     "output_type": "display_data"
    }
   ],
   "source": [
    "# Plots\n",
    "plt.plot(epochs, acc, 'bo', label='Training Accuracy')\n",
    "# b is for \"solid blue line\"\n",
    "plt.plot(epochs, val_acc, 'b', label='Validation Accuracy')\n",
    "plt.title('Training and validation Accuracy')\n",
    "plt.xlabel('Epochs')\n",
    "plt.ylabel('Accuracy')\n",
    "plt.legend()\n",
    "\n",
    "plt.show()\n",
    "\n",
    "\n",
    "# \"bo\" is for \"blue dot\"\n",
    "plt.plot(epochs, loss, 'bo', label='Training loss')\n",
    "# b is for \"solid blue line\"\n",
    "plt.plot(epochs, val_loss, 'b', label='Validation loss')\n",
    "plt.title('Training and validation loss')\n",
    "plt.xlabel('Epochs')\n",
    "plt.ylabel('Loss')\n",
    "plt.legend()\n",
    "\n",
    "plt.show()"
   ]
  },
  {
   "cell_type": "code",
   "execution_count": 36,
   "id": "3268d0d8-9701-4596-b73c-016f29c3ba18",
   "metadata": {},
   "outputs": [
    {
     "name": "stdout",
     "output_type": "stream",
     "text": [
      "Found 100 images belonging to 10 classes.\n",
      "test acc: 0.05000000074505806\n",
      "test loss: 2.411633253097534\n"
     ]
    }
   ],
   "source": [
    "test_generator = test_datagen.flow_from_directory(\n",
    "        test_dir,\n",
    "        target_size=(150, 150),\n",
    "        batch_size=4,\n",
    "        class_mode='categorical')\n",
    "test_loss, test_acc = model.evaluate_generator(test_generator, steps=5)\n",
    "print('test acc:', test_acc)\n",
    "print('test loss:', test_loss)"
   ]
  },
  {
   "cell_type": "markdown",
   "id": "3ccf648e-7b7e-4032-b6c3-c56dafad4295",
   "metadata": {},
   "source": [
    "## Comparing both 10 species models "
   ]
  },
  {
   "cell_type": "markdown",
   "id": "df852dae-c5b2-4135-a36b-a91d1cc1232f",
   "metadata": {},
   "source": [
    "The test accuracy was smaller for the convolutional neural network than for the regular neural network. This could be due to the small sample size that the model is training on. The loss for the convolutional neural network was lower than the regular neural netowrk however. "
   ]
  }
 ],
 "metadata": {
  "kernelspec": {
   "display_name": "Python 3 (ipykernel)",
   "language": "python",
   "name": "python3"
  },
  "language_info": {
   "codemirror_mode": {
    "name": "ipython",
    "version": 3
   },
   "file_extension": ".py",
   "mimetype": "text/x-python",
   "name": "python",
   "nbconvert_exporter": "python",
   "pygments_lexer": "ipython3",
   "version": "3.7.7"
  }
 },
 "nbformat": 4,
 "nbformat_minor": 5
}
