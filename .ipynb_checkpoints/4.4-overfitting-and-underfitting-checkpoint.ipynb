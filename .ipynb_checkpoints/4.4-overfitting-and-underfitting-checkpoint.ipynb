{
 "cells": [
  {
   "cell_type": "code",
   "execution_count": 2,
   "metadata": {},
   "outputs": [
    {
     "data": {
      "text/plain": [
       "'2.6.0'"
      ]
     },
     "execution_count": 2,
     "metadata": {},
     "output_type": "execute_result"
    }
   ],
   "source": [
    "import keras\n",
    "keras.__version__"
   ]
  },
  {
   "cell_type": "markdown",
   "metadata": {},
   "source": [
    "# Overfitting and underfitting\n",
    "\n",
    "This notebook contains the code samples found in Chapter 3, Section 6 of [Deep Learning with Python](https://www.manning.com/books/deep-learning-with-python?a_aid=keras&a_bid=76564dff). Note that the original text features far more content, in particular further explanations and figures: in this notebook, you will only find source code and related comments.\n",
    "\n",
    "----\n",
    "\n",
    "\n",
    "In all the examples we saw in the previous chapter -- movie review sentiment prediction, topic classification, and house price regression -- \n",
    "we could notice that the performance of our model on the held-out validation data would always peak after a few epochs and would then start \n",
    "degrading, i.e. our model would quickly start to _overfit_ to the training data. Overfitting happens in every single machine learning \n",
    "problem. Learning how to deal with overfitting is essential to mastering machine learning.\n",
    "\n",
    "The fundamental issue in machine learning is the tension between optimization and generalization. \"Optimization\" refers to the process of \n",
    "adjusting a model to get the best performance possible on the training data (the \"learning\" in \"machine learning\"), while \"generalization\" \n",
    "refers to how well the trained model would perform on data it has never seen before. The goal of the game is to get good generalization, of \n",
    "course, but you do not control generalization; you can only adjust the model based on its training data.\n",
    "\n",
    "At the beginning of training, optimization and generalization are correlated: the lower your loss on training data, the lower your loss on \n",
    "test data. While this is happening, your model is said to be _under-fit_: there is still progress to be made; the network hasn't yet \n",
    "modeled all relevant patterns in the training data. But after a certain number of iterations on the training data, generalization stops \n",
    "improving, validation metrics stall then start degrading: the model is then starting to over-fit, i.e. is it starting to learn patterns \n",
    "that are specific to the training data but that are misleading or irrelevant when it comes to new data.\n",
    "\n",
    "To prevent a model from learning misleading or irrelevant patterns found in the training data, _the best solution is of course to get \n",
    "more training data_. A model trained on more data will naturally generalize better. When that is no longer possible, the next best solution \n",
    "is to modulate the quantity of information that your model is allowed to store, or to add constraints on what information it is allowed to \n",
    "store. If a network can only afford to memorize a small number of patterns, the optimization process will force it to focus on the most \n",
    "prominent patterns, which have a better chance of generalizing well.\n",
    "\n",
    "The processing of fighting overfitting in this way is called _regularization_. Let's review some of the most common regularization \n",
    "techniques, and let's apply them in practice to improve our movie classification model from  the previous chapter."
   ]
  },
  {
   "cell_type": "markdown",
   "metadata": {},
   "source": [
    "Note: in this notebook we will be using the IMDB test set as our validation set. It doesn't matter in this context.\n",
    "\n",
    "Let's prepare the data using the code from Chapter 3, Section 5:"
   ]
  },
  {
   "cell_type": "code",
   "execution_count": 3,
   "metadata": {
    "tags": []
   },
   "outputs": [],
   "source": [
    "from keras.datasets import imdb\n",
    "import numpy as np\n",
    "\n",
    "(train_data, train_labels), (test_data, test_labels) = imdb.load_data(num_words=10000)\n",
    "\n",
    "def vectorize_sequences(sequences, dimension=10000):\n",
    "    # Create an all-zero matrix of shape (len(sequences), dimension)\n",
    "    results = np.zeros((len(sequences), dimension))\n",
    "    for i, sequence in enumerate(sequences):\n",
    "        results[i, sequence] = 1.  # set specific indices of results[i] to 1s\n",
    "    return results\n",
    "\n",
    "# Our vectorized training data\n",
    "x_train = vectorize_sequences(train_data)\n",
    "# Our vectorized test data\n",
    "x_test = vectorize_sequences(test_data)\n",
    "# Our vectorized labels\n",
    "y_train = np.asarray(train_labels).astype('float32')\n",
    "y_test = np.asarray(test_labels).astype('float32')"
   ]
  },
  {
   "cell_type": "markdown",
   "metadata": {},
   "source": [
    "# Fighting overfitting\n",
    "\n",
    "## Reducing the network's size\n",
    "\n",
    "\n",
    "The simplest way to prevent overfitting is to reduce the size of the model, i.e. the number of learnable parameters in the model (which is \n",
    "determined by the number of layers and the number of units per layer). In deep learning, the number of learnable parameters in a model is \n",
    "often referred to as the model's \"capacity\". Intuitively, a model with more parameters will have more \"memorization capacity\" and therefore \n",
    "will be able to easily learn a perfect dictionary-like mapping between training samples and their targets, a mapping without any \n",
    "generalization power. For instance, a model with 500,000 binary parameters could easily be made to learn the class of every digits in the \n",
    "MNIST training set: we would only need 10 binary parameters for each of the 50,000 digits. Such a model would be useless for classifying \n",
    "new digit samples. Always keep this in mind: deep learning models tend to be good at fitting to the training data, but the real challenge \n",
    "is generalization, not fitting.\n",
    "\n",
    "On the other hand, if the network has limited memorization resources, it will not be able to learn this mapping as easily, and thus, in \n",
    "order to minimize its loss, it will have to resort to learning compressed representations that have predictive power regarding the targets \n",
    "-- precisely the type of representations that we are interested in. At the same time, keep in mind that you should be using models that have \n",
    "enough parameters that they won't be underfitting: your model shouldn't be starved for memorization resources. There is a compromise to be \n",
    "found between \"too much capacity\" and \"not enough capacity\".\n",
    "\n",
    "Unfortunately, there is no magical formula to determine what the right number of layers is, or what the right size for each layer is. You \n",
    "will have to evaluate an array of different architectures (on your validation set, not on your test set, of course) in order to find the \n",
    "right model size for your data. The general workflow to find an appropriate model size is to start with relatively few layers and \n",
    "parameters, and start increasing the size of the layers or adding new layers until you see diminishing returns with regard to the \n",
    "validation loss.\n",
    "\n",
    "Let's try this on our movie review classification network. Our original network was as such:"
   ]
  },
  {
   "cell_type": "code",
   "execution_count": 5,
   "metadata": {
    "tags": []
   },
   "outputs": [],
   "source": [
    "from keras import models\n",
    "from keras import layers\n",
    "\n",
    "original_model = models.Sequential()\n",
    "original_model.add(layers.Dense(16, activation='relu', input_shape=(10000,)))\n",
    "original_model.add(layers.Dense(16, activation='relu'))\n",
    "original_model.add(layers.Dense(1, activation='sigmoid'))\n",
    "\n",
    "original_model.compile(optimizer='rmsprop',\n",
    "                       loss='binary_crossentropy',\n",
    "                       metrics=['acc'])"
   ]
  },
  {
   "cell_type": "markdown",
   "metadata": {},
   "source": [
    "Now let's try to replace it with this smaller network:"
   ]
  },
  {
   "cell_type": "code",
   "execution_count": 6,
   "metadata": {
    "tags": []
   },
   "outputs": [],
   "source": [
    "smaller_model = models.Sequential()\n",
    "smaller_model.add(layers.Dense(4, activation='relu', input_shape=(10000,)))\n",
    "smaller_model.add(layers.Dense(4, activation='relu'))\n",
    "smaller_model.add(layers.Dense(1, activation='sigmoid'))\n",
    "\n",
    "smaller_model.compile(optimizer='rmsprop',\n",
    "                      loss='binary_crossentropy',\n",
    "                      metrics=['acc'])"
   ]
  },
  {
   "cell_type": "markdown",
   "metadata": {},
   "source": [
    "\n",
    "Here's a comparison of the validation losses of the original network and the smaller network. The dots are the validation loss values of \n",
    "the smaller network, and the crosses are the initial network (remember: a lower validation loss signals a better model)."
   ]
  },
  {
   "cell_type": "code",
   "execution_count": 7,
   "metadata": {},
   "outputs": [
    {
     "name": "stderr",
     "output_type": "stream",
     "text": [
      "2022-02-20 22:17:37.253756: W tensorflow/core/framework/cpu_allocator_impl.cc:80] Allocation of 1000000000 exceeds 10% of free system memory.\n",
      "2022-02-20 22:17:37.847058: I tensorflow/compiler/mlir/mlir_graph_optimization_pass.cc:185] None of the MLIR Optimization Passes are enabled (registered 2)\n"
     ]
    },
    {
     "name": "stdout",
     "output_type": "stream",
     "text": [
      "Epoch 1/20\n",
      "45/49 [==========================>...] - ETA: 0s - loss: 0.4609 - acc: 0.8167"
     ]
    },
    {
     "name": "stderr",
     "output_type": "stream",
     "text": [
      "2022-02-20 22:17:39.716529: W tensorflow/core/framework/cpu_allocator_impl.cc:80] Allocation of 1000000000 exceeds 10% of free system memory.\n"
     ]
    },
    {
     "name": "stdout",
     "output_type": "stream",
     "text": [
      "49/49 [==============================] - 3s 39ms/step - loss: 0.4506 - acc: 0.8223 - val_loss: 0.3414 - val_acc: 0.8782\n",
      "Epoch 2/20\n",
      "49/49 [==============================] - 0s 10ms/step - loss: 0.2592 - acc: 0.9092 - val_loss: 0.2839 - val_acc: 0.8887\n",
      "Epoch 3/20\n",
      "49/49 [==============================] - 0s 9ms/step - loss: 0.1987 - acc: 0.9286 - val_loss: 0.2830 - val_acc: 0.8862\n",
      "Epoch 4/20\n",
      "49/49 [==============================] - 0s 9ms/step - loss: 0.1679 - acc: 0.9411 - val_loss: 0.3026 - val_acc: 0.8812\n",
      "Epoch 5/20\n",
      "49/49 [==============================] - 0s 8ms/step - loss: 0.1445 - acc: 0.9489 - val_loss: 0.3289 - val_acc: 0.8744\n",
      "Epoch 6/20\n",
      "49/49 [==============================] - 0s 8ms/step - loss: 0.1270 - acc: 0.9564 - val_loss: 0.3451 - val_acc: 0.8732\n",
      "Epoch 7/20\n",
      "49/49 [==============================] - 0s 7ms/step - loss: 0.1127 - acc: 0.9620 - val_loss: 0.3616 - val_acc: 0.8713\n",
      "Epoch 8/20\n",
      "49/49 [==============================] - 0s 8ms/step - loss: 0.1000 - acc: 0.9665 - val_loss: 0.3805 - val_acc: 0.8707\n",
      "Epoch 9/20\n",
      "49/49 [==============================] - 0s 7ms/step - loss: 0.0881 - acc: 0.9708 - val_loss: 0.4038 - val_acc: 0.8680\n",
      "Epoch 10/20\n",
      "49/49 [==============================] - 0s 7ms/step - loss: 0.0758 - acc: 0.9758 - val_loss: 0.4323 - val_acc: 0.8646\n",
      "Epoch 11/20\n",
      "49/49 [==============================] - 0s 8ms/step - loss: 0.0658 - acc: 0.9802 - val_loss: 0.4638 - val_acc: 0.8627\n",
      "Epoch 12/20\n",
      "49/49 [==============================] - 0s 7ms/step - loss: 0.0590 - acc: 0.9821 - val_loss: 0.4953 - val_acc: 0.8607\n",
      "Epoch 13/20\n",
      "49/49 [==============================] - 0s 8ms/step - loss: 0.0522 - acc: 0.9838 - val_loss: 0.5778 - val_acc: 0.8485\n",
      "Epoch 14/20\n",
      "49/49 [==============================] - 0s 7ms/step - loss: 0.0438 - acc: 0.9878 - val_loss: 0.5716 - val_acc: 0.8538\n",
      "Epoch 15/20\n",
      "49/49 [==============================] - 0s 7ms/step - loss: 0.0403 - acc: 0.9876 - val_loss: 0.5998 - val_acc: 0.8535\n",
      "Epoch 16/20\n",
      "49/49 [==============================] - 0s 9ms/step - loss: 0.0320 - acc: 0.9920 - val_loss: 0.6416 - val_acc: 0.8517\n",
      "Epoch 17/20\n",
      "49/49 [==============================] - 1s 17ms/step - loss: 0.0290 - acc: 0.9924 - val_loss: 0.6641 - val_acc: 0.8522\n",
      "Epoch 18/20\n",
      "49/49 [==============================] - 0s 9ms/step - loss: 0.0222 - acc: 0.9950 - val_loss: 0.7019 - val_acc: 0.8512\n",
      "Epoch 19/20\n",
      "49/49 [==============================] - 0s 8ms/step - loss: 0.0222 - acc: 0.9938 - val_loss: 0.7565 - val_acc: 0.8483\n",
      "Epoch 20/20\n",
      "49/49 [==============================] - 0s 10ms/step - loss: 0.0150 - acc: 0.9971 - val_loss: 0.8130 - val_acc: 0.8446\n"
     ]
    }
   ],
   "source": [
    "original_hist = original_model.fit(x_train, y_train,\n",
    "                                   epochs=20,\n",
    "                                   batch_size=512,\n",
    "                                   validation_data=(x_test, y_test))"
   ]
  },
  {
   "cell_type": "code",
   "execution_count": 8,
   "metadata": {},
   "outputs": [
    {
     "name": "stderr",
     "output_type": "stream",
     "text": [
      "2022-02-20 22:17:53.120993: W tensorflow/core/framework/cpu_allocator_impl.cc:80] Allocation of 1000000000 exceeds 10% of free system memory.\n"
     ]
    },
    {
     "name": "stdout",
     "output_type": "stream",
     "text": [
      "Epoch 1/20\n",
      "43/49 [=========================>....] - ETA: 0s - loss: 0.5863 - acc: 0.7155"
     ]
    },
    {
     "name": "stderr",
     "output_type": "stream",
     "text": [
      "2022-02-20 22:17:56.484132: W tensorflow/core/framework/cpu_allocator_impl.cc:80] Allocation of 1000000000 exceeds 10% of free system memory.\n"
     ]
    },
    {
     "name": "stdout",
     "output_type": "stream",
     "text": [
      "49/49 [==============================] - 4s 65ms/step - loss: 0.5787 - acc: 0.7270 - val_loss: 0.5264 - val_acc: 0.7963\n",
      "Epoch 2/20\n",
      "49/49 [==============================] - 1s 10ms/step - loss: 0.4817 - acc: 0.8568 - val_loss: 0.4883 - val_acc: 0.8700\n",
      "Epoch 3/20\n",
      "49/49 [==============================] - 0s 10ms/step - loss: 0.4386 - acc: 0.8959 - val_loss: 0.4695 - val_acc: 0.8639\n",
      "Epoch 4/20\n",
      "49/49 [==============================] - 0s 9ms/step - loss: 0.4088 - acc: 0.9150 - val_loss: 0.4592 - val_acc: 0.8702\n",
      "Epoch 5/20\n",
      "49/49 [==============================] - 1s 15ms/step - loss: 0.3844 - acc: 0.9296 - val_loss: 0.4493 - val_acc: 0.8813\n",
      "Epoch 6/20\n",
      "49/49 [==============================] - 1s 20ms/step - loss: 0.3638 - acc: 0.9386 - val_loss: 0.4591 - val_acc: 0.8666\n",
      "Epoch 7/20\n",
      "49/49 [==============================] - 0s 9ms/step - loss: 0.3449 - acc: 0.9479 - val_loss: 0.4600 - val_acc: 0.8674\n",
      "Epoch 8/20\n",
      "49/49 [==============================] - 1s 18ms/step - loss: 0.3286 - acc: 0.9535 - val_loss: 0.4602 - val_acc: 0.8673\n",
      "Epoch 9/20\n",
      "49/49 [==============================] - 1s 15ms/step - loss: 0.3129 - acc: 0.9586 - val_loss: 0.4529 - val_acc: 0.8696\n",
      "Epoch 10/20\n",
      "49/49 [==============================] - 1s 14ms/step - loss: 0.2987 - acc: 0.9619 - val_loss: 0.4750 - val_acc: 0.8636\n",
      "Epoch 11/20\n",
      "49/49 [==============================] - 1s 10ms/step - loss: 0.2857 - acc: 0.9660 - val_loss: 0.4560 - val_acc: 0.8666\n",
      "Epoch 12/20\n",
      "49/49 [==============================] - 0s 9ms/step - loss: 0.2730 - acc: 0.9682 - val_loss: 0.4951 - val_acc: 0.8624\n",
      "Epoch 13/20\n",
      "49/49 [==============================] - 0s 8ms/step - loss: 0.2613 - acc: 0.9707 - val_loss: 0.4725 - val_acc: 0.8634\n",
      "Epoch 14/20\n",
      "49/49 [==============================] - 0s 7ms/step - loss: 0.2511 - acc: 0.9719 - val_loss: 0.5113 - val_acc: 0.8612\n",
      "Epoch 15/20\n",
      "49/49 [==============================] - 0s 9ms/step - loss: 0.2404 - acc: 0.9740 - val_loss: 0.5096 - val_acc: 0.8614\n",
      "Epoch 16/20\n",
      "49/49 [==============================] - 0s 9ms/step - loss: 0.2306 - acc: 0.9750 - val_loss: 0.5228 - val_acc: 0.8598\n",
      "Epoch 17/20\n",
      "49/49 [==============================] - 0s 8ms/step - loss: 0.2213 - acc: 0.9771 - val_loss: 0.5370 - val_acc: 0.8576\n",
      "Epoch 18/20\n",
      "49/49 [==============================] - 0s 8ms/step - loss: 0.2119 - acc: 0.9786 - val_loss: 0.5853 - val_acc: 0.8565\n",
      "Epoch 19/20\n",
      "49/49 [==============================] - 0s 8ms/step - loss: 0.2042 - acc: 0.9789 - val_loss: 0.5837 - val_acc: 0.8557\n",
      "Epoch 20/20\n",
      "49/49 [==============================] - 0s 9ms/step - loss: 0.1964 - acc: 0.9793 - val_loss: 0.6067 - val_acc: 0.8554\n"
     ]
    }
   ],
   "source": [
    "smaller_model_hist = smaller_model.fit(x_train, y_train,\n",
    "                                       epochs=20,\n",
    "                                       batch_size=512,\n",
    "                                       validation_data=(x_test, y_test))"
   ]
  },
  {
   "cell_type": "code",
   "execution_count": 9,
   "metadata": {
    "tags": []
   },
   "outputs": [],
   "source": [
    "epochs = range(1, 21)\n",
    "original_val_loss = original_hist.history['val_loss']\n",
    "smaller_model_val_loss = smaller_model_hist.history['val_loss']"
   ]
  },
  {
   "cell_type": "code",
   "execution_count": 10,
   "metadata": {},
   "outputs": [
    {
     "data": {
      "image/png": "[encoded data removed]",
      "text/plain": [
       "<Figure size 432x288 with 1 Axes>"
      ]
     },
     "metadata": {
      "needs_background": "light"
     },
     "output_type": "display_data"
    }
   ],
   "source": [
    "import matplotlib.pyplot as plt\n",
    "\n",
    "# b+ is for \"blue cross\"\n",
    "plt.plot(epochs, original_val_loss, 'b+', label='Original model')\n",
    "# \"bo\" is for \"blue dot\"\n",
    "plt.plot(epochs, smaller_model_val_loss, 'bo', label='Smaller model')\n",
    "plt.xlabel('Epochs')\n",
    "plt.ylabel('Validation loss')\n",
    "plt.legend()\n",
    "\n",
    "plt.show()"
   ]
  },
  {
   "cell_type": "markdown",
   "metadata": {},
   "source": [
    "\n",
    "As you can see, the smaller network starts overfitting later than the reference one (after 6 epochs rather than 4) and its performance \n",
    "degrades much more slowly once it starts overfitting.\n",
    "\n",
    "Now, for kicks, let's add to this benchmark a network that has much more capacity, far more than the problem would warrant:"
   ]
  },
  {
   "cell_type": "code",
   "execution_count": 11,
   "metadata": {
    "tags": []
   },
   "outputs": [],
   "source": [
    "bigger_model = models.Sequential()\n",
    "bigger_model.add(layers.Dense(512, activation='relu', input_shape=(10000,)))\n",
    "bigger_model.add(layers.Dense(512, activation='relu'))\n",
    "bigger_model.add(layers.Dense(1, activation='sigmoid'))\n",
    "\n",
    "bigger_model.compile(optimizer='rmsprop',\n",
    "                     loss='binary_crossentropy',\n",
    "                     metrics=['acc'])"
   ]
  },
  {
   "cell_type": "code",
   "execution_count": 12,
   "metadata": {},
   "outputs": [
    {
     "name": "stderr",
     "output_type": "stream",
     "text": [
      "2022-02-20 22:18:45.892877: W tensorflow/core/framework/cpu_allocator_impl.cc:80] Allocation of 1000000000 exceeds 10% of free system memory.\n"
     ]
    },
    {
     "name": "stdout",
     "output_type": "stream",
     "text": [
      "Epoch 1/20\n",
      "49/49 [==============================] - 4s 77ms/step - loss: 0.4585 - acc: 0.8039 - val_loss: 0.3282 - val_acc: 0.8572\n",
      "Epoch 2/20\n",
      "49/49 [==============================] - 2s 37ms/step - loss: 0.2205 - acc: 0.9126 - val_loss: 0.3037 - val_acc: 0.8775\n",
      "Epoch 3/20\n",
      "49/49 [==============================] - 2s 33ms/step - loss: 0.1257 - acc: 0.9533 - val_loss: 0.3358 - val_acc: 0.8840\n",
      "Epoch 4/20\n",
      "49/49 [==============================] - 1s 31ms/step - loss: 0.0668 - acc: 0.9802 - val_loss: 0.5357 - val_acc: 0.8625\n",
      "Epoch 5/20\n",
      "49/49 [==============================] - 2s 34ms/step - loss: 0.0736 - acc: 0.9875 - val_loss: 0.5293 - val_acc: 0.8804\n",
      "Epoch 6/20\n",
      "49/49 [==============================] - 2s 32ms/step - loss: 0.0020 - acc: 0.9997 - val_loss: 0.7025 - val_acc: 0.8760\n",
      "Epoch 7/20\n",
      "49/49 [==============================] - 2s 38ms/step - loss: 0.0848 - acc: 0.9890 - val_loss: 0.7047 - val_acc: 0.8781\n",
      "Epoch 8/20\n",
      "49/49 [==============================] - 2s 34ms/step - loss: 2.1309e-04 - acc: 1.0000 - val_loss: 0.8833 - val_acc: 0.8757\n",
      "Epoch 9/20\n",
      "49/49 [==============================] - 2s 36ms/step - loss: 0.1685 - acc: 0.9870 - val_loss: 0.8166 - val_acc: 0.8622\n",
      "Epoch 10/20\n",
      "49/49 [==============================] - 2s 34ms/step - loss: 5.8044e-04 - acc: 0.9999 - val_loss: 0.8021 - val_acc: 0.8776\n",
      "Epoch 11/20\n",
      "49/49 [==============================] - 2s 31ms/step - loss: 4.3530e-05 - acc: 1.0000 - val_loss: 0.8927 - val_acc: 0.8777\n",
      "Epoch 12/20\n",
      "49/49 [==============================] - 2s 33ms/step - loss: 8.5755e-06 - acc: 1.0000 - val_loss: 1.0566 - val_acc: 0.8785\n",
      "Epoch 13/20\n",
      "49/49 [==============================] - 2s 33ms/step - loss: 1.3634e-06 - acc: 1.0000 - val_loss: 1.2112 - val_acc: 0.8779\n",
      "Epoch 14/20\n",
      "49/49 [==============================] - 2s 33ms/step - loss: 2.8263e-07 - acc: 1.0000 - val_loss: 1.3424 - val_acc: 0.8776\n",
      "Epoch 15/20\n",
      "49/49 [==============================] - 2s 32ms/step - loss: 5.6440e-08 - acc: 1.0000 - val_loss: 1.4511 - val_acc: 0.8780\n",
      "Epoch 16/20\n",
      "49/49 [==============================] - 1s 30ms/step - loss: 2.2038e-08 - acc: 1.0000 - val_loss: 1.5124 - val_acc: 0.8778\n",
      "Epoch 17/20\n",
      "49/49 [==============================] - 2s 35ms/step - loss: 1.3339e-08 - acc: 1.0000 - val_loss: 1.5434 - val_acc: 0.8779\n",
      "Epoch 18/20\n",
      "49/49 [==============================] - 2s 32ms/step - loss: 9.5660e-09 - acc: 1.0000 - val_loss: 1.5670 - val_acc: 0.8778\n",
      "Epoch 19/20\n",
      "49/49 [==============================] - 2s 33ms/step - loss: 7.4903e-09 - acc: 1.0000 - val_loss: 1.5875 - val_acc: 0.8778\n",
      "Epoch 20/20\n",
      "49/49 [==============================] - 2s 33ms/step - loss: 6.1708e-09 - acc: 1.0000 - val_loss: 1.6018 - val_acc: 0.8778\n"
     ]
    }
   ],
   "source": [
    "bigger_model_hist = bigger_model.fit(x_train, y_train,\n",
    "                                     epochs=20,\n",
    "                                     batch_size=512,\n",
    "                                     validation_data=(x_test, y_test))"
   ]
  },
  {
   "cell_type": "markdown",
   "metadata": {},
   "source": [
    "Here's how the bigger network fares compared to the reference one. The dots are the validation loss values of the bigger network, and the \n",
    "crosses are the initial network."
   ]
  },
  {
   "cell_type": "code",
   "execution_count": 13,
   "metadata": {},
   "outputs": [
    {
     "data": {
      "image/png": "[encoded data removed]",
      "text/plain": [
       "<Figure size 432x288 with 1 Axes>"
      ]
     },
     "metadata": {
      "needs_background": "light"
     },
     "output_type": "display_data"
    }
   ],
   "source": [
    "bigger_model_val_loss = bigger_model_hist.history['val_loss']\n",
    "\n",
    "plt.plot(epochs, original_val_loss, 'b+', label='Original model')\n",
    "plt.plot(epochs, bigger_model_val_loss, 'bo', label='Bigger model')\n",
    "plt.xlabel('Epochs')\n",
    "plt.ylabel('Validation loss')\n",
    "plt.legend()\n",
    "\n",
    "plt.show()"
   ]
  },
  {
   "cell_type": "markdown",
   "metadata": {},
   "source": [
    "\n",
    "The bigger network starts overfitting almost right away, after just one epoch, and overfits much more severely. Its validation loss is also \n",
    "more noisy.\n",
    "\n",
    "Meanwhile, here are the training losses for our two networks:"
   ]
  },
  {
   "cell_type": "code",
   "execution_count": 14,
   "metadata": {},
   "outputs": [
    {
     "data": {
      "image/png": "[encoded data removed]",
      "text/plain": [
       "<Figure size 432x288 with 1 Axes>"
      ]
     },
     "metadata": {
      "needs_background": "light"
     },
     "output_type": "display_data"
    }
   ],
   "source": [
    "original_train_loss = original_hist.history['loss']\n",
    "bigger_model_train_loss = bigger_model_hist.history['loss']\n",
    "\n",
    "plt.plot(epochs, original_train_loss, 'b+', label='Original model')\n",
    "plt.plot(epochs, bigger_model_train_loss, 'bo', label='Bigger model')\n",
    "plt.xlabel('Epochs')\n",
    "plt.ylabel('Training loss')\n",
    "plt.legend()\n",
    "\n",
    "plt.show()"
   ]
  },
  {
   "cell_type": "markdown",
   "metadata": {},
   "source": [
    "As you can see, the bigger network gets its training loss near zero very quickly. The more capacity the network has, the quicker it will be \n",
    "able to model the training data (resulting in a low training loss), but the more susceptible it is to overfitting (resulting in a large \n",
    "difference between the training and validation loss)."
   ]
  },
  {
   "cell_type": "markdown",
   "metadata": {},
   "source": [
    "## Adding weight regularization\n",
    "\n",
    "\n",
    "You may be familiar with _Occam's Razor_ principle: given two explanations for something, the explanation most likely to be correct is the \n",
    "\"simplest\" one, the one that makes the least amount of assumptions. This also applies to the models learned by neural networks: given some \n",
    "training data and a network architecture, there are multiple sets of weights values (multiple _models_) that could explain the data, and \n",
    "simpler models are less likely to overfit than complex ones.\n",
    "\n",
    "A \"simple model\" in this context is a model where the distribution of parameter values has less entropy (or a model with fewer \n",
    "parameters altogether, as we saw in the section above). Thus a common way to mitigate overfitting is to put constraints on the complexity \n",
    "of a network by forcing its weights to only take small values, which makes the distribution of weight values more \"regular\". This is called \n",
    "\"weight regularization\", and it is done by adding to the loss function of the network a _cost_ associated with having large weights. This \n",
    "cost comes in two flavors:\n",
    "\n",
    "* L1 regularization, where the cost added is proportional to the _absolute value of the weights coefficients_ (i.e. to what is called the \n",
    "\"L1 norm\" of the weights).\n",
    "* L2 regularization, where the cost added is proportional to the _square of the value of the weights coefficients_ (i.e. to what is called \n",
    "the \"L2 norm\" of the weights). L2 regularization is also called _weight decay_ in the context of neural networks. Don't let the different \n",
    "name confuse you: weight decay is mathematically the exact same as L2 regularization.\n",
    "\n",
    "In Keras, weight regularization is added by passing _weight regularizer instances_ to layers as keyword arguments. Let's add L2 weight \n",
    "regularization to our movie review classification network:"
   ]
  },
  {
   "cell_type": "code",
   "execution_count": 15,
   "metadata": {
    "tags": []
   },
   "outputs": [],
   "source": [
    "from keras import regularizers\n",
    "\n",
    "l2_model = models.Sequential()\n",
    "l2_model.add(layers.Dense(16, kernel_regularizer=regularizers.l2(0.001),\n",
    "                          activation='relu', input_shape=(10000,)))\n",
    "l2_model.add(layers.Dense(16, kernel_regularizer=regularizers.l2(0.001),\n",
    "                          activation='relu'))\n",
    "l2_model.add(layers.Dense(1, activation='sigmoid'))"
   ]
  },
  {
   "cell_type": "code",
   "execution_count": 16,
   "metadata": {
    "tags": []
   },
   "outputs": [],
   "source": [
    "l2_model.compile(optimizer='rmsprop',\n",
    "                 loss='binary_crossentropy',\n",
    "                 metrics=['acc'])"
   ]
  },
  {
   "cell_type": "markdown",
   "metadata": {},
   "source": [
    "`l2(0.001)` means that every coefficient in the weight matrix of the layer will add `0.001 * weight_coefficient_value` to the total loss of \n",
    "the network. Note that because this penalty is _only added at training time_, the loss for this network will be much higher at training \n",
    "than at test time.\n",
    "\n",
    "Here's the impact of our L2 regularization penalty:"
   ]
  },
  {
   "cell_type": "code",
   "execution_count": 17,
   "metadata": {},
   "outputs": [
    {
     "name": "stdout",
     "output_type": "stream",
     "text": [
      "Epoch 1/20\n",
      "49/49 [==============================] - 3s 35ms/step - loss: 0.4994 - acc: 0.8237 - val_loss: 0.4033 - val_acc: 0.8639\n",
      "Epoch 2/20\n",
      "49/49 [==============================] - 0s 9ms/step - loss: 0.3249 - acc: 0.9025 - val_loss: 0.3413 - val_acc: 0.8881\n",
      "Epoch 3/20\n",
      "49/49 [==============================] - 0s 9ms/step - loss: 0.2822 - acc: 0.9172 - val_loss: 0.3456 - val_acc: 0.8824\n",
      "Epoch 4/20\n",
      "49/49 [==============================] - 0s 9ms/step - loss: 0.2576 - acc: 0.9272 - val_loss: 0.3394 - val_acc: 0.8842\n",
      "Epoch 5/20\n",
      "49/49 [==============================] - 0s 8ms/step - loss: 0.2475 - acc: 0.9296 - val_loss: 0.3402 - val_acc: 0.8853\n",
      "Epoch 6/20\n",
      "49/49 [==============================] - 0s 8ms/step - loss: 0.2373 - acc: 0.9358 - val_loss: 0.3759 - val_acc: 0.8718\n",
      "Epoch 7/20\n",
      "49/49 [==============================] - 0s 9ms/step - loss: 0.2319 - acc: 0.9355 - val_loss: 0.3554 - val_acc: 0.8815\n",
      "Epoch 8/20\n",
      "49/49 [==============================] - 0s 8ms/step - loss: 0.2274 - acc: 0.9379 - val_loss: 0.3612 - val_acc: 0.8788\n",
      "Epoch 9/20\n",
      "49/49 [==============================] - 0s 7ms/step - loss: 0.2236 - acc: 0.9398 - val_loss: 0.3680 - val_acc: 0.8778\n",
      "Epoch 10/20\n",
      "49/49 [==============================] - 0s 7ms/step - loss: 0.2181 - acc: 0.9424 - val_loss: 0.3720 - val_acc: 0.8771\n",
      "Epoch 11/20\n",
      "49/49 [==============================] - 0s 7ms/step - loss: 0.2175 - acc: 0.9419 - val_loss: 0.3879 - val_acc: 0.8727\n",
      "Epoch 12/20\n",
      "49/49 [==============================] - 0s 6ms/step - loss: 0.2125 - acc: 0.9432 - val_loss: 0.3842 - val_acc: 0.8734\n",
      "Epoch 13/20\n",
      "49/49 [==============================] - 0s 7ms/step - loss: 0.2126 - acc: 0.9443 - val_loss: 0.3914 - val_acc: 0.8718\n",
      "Epoch 14/20\n",
      "49/49 [==============================] - 0s 7ms/step - loss: 0.2116 - acc: 0.9431 - val_loss: 0.4015 - val_acc: 0.8691\n",
      "Epoch 15/20\n",
      "49/49 [==============================] - 0s 7ms/step - loss: 0.2027 - acc: 0.9478 - val_loss: 0.4456 - val_acc: 0.8584\n",
      "Epoch 16/20\n",
      "49/49 [==============================] - 0s 7ms/step - loss: 0.2059 - acc: 0.9447 - val_loss: 0.4033 - val_acc: 0.8706\n",
      "Epoch 17/20\n",
      "49/49 [==============================] - 0s 8ms/step - loss: 0.2027 - acc: 0.9460 - val_loss: 0.4076 - val_acc: 0.8700\n",
      "Epoch 18/20\n",
      "49/49 [==============================] - 0s 6ms/step - loss: 0.2017 - acc: 0.9471 - val_loss: 0.4500 - val_acc: 0.8582\n",
      "Epoch 19/20\n",
      "49/49 [==============================] - 0s 7ms/step - loss: 0.2014 - acc: 0.9472 - val_loss: 0.4107 - val_acc: 0.8692\n",
      "Epoch 20/20\n",
      "49/49 [==============================] - 0s 7ms/step - loss: 0.1968 - acc: 0.9481 - val_loss: 0.4529 - val_acc: 0.8596\n"
     ]
    }
   ],
   "source": [
    "l2_model_hist = l2_model.fit(x_train, y_train,\n",
    "                             epochs=20,\n",
    "                             batch_size=512,\n",
    "                             validation_data=(x_test, y_test))"
   ]
  },
  {
   "cell_type": "code",
   "execution_count": 18,
   "metadata": {},
   "outputs": [
    {
     "data": {
      "image/png": "[encoded data removed]",
      "text/plain": [
       "<Figure size 432x288 with 1 Axes>"
      ]
     },
     "metadata": {
      "needs_background": "light"
     },
     "output_type": "display_data"
    }
   ],
   "source": [
    "l2_model_val_loss = l2_model_hist.history['val_loss']\n",
    "\n",
    "plt.plot(epochs, original_val_loss, 'b+', label='Original model')\n",
    "plt.plot(epochs, l2_model_val_loss, 'bo', label='L2-regularized model')\n",
    "plt.xlabel('Epochs')\n",
    "plt.ylabel('Validation loss')\n",
    "plt.legend()\n",
    "\n",
    "plt.show()"
   ]
  },
  {
   "cell_type": "markdown",
   "metadata": {},
   "source": [
    "\n",
    "\n",
    "As you can see, the model with L2 regularization (dots) has become much more resistant to overfitting than the reference model (crosses), \n",
    "even though both models have the same number of parameters.\n",
    "\n",
    "As alternatives to L2 regularization, you could use one of the following Keras weight regularizers:"
   ]
  },
  {
   "cell_type": "code",
   "execution_count": 19,
   "metadata": {
    "tags": []
   },
   "outputs": [
    {
     "data": {
      "text/plain": [
       "<keras.regularizers.L1L2 at 0x7f4fcd2c3550>"
      ]
     },
     "execution_count": 19,
     "metadata": {},
     "output_type": "execute_result"
    }
   ],
   "source": [
    "from keras import regularizers\n",
    "\n",
    "# L1 regularization\n",
    "regularizers.l1(0.001)\n",
    "\n",
    "# L1 and L2 regularization at the same time\n",
    "regularizers.l1_l2(l1=0.001, l2=0.001)"
   ]
  },
  {
   "cell_type": "markdown",
   "metadata": {},
   "source": [
    "## Adding dropout\n",
    "\n",
    "\n",
    "Dropout is one of the most effective and most commonly used regularization techniques for neural networks, developed by Hinton and his \n",
    "students at the University of Toronto. Dropout, applied to a layer, consists of randomly \"dropping out\" (i.e. setting to zero) a number of \n",
    "output features of the layer during training. Let's say a given layer would normally have returned a vector `[0.2, 0.5, 1.3, 0.8, 1.1]` for a \n",
    "given input sample during training; after applying dropout, this vector will have a few zero entries distributed at random, e.g. `[0, 0.5, \n",
    "1.3, 0, 1.1]`. The \"dropout rate\" is the fraction of the features that are being zeroed-out; it is usually set between 0.2 and 0.5. At test \n",
    "time, no units are dropped out, and instead the layer's output values are scaled down by a factor equal to the dropout rate, so as to \n",
    "balance for the fact that more units are active than at training time.\n",
    "\n",
    "Consider a Numpy matrix containing the output of a layer, `layer_output`, of shape `(batch_size, features)`. At training time, we would be \n",
    "zero-ing out at random a fraction of the values in the matrix:"
   ]
  },
  {
   "cell_type": "code",
   "execution_count": 21,
   "metadata": {
    "tags": []
   },
   "outputs": [
    {
     "ename": "NameError",
     "evalue": "name 'layer_output' is not defined",
     "output_type": "error",
     "traceback": [
      "\u001b[0;31m---------------------------------------------------------------------------\u001b[0m",
      "\u001b[0;31mNameError\u001b[0m                                 Traceback (most recent call last)",
      "\u001b[0;32m/tmp/ipykernel_966040/3422445055.py\u001b[0m in \u001b[0;36m<module>\u001b[0;34m\u001b[0m\n\u001b[1;32m      1\u001b[0m \u001b[0;31m# At training time: we drop out 50% of the units in the output\u001b[0m\u001b[0;34m\u001b[0m\u001b[0;34m\u001b[0m\u001b[0;34m\u001b[0m\u001b[0m\n\u001b[0;32m----> 2\u001b[0;31m \u001b[0mlayer_output\u001b[0m \u001b[0;34m=\u001b[0m \u001b[0mlayer_output\u001b[0m \u001b[0;34m*\u001b[0m \u001b[0mnp\u001b[0m\u001b[0;34m.\u001b[0m\u001b[0mrandint\u001b[0m\u001b[0;34m(\u001b[0m\u001b[0;36m0\u001b[0m\u001b[0;34m,\u001b[0m \u001b[0mhigh\u001b[0m\u001b[0;34m=\u001b[0m\u001b[0;36m2\u001b[0m\u001b[0;34m,\u001b[0m \u001b[0msize\u001b[0m\u001b[0;34m=\u001b[0m\u001b[0mlayer_output\u001b[0m\u001b[0;34m.\u001b[0m\u001b[0mshape\u001b[0m\u001b[0;34m)\u001b[0m\u001b[0;34m\u001b[0m\u001b[0;34m\u001b[0m\u001b[0m\n\u001b[0m",
      "\u001b[0;31mNameError\u001b[0m: name 'layer_output' is not defined"
     ]
    }
   ],
   "source": [
    "# At training time: we drop out 50% of the units in the output\n",
    "layer_output = layer_output * np.randint(0, high=2, size=layer_output.shape)"
   ]
  },
  {
   "cell_type": "markdown",
   "metadata": {},
   "source": [
    "\n",
    "At test time, we would be scaling the output down by the dropout rate. Here we scale by 0.5 (because we were previous dropping half the \n",
    "units):"
   ]
  },
  {
   "cell_type": "code",
   "execution_count": 22,
   "metadata": {
    "tags": []
   },
   "outputs": [
    {
     "ename": "NameError",
     "evalue": "name 'layer_output' is not defined",
     "output_type": "error",
     "traceback": [
      "\u001b[0;31m---------------------------------------------------------------------------\u001b[0m",
      "\u001b[0;31mNameError\u001b[0m                                 Traceback (most recent call last)",
      "\u001b[0;32m/tmp/ipykernel_966040/1176904236.py\u001b[0m in \u001b[0;36m<module>\u001b[0;34m\u001b[0m\n\u001b[1;32m      1\u001b[0m \u001b[0;31m# At test time:\u001b[0m\u001b[0;34m\u001b[0m\u001b[0;34m\u001b[0m\u001b[0;34m\u001b[0m\u001b[0m\n\u001b[0;32m----> 2\u001b[0;31m \u001b[0mlayer_output\u001b[0m \u001b[0;34m*=\u001b[0m \u001b[0;36m0.5\u001b[0m\u001b[0;34m\u001b[0m\u001b[0;34m\u001b[0m\u001b[0m\n\u001b[0m",
      "\u001b[0;31mNameError\u001b[0m: name 'layer_output' is not defined"
     ]
    }
   ],
   "source": [
    "# At test time:\n",
    "layer_output *= 0.5"
   ]
  },
  {
   "cell_type": "markdown",
   "metadata": {},
   "source": [
    "\n",
    "Note that this process can be implemented by doing both operations at training time and leaving the output unchanged at test time, which is \n",
    "often the way it is implemented in practice:"
   ]
  },
  {
   "cell_type": "code",
   "execution_count": null,
   "metadata": {
    "collapsed": true,
    "jupyter": {
     "outputs_hidden": true
    }
   },
   "outputs": [],
   "source": [
    "# At training time:\n",
    "layer_output *= np.randint(0, high=2, size=layer_output.shape)\n",
    "# Note that we are scaling *up* rather scaling *down* in this case\n",
    "layer_output /= 0.5"
   ]
  },
  {
   "cell_type": "markdown",
   "metadata": {},
   "source": [
    "\n",
    "This technique may seem strange and arbitrary. Why would this help reduce overfitting? Geoff Hinton has said that he was inspired, among \n",
    "other things, by a fraud prevention mechanism used by banks -- in his own words: _\"I went to my bank. The tellers kept changing and I asked \n",
    "one of them why. He said he didn’t know but they got moved around a lot. I figured it must be because it would require cooperation \n",
    "between employees to successfully defraud the bank. This made me realize that randomly removing a different subset of neurons on each \n",
    "example would prevent conspiracies and thus reduce overfitting\"_.\n",
    "\n",
    "The core idea is that introducing noise in the output values of a layer can break up happenstance patterns that are not significant (what \n",
    "Hinton refers to as \"conspiracies\"), which the network would start memorizing if no noise was present. \n",
    "\n",
    "In Keras you can introduce dropout in a network via the `Dropout` layer, which gets applied to the output of layer right before it, e.g.:"
   ]
  },
  {
   "cell_type": "code",
   "execution_count": null,
   "metadata": {
    "collapsed": true,
    "jupyter": {
     "outputs_hidden": true
    }
   },
   "outputs": [],
   "source": [
    "model.add(layers.Dropout(0.5))"
   ]
  },
  {
   "cell_type": "markdown",
   "metadata": {},
   "source": [
    "Let's add two `Dropout` layers in our IMDB network to see how well they do at reducing overfitting:"
   ]
  },
  {
   "cell_type": "code",
   "execution_count": 22,
   "metadata": {
    "collapsed": true,
    "jupyter": {
     "outputs_hidden": true
    }
   },
   "outputs": [],
   "source": [
    "dpt_model = models.Sequential()\n",
    "dpt_model.add(layers.Dense(16, activation='relu', input_shape=(10000,)))\n",
    "dpt_model.add(layers.Dropout(0.5))\n",
    "dpt_model.add(layers.Dense(16, activation='relu'))\n",
    "dpt_model.add(layers.Dropout(0.5))\n",
    "dpt_model.add(layers.Dense(1, activation='sigmoid'))\n",
    "\n",
    "dpt_model.compile(optimizer='rmsprop',\n",
    "                  loss='binary_crossentropy',\n",
    "                  metrics=['acc'])"
   ]
  },
  {
   "cell_type": "code",
   "execution_count": 23,
   "metadata": {},
   "outputs": [
    {
     "name": "stdout",
     "output_type": "stream",
     "text": [
      "Train on 25000 samples, validate on 25000 samples\n",
      "Epoch 1/20\n",
      "25000/25000 [==============================] - 3s - loss: 0.6035 - acc: 0.6678 - val_loss: 0.4704 - val_acc: 0.8651\n",
      "Epoch 2/20\n",
      "25000/25000 [==============================] - 2s - loss: 0.4622 - acc: 0.8002 - val_loss: 0.3612 - val_acc: 0.8724\n",
      "Epoch 3/20\n",
      "25000/25000 [==============================] - 2s - loss: 0.3731 - acc: 0.8553 - val_loss: 0.2960 - val_acc: 0.8904\n",
      "Epoch 4/20\n",
      "25000/25000 [==============================] - 2s - loss: 0.3162 - acc: 0.8855 - val_loss: 0.2772 - val_acc: 0.8917\n",
      "Epoch 5/20\n",
      "25000/25000 [==============================] - 2s - loss: 0.2762 - acc: 0.9033 - val_loss: 0.2803 - val_acc: 0.8889\n",
      "Epoch 6/20\n",
      "25000/25000 [==============================] - 2s - loss: 0.2454 - acc: 0.9172 - val_loss: 0.2823 - val_acc: 0.8892\n",
      "Epoch 7/20\n",
      "25000/25000 [==============================] - 2s - loss: 0.2178 - acc: 0.9281 - val_loss: 0.2982 - val_acc: 0.8877\n",
      "Epoch 8/20\n",
      "25000/25000 [==============================] - 2s - loss: 0.1994 - acc: 0.9351 - val_loss: 0.3101 - val_acc: 0.8875\n",
      "Epoch 9/20\n",
      "25000/25000 [==============================] - 2s - loss: 0.1832 - acc: 0.9400 - val_loss: 0.3318 - val_acc: 0.8860\n",
      "Epoch 10/20\n",
      "25000/25000 [==============================] - 2s - loss: 0.1692 - acc: 0.9434 - val_loss: 0.3534 - val_acc: 0.8841\n",
      "Epoch 11/20\n",
      "25000/25000 [==============================] - 2s - loss: 0.1590 - acc: 0.9483 - val_loss: 0.3689 - val_acc: 0.8830\n",
      "Epoch 12/20\n",
      "25000/25000 [==============================] - 2s - loss: 0.1499 - acc: 0.9496 - val_loss: 0.4107 - val_acc: 0.8776\n",
      "Epoch 13/20\n",
      "25000/25000 [==============================] - 2s - loss: 0.1405 - acc: 0.9539 - val_loss: 0.4114 - val_acc: 0.8782\n",
      "Epoch 14/20\n",
      "25000/25000 [==============================] - 2s - loss: 0.1333 - acc: 0.9562 - val_loss: 0.4549 - val_acc: 0.8771\n",
      "Epoch 15/20\n",
      "25000/25000 [==============================] - 2s - loss: 0.1267 - acc: 0.9572 - val_loss: 0.4579 - val_acc: 0.8800\n",
      "Epoch 16/20\n",
      "25000/25000 [==============================] - 2s - loss: 0.1225 - acc: 0.9580 - val_loss: 0.4843 - val_acc: 0.8772\n",
      "Epoch 17/20\n",
      "25000/25000 [==============================] - 2s - loss: 0.1233 - acc: 0.9590 - val_loss: 0.4783 - val_acc: 0.8761\n",
      "Epoch 18/20\n",
      "25000/25000 [==============================] - 2s - loss: 0.1212 - acc: 0.9601 - val_loss: 0.5051 - val_acc: 0.8740\n",
      "Epoch 19/20\n",
      "25000/25000 [==============================] - 2s - loss: 0.1153 - acc: 0.9618 - val_loss: 0.5451 - val_acc: 0.8747\n",
      "Epoch 20/20\n",
      "25000/25000 [==============================] - 2s - loss: 0.1155 - acc: 0.9621 - val_loss: 0.5358 - val_acc: 0.8738\n"
     ]
    }
   ],
   "source": [
    "dpt_model_hist = dpt_model.fit(x_train, y_train,\n",
    "                               epochs=20,\n",
    "                               batch_size=512,\n",
    "                               validation_data=(x_test, y_test))"
   ]
  },
  {
   "cell_type": "markdown",
   "metadata": {},
   "source": [
    "Let's plot the results:"
   ]
  },
  {
   "cell_type": "code",
   "execution_count": 32,
   "metadata": {},
   "outputs": [
    {
     "data": {
      "image/png": "[encoded data removed]",
      "text/plain": [
       "<matplotlib.figure.Figure at 0x7f43baa91dd8>"
      ]
     },
     "metadata": {},
     "output_type": "display_data"
    }
   ],
   "source": [
    "dpt_model_val_loss = dpt_model_hist.history['val_loss']\n",
    "\n",
    "plt.plot(epochs, original_val_loss, 'b+', label='Original model')\n",
    "plt.plot(epochs, dpt_model_val_loss, 'bo', label='Dropout-regularized model')\n",
    "plt.xlabel('Epochs')\n",
    "plt.ylabel('Validation loss')\n",
    "plt.legend()\n",
    "\n",
    "plt.show()"
   ]
  },
  {
   "cell_type": "markdown",
   "metadata": {},
   "source": [
    "\n",
    "Again, a clear improvement over the reference network.\n",
    "\n",
    "To recap: here the most common ways to prevent overfitting in neural networks:\n",
    "\n",
    "* Getting more training data.\n",
    "* Reducing the capacity of the network.\n",
    "* Adding weight regularization.\n",
    "* Adding dropout."
   ]
  }
 ],
 "metadata": {
  "kernelspec": {
   "display_name": "Python 3 (ipykernel)",
   "language": "python",
   "name": "python3"
  },
  "language_info": {
   "codemirror_mode": {
    "name": "ipython",
    "version": 3
   },
   "file_extension": ".py",
   "mimetype": "text/x-python",
   "name": "python",
   "nbconvert_exporter": "python",
   "pygments_lexer": "ipython3",
   "version": "3.7.7"
  }
 },
 "nbformat": 4,
 "nbformat_minor": 4
}
